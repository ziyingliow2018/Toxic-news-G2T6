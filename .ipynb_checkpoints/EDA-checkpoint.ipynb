{
 "cells": [
  {
   "cell_type": "code",
   "execution_count": 11,
   "metadata": {},
   "outputs": [],
   "source": [
    "import pandas as pd\n",
    "import matplotlib.pyplot as plt\n",
    "import numpy as np\n",
    "import seaborn as sns"
   ]
  },
  {
   "cell_type": "code",
   "execution_count": 2,
   "metadata": {
    "scrolled": false
   },
   "outputs": [
    {
     "data": {
      "text/html": [
       "<div>\n",
       "<style scoped>\n",
       "    .dataframe tbody tr th:only-of-type {\n",
       "        vertical-align: middle;\n",
       "    }\n",
       "\n",
       "    .dataframe tbody tr th {\n",
       "        vertical-align: top;\n",
       "    }\n",
       "\n",
       "    .dataframe thead th {\n",
       "        text-align: right;\n",
       "    }\n",
       "</style>\n",
       "<table border=\"1\" class=\"dataframe\">\n",
       "  <thead>\n",
       "    <tr style=\"text-align: right;\">\n",
       "      <th></th>\n",
       "      <th>id</th>\n",
       "      <th>comment_text</th>\n",
       "      <th>toxic</th>\n",
       "      <th>severe_toxic</th>\n",
       "      <th>cleaned_text</th>\n",
       "      <th>count</th>\n",
       "    </tr>\n",
       "  </thead>\n",
       "  <tbody>\n",
       "    <tr>\n",
       "      <th>0</th>\n",
       "      <td>9e517781d3bf04b3</td>\n",
       "      <td>Blocking, gagging, and so forth \\n\\nDoes it no...</td>\n",
       "      <td>0</td>\n",
       "      <td>0</td>\n",
       "      <td>block gag forth feel bit ridiculous protect ta...</td>\n",
       "      <td>121</td>\n",
       "    </tr>\n",
       "    <tr>\n",
       "      <th>1</th>\n",
       "      <td>5310be9129cdd382</td>\n",
       "      <td>\"\\n\\n A cup of tea for you! \\n\\n  .   \"</td>\n",
       "      <td>0</td>\n",
       "      <td>0</td>\n",
       "      <td>cup tea</td>\n",
       "      <td>19</td>\n",
       "    </tr>\n",
       "    <tr>\n",
       "      <th>2</th>\n",
       "      <td>786d02526034fbe3</td>\n",
       "      <td>\":First point: Why should we keep this stuff? ...</td>\n",
       "      <td>0</td>\n",
       "      <td>0</td>\n",
       "      <td>first point keep stuff protoindoiranian cultur...</td>\n",
       "      <td>250</td>\n",
       "    </tr>\n",
       "    <tr>\n",
       "      <th>3</th>\n",
       "      <td>b60d10c5300853d3</td>\n",
       "      <td>\"\\nThanks. The problem is that BLOAT is the pr...</td>\n",
       "      <td>0</td>\n",
       "      <td>0</td>\n",
       "      <td>thanks problem bloat problem stuff need remove...</td>\n",
       "      <td>316</td>\n",
       "    </tr>\n",
       "    <tr>\n",
       "      <th>4</th>\n",
       "      <td>f6dda5b833093d07</td>\n",
       "      <td>I agree with SH, that sort of 'improvement' sh...</td>\n",
       "      <td>0</td>\n",
       "      <td>0</td>\n",
       "      <td>agree sh sort improvement illegal</td>\n",
       "      <td>52</td>\n",
       "    </tr>\n",
       "    <tr>\n",
       "      <th>...</th>\n",
       "      <td>...</td>\n",
       "      <td>...</td>\n",
       "      <td>...</td>\n",
       "      <td>...</td>\n",
       "      <td>...</td>\n",
       "      <td>...</td>\n",
       "    </tr>\n",
       "    <tr>\n",
       "      <th>19995</th>\n",
       "      <td>17eca6d66735a702</td>\n",
       "      <td>\"\\n\\n clarification needed \\n\\nExplain/clarify...</td>\n",
       "      <td>0</td>\n",
       "      <td>0</td>\n",
       "      <td>clarification need explainclarify word tolerat...</td>\n",
       "      <td>334</td>\n",
       "    </tr>\n",
       "    <tr>\n",
       "      <th>19996</th>\n",
       "      <td>59789fede899e8a6</td>\n",
       "      <td>\"\\nI'll get to work on that. I'm going to chan...</td>\n",
       "      <td>0</td>\n",
       "      <td>0</td>\n",
       "      <td>get work go change name wikiproject texas univ...</td>\n",
       "      <td>171</td>\n",
       "    </tr>\n",
       "    <tr>\n",
       "      <th>19997</th>\n",
       "      <td>d17edba9aef2bc07</td>\n",
       "      <td>Labeling edits as vandalism when they are clea...</td>\n",
       "      <td>0</td>\n",
       "      <td>0</td>\n",
       "      <td>label edits vandalism clearly personal attack</td>\n",
       "      <td>62</td>\n",
       "    </tr>\n",
       "    <tr>\n",
       "      <th>19998</th>\n",
       "      <td>78b621b6182a1d7c</td>\n",
       "      <td>\"\\nCould you please make this clear with the u...</td>\n",
       "      <td>0</td>\n",
       "      <td>0</td>\n",
       "      <td>could please make clear usual block template</td>\n",
       "      <td>58</td>\n",
       "    </tr>\n",
       "    <tr>\n",
       "      <th>19999</th>\n",
       "      <td>bd7a06c8991f55e8</td>\n",
       "      <td>bitch ,otherfucker that gotta write some dumb ...</td>\n",
       "      <td>1</td>\n",
       "      <td>0</td>\n",
       "      <td>bitch otherfucker get ta write dumb as shit</td>\n",
       "      <td>50</td>\n",
       "    </tr>\n",
       "  </tbody>\n",
       "</table>\n",
       "<p>20000 rows × 6 columns</p>\n",
       "</div>"
      ],
      "text/plain": [
       "                     id                                       comment_text  \\\n",
       "0      9e517781d3bf04b3  Blocking, gagging, and so forth \\n\\nDoes it no...   \n",
       "1      5310be9129cdd382            \"\\n\\n A cup of tea for you! \\n\\n  .   \"   \n",
       "2      786d02526034fbe3  \":First point: Why should we keep this stuff? ...   \n",
       "3      b60d10c5300853d3  \"\\nThanks. The problem is that BLOAT is the pr...   \n",
       "4      f6dda5b833093d07  I agree with SH, that sort of 'improvement' sh...   \n",
       "...                 ...                                                ...   \n",
       "19995  17eca6d66735a702  \"\\n\\n clarification needed \\n\\nExplain/clarify...   \n",
       "19996  59789fede899e8a6  \"\\nI'll get to work on that. I'm going to chan...   \n",
       "19997  d17edba9aef2bc07  Labeling edits as vandalism when they are clea...   \n",
       "19998  78b621b6182a1d7c  \"\\nCould you please make this clear with the u...   \n",
       "19999  bd7a06c8991f55e8  bitch ,otherfucker that gotta write some dumb ...   \n",
       "\n",
       "       toxic  severe_toxic                                       cleaned_text  \\\n",
       "0          0             0  block gag forth feel bit ridiculous protect ta...   \n",
       "1          0             0                                            cup tea   \n",
       "2          0             0  first point keep stuff protoindoiranian cultur...   \n",
       "3          0             0  thanks problem bloat problem stuff need remove...   \n",
       "4          0             0                  agree sh sort improvement illegal   \n",
       "...      ...           ...                                                ...   \n",
       "19995      0             0  clarification need explainclarify word tolerat...   \n",
       "19996      0             0  get work go change name wikiproject texas univ...   \n",
       "19997      0             0      label edits vandalism clearly personal attack   \n",
       "19998      0             0       could please make clear usual block template   \n",
       "19999      1             0        bitch otherfucker get ta write dumb as shit   \n",
       "\n",
       "       count  \n",
       "0        121  \n",
       "1         19  \n",
       "2        250  \n",
       "3        316  \n",
       "4         52  \n",
       "...      ...  \n",
       "19995    334  \n",
       "19996    171  \n",
       "19997     62  \n",
       "19998     58  \n",
       "19999     50  \n",
       "\n",
       "[20000 rows x 6 columns]"
      ]
     },
     "execution_count": 2,
     "metadata": {},
     "output_type": "execute_result"
    }
   ],
   "source": [
    "#read csv file\n",
    "data = pd.read_csv('dataset/Cleaned_Data.csv')\n",
    "data.drop(columns=['Unnamed: 0'],inplace=True)\n",
    "data"
   ]
  },
  {
   "cell_type": "markdown",
   "metadata": {},
   "source": [
    "# Oversampling"
   ]
  },
  {
   "cell_type": "code",
   "execution_count": 19,
   "metadata": {},
   "outputs": [
    {
     "name": "stdout",
     "output_type": "stream",
     "text": [
      "Counter({0: 18114, 1: 1886})\n",
      "Counter({0: 18114, 1: 18114})\n"
     ]
    }
   ],
   "source": [
    "# # check version number\n",
    "import imblearn\n",
    "# example of random oversampling to balance the class distribution\n",
    "from collections import Counter\n",
    "from sklearn.datasets import make_classification\n",
    "from imblearn.over_sampling import RandomOverSampler\n",
    "# example of random oversampling to balance the class distribution\n",
    "# define dataset\n",
    "X =  data.drop(columns=['toxic'],axis=1)\n",
    "\n",
    "# target\n",
    "y =  data[\"toxic\"]\n",
    "# summarize class distribution\n",
    "print(Counter(y))\n",
    "# define oversampling strategy\n",
    "oversample = RandomOverSampler(sampling_strategy='all')\n",
    "# fit and apply the transform\n",
    "X_over, y_over = oversample.fit_resample(X, y)\n",
    "# summarize class distribution\n",
    "\n",
    "# define oversampling strategy\n",
    "oversample = RandomOverSampler(sampling_strategy='all')\n",
    "\n",
    "# define oversampling strategy\n",
    "oversample = RandomOverSampler(sampling_strategy=1)\n",
    "# fit and apply the transform\n",
    "X_over, y_over = oversample.fit_resample(X, y)\n",
    "print(Counter(y_over))"
   ]
  },
  {
   "cell_type": "code",
   "execution_count": 22,
   "metadata": {
    "scrolled": false
   },
   "outputs": [
    {
     "data": {
      "text/html": [
       "<div>\n",
       "<style scoped>\n",
       "    .dataframe tbody tr th:only-of-type {\n",
       "        vertical-align: middle;\n",
       "    }\n",
       "\n",
       "    .dataframe tbody tr th {\n",
       "        vertical-align: top;\n",
       "    }\n",
       "\n",
       "    .dataframe thead th {\n",
       "        text-align: right;\n",
       "    }\n",
       "</style>\n",
       "<table border=\"1\" class=\"dataframe\">\n",
       "  <thead>\n",
       "    <tr style=\"text-align: right;\">\n",
       "      <th></th>\n",
       "      <th>id</th>\n",
       "      <th>comment_text</th>\n",
       "      <th>severe_toxic</th>\n",
       "      <th>cleaned_text</th>\n",
       "      <th>count</th>\n",
       "      <th>toxic</th>\n",
       "    </tr>\n",
       "  </thead>\n",
       "  <tbody>\n",
       "    <tr>\n",
       "      <th>0</th>\n",
       "      <td>9e517781d3bf04b3</td>\n",
       "      <td>Blocking, gagging, and so forth \\n\\nDoes it no...</td>\n",
       "      <td>0</td>\n",
       "      <td>block gag forth feel bit ridiculous protect ta...</td>\n",
       "      <td>121</td>\n",
       "      <td>0</td>\n",
       "    </tr>\n",
       "    <tr>\n",
       "      <th>1</th>\n",
       "      <td>5310be9129cdd382</td>\n",
       "      <td>\"\\n\\n A cup of tea for you! \\n\\n  .   \"</td>\n",
       "      <td>0</td>\n",
       "      <td>cup tea</td>\n",
       "      <td>19</td>\n",
       "      <td>0</td>\n",
       "    </tr>\n",
       "    <tr>\n",
       "      <th>2</th>\n",
       "      <td>786d02526034fbe3</td>\n",
       "      <td>\":First point: Why should we keep this stuff? ...</td>\n",
       "      <td>0</td>\n",
       "      <td>first point keep stuff protoindoiranian cultur...</td>\n",
       "      <td>250</td>\n",
       "      <td>0</td>\n",
       "    </tr>\n",
       "    <tr>\n",
       "      <th>3</th>\n",
       "      <td>b60d10c5300853d3</td>\n",
       "      <td>\"\\nThanks. The problem is that BLOAT is the pr...</td>\n",
       "      <td>0</td>\n",
       "      <td>thanks problem bloat problem stuff need remove...</td>\n",
       "      <td>316</td>\n",
       "      <td>0</td>\n",
       "    </tr>\n",
       "    <tr>\n",
       "      <th>4</th>\n",
       "      <td>f6dda5b833093d07</td>\n",
       "      <td>I agree with SH, that sort of 'improvement' sh...</td>\n",
       "      <td>0</td>\n",
       "      <td>agree sh sort improvement illegal</td>\n",
       "      <td>52</td>\n",
       "      <td>0</td>\n",
       "    </tr>\n",
       "    <tr>\n",
       "      <th>...</th>\n",
       "      <td>...</td>\n",
       "      <td>...</td>\n",
       "      <td>...</td>\n",
       "      <td>...</td>\n",
       "      <td>...</td>\n",
       "      <td>...</td>\n",
       "    </tr>\n",
       "    <tr>\n",
       "      <th>36223</th>\n",
       "      <td>1537771dae396196</td>\n",
       "      <td>You are contradicting your own sources, as the...</td>\n",
       "      <td>0</td>\n",
       "      <td>contradict source use capital stupid bastard l...</td>\n",
       "      <td>179</td>\n",
       "      <td>1</td>\n",
       "    </tr>\n",
       "    <tr>\n",
       "      <th>36224</th>\n",
       "      <td>025f563993f26d64</td>\n",
       "      <td>Hey you cunt armchair lawyer\\nDo you like it? ...</td>\n",
       "      <td>0</td>\n",
       "      <td>hey cunt armchair lawyer like sit mom basement...</td>\n",
       "      <td>124</td>\n",
       "      <td>1</td>\n",
       "    </tr>\n",
       "    <tr>\n",
       "      <th>36225</th>\n",
       "      <td>4642d68a60307935</td>\n",
       "      <td>\"\\n\\nfisto is a retard nigger.\"</td>\n",
       "      <td>0</td>\n",
       "      <td>fisto retard nigger</td>\n",
       "      <td>23</td>\n",
       "      <td>1</td>\n",
       "    </tr>\n",
       "    <tr>\n",
       "      <th>36226</th>\n",
       "      <td>e0df82d3ba13d218</td>\n",
       "      <td>HEHE OH I AM VERY OFFENDED' LMAO YOUR JUST A H...</td>\n",
       "      <td>0</td>\n",
       "      <td>hehe oh offend lmao homosexual blow jobbin old...</td>\n",
       "      <td>63</td>\n",
       "      <td>1</td>\n",
       "    </tr>\n",
       "    <tr>\n",
       "      <th>36227</th>\n",
       "      <td>62335bc18692ce97</td>\n",
       "      <td>I Should be Surprised\\n\\nBut I'm not. Its exac...</td>\n",
       "      <td>0</td>\n",
       "      <td>surprise exactly kind spineless response antic...</td>\n",
       "      <td>757</td>\n",
       "      <td>1</td>\n",
       "    </tr>\n",
       "  </tbody>\n",
       "</table>\n",
       "<p>36228 rows × 6 columns</p>\n",
       "</div>"
      ],
      "text/plain": [
       "                     id                                       comment_text  \\\n",
       "0      9e517781d3bf04b3  Blocking, gagging, and so forth \\n\\nDoes it no...   \n",
       "1      5310be9129cdd382            \"\\n\\n A cup of tea for you! \\n\\n  .   \"   \n",
       "2      786d02526034fbe3  \":First point: Why should we keep this stuff? ...   \n",
       "3      b60d10c5300853d3  \"\\nThanks. The problem is that BLOAT is the pr...   \n",
       "4      f6dda5b833093d07  I agree with SH, that sort of 'improvement' sh...   \n",
       "...                 ...                                                ...   \n",
       "36223  1537771dae396196  You are contradicting your own sources, as the...   \n",
       "36224  025f563993f26d64  Hey you cunt armchair lawyer\\nDo you like it? ...   \n",
       "36225  4642d68a60307935                    \"\\n\\nfisto is a retard nigger.\"   \n",
       "36226  e0df82d3ba13d218  HEHE OH I AM VERY OFFENDED' LMAO YOUR JUST A H...   \n",
       "36227  62335bc18692ce97  I Should be Surprised\\n\\nBut I'm not. Its exac...   \n",
       "\n",
       "       severe_toxic                                       cleaned_text  count  \\\n",
       "0                 0  block gag forth feel bit ridiculous protect ta...    121   \n",
       "1                 0                                            cup tea     19   \n",
       "2                 0  first point keep stuff protoindoiranian cultur...    250   \n",
       "3                 0  thanks problem bloat problem stuff need remove...    316   \n",
       "4                 0                  agree sh sort improvement illegal     52   \n",
       "...             ...                                                ...    ...   \n",
       "36223             0  contradict source use capital stupid bastard l...    179   \n",
       "36224             0  hey cunt armchair lawyer like sit mom basement...    124   \n",
       "36225             0                                fisto retard nigger     23   \n",
       "36226             0  hehe oh offend lmao homosexual blow jobbin old...     63   \n",
       "36227             0  surprise exactly kind spineless response antic...    757   \n",
       "\n",
       "       toxic  \n",
       "0          0  \n",
       "1          0  \n",
       "2          0  \n",
       "3          0  \n",
       "4          0  \n",
       "...      ...  \n",
       "36223      1  \n",
       "36224      1  \n",
       "36225      1  \n",
       "36226      1  \n",
       "36227      1  \n",
       "\n",
       "[36228 rows x 6 columns]"
      ]
     },
     "execution_count": 22,
     "metadata": {},
     "output_type": "execute_result"
    }
   ],
   "source": [
    "oversampling_df = X_over\n",
    "oversampling_df['toxic'] = y_over.tolist()\n",
    "oversampling_df"
   ]
  },
  {
   "cell_type": "code",
   "execution_count": 23,
   "metadata": {},
   "outputs": [
    {
     "data": {
      "text/plain": [
       "<matplotlib.axes._subplots.AxesSubplot at 0x24bf8592eb0>"
      ]
     },
     "execution_count": 23,
     "metadata": {},
     "output_type": "execute_result"
    },
    {
     "data": {
      "image/png": "[encoded data removed]",
      "text/plain": [
       "<Figure size 432x720 with 1 Axes>"
      ]
     },
     "metadata": {
      "needs_background": "light"
     },
     "output_type": "display_data"
    }
   ],
   "source": [
    "#toxic\n",
    "plt.figure(figsize=(6, 10))\n",
    "sns.countplot(oversampling_df['toxic'])"
   ]
  },
  {
   "cell_type": "code",
   "execution_count": null,
   "metadata": {},
   "outputs": [],
   "source": []
  },
  {
   "cell_type": "code",
   "execution_count": null,
   "metadata": {},
   "outputs": [],
   "source": []
  },
  {
   "cell_type": "code",
   "execution_count": 25,
   "metadata": {},
   "outputs": [
    {
     "name": "stdout",
     "output_type": "stream",
     "text": [
      "Counter({0: 18114, 1: 1886})\n",
      "Counter({0: 1886, 1: 1886})\n"
     ]
    }
   ],
   "source": [
    "# # check version number\n",
    "import imblearn\n",
    "# example of random oversampling to balance the class distribution\n",
    "from collections import Counter\n",
    "from sklearn.datasets import make_classification\n",
    "from imblearn.under_sampling import RandomUnderSampler\n",
    "# example of random oversampling to balance the class distribution\n",
    "# define dataset\n",
    "X =  data.drop(columns=['toxic'],axis=1)\n",
    "\n",
    "# target\n",
    "y =  data[\"toxic\"]\n",
    "# summarize class distribution\n",
    "print(Counter(y))\n",
    "# define oversampling strategy\n",
    "undersample = RandomUnderSampler(sampling_strategy='auto')\n",
    "# fit and apply the transform\n",
    "X_over, y_over = undersample.fit_resample(X, y)\n",
    "# summarize class distribution\n",
    "\n",
    "# define oversampling strategy\n",
    "undersample = RandomUnderSampler(sampling_strategy='auto')\n",
    "\n",
    "# define oversampling strategy\n",
    "undersample = RandomUnderSampler(sampling_strategy=1)\n",
    "# fit and apply the transform\n",
    "X_over, y_over = undersample.fit_resample(X, y)\n",
    "print(Counter(y_over))"
   ]
  },
  {
   "cell_type": "code",
   "execution_count": 26,
   "metadata": {},
   "outputs": [
    {
     "data": {
      "text/html": [
       "<div>\n",
       "<style scoped>\n",
       "    .dataframe tbody tr th:only-of-type {\n",
       "        vertical-align: middle;\n",
       "    }\n",
       "\n",
       "    .dataframe tbody tr th {\n",
       "        vertical-align: top;\n",
       "    }\n",
       "\n",
       "    .dataframe thead th {\n",
       "        text-align: right;\n",
       "    }\n",
       "</style>\n",
       "<table border=\"1\" class=\"dataframe\">\n",
       "  <thead>\n",
       "    <tr style=\"text-align: right;\">\n",
       "      <th></th>\n",
       "      <th>id</th>\n",
       "      <th>comment_text</th>\n",
       "      <th>severe_toxic</th>\n",
       "      <th>cleaned_text</th>\n",
       "      <th>count</th>\n",
       "      <th>toxic</th>\n",
       "    </tr>\n",
       "  </thead>\n",
       "  <tbody>\n",
       "    <tr>\n",
       "      <th>0</th>\n",
       "      <td>d665a0a940e907de</td>\n",
       "      <td>The Origins of Schizophrenia, published 2012 b...</td>\n",
       "      <td>0</td>\n",
       "      <td>origin schizophrenia publish columbia universi...</td>\n",
       "      <td>92</td>\n",
       "      <td>0</td>\n",
       "    </tr>\n",
       "    <tr>\n",
       "      <th>1</th>\n",
       "      <td>5a35bcfcd40830fe</td>\n",
       "      <td>\"\\n\\n References \\n\\nIs there any reason what ...</td>\n",
       "      <td>0</td>\n",
       "      <td>reference reason list need cite source see nee...</td>\n",
       "      <td>174</td>\n",
       "      <td>0</td>\n",
       "    </tr>\n",
       "    <tr>\n",
       "      <th>2</th>\n",
       "      <td>c8e15bb3119d4751</td>\n",
       "      <td>\"\\n\\n Administrator Complaint Filed Against Yo...</td>\n",
       "      <td>0</td>\n",
       "      <td>administrator complaint file request edit arti...</td>\n",
       "      <td>1009</td>\n",
       "      <td>0</td>\n",
       "    </tr>\n",
       "    <tr>\n",
       "      <th>3</th>\n",
       "      <td>8337eea9a8f12e33</td>\n",
       "      <td>so whats up with this chris nelson dude?  why ...</td>\n",
       "      <td>0</td>\n",
       "      <td>whats chris nelson dude leery</td>\n",
       "      <td>55</td>\n",
       "      <td>0</td>\n",
       "    </tr>\n",
       "    <tr>\n",
       "      <th>4</th>\n",
       "      <td>3e49f441c9de7a6f</td>\n",
       "      <td>Gwernol like unwashed lederhosen</td>\n",
       "      <td>0</td>\n",
       "      <td>gwernol like unwashed lederhosen</td>\n",
       "      <td>29</td>\n",
       "      <td>0</td>\n",
       "    </tr>\n",
       "    <tr>\n",
       "      <th>...</th>\n",
       "      <td>...</td>\n",
       "      <td>...</td>\n",
       "      <td>...</td>\n",
       "      <td>...</td>\n",
       "      <td>...</td>\n",
       "      <td>...</td>\n",
       "    </tr>\n",
       "    <tr>\n",
       "      <th>3767</th>\n",
       "      <td>edd28981dd206902</td>\n",
       "      <td>\"\\n\\n th \\n\\n  th thanks for deleting my fucki...</td>\n",
       "      <td>0</td>\n",
       "      <td>th th thanks delete fuck thing ive try work ge...</td>\n",
       "      <td>491</td>\n",
       "      <td>1</td>\n",
       "    </tr>\n",
       "    <tr>\n",
       "      <th>3768</th>\n",
       "      <td>918747ca1ebc96c8</td>\n",
       "      <td>Shut the hell up. (</td>\n",
       "      <td>0</td>\n",
       "      <td>shut hell</td>\n",
       "      <td>15</td>\n",
       "      <td>1</td>\n",
       "    </tr>\n",
       "    <tr>\n",
       "      <th>3769</th>\n",
       "      <td>f387d30a8f78d3bd</td>\n",
       "      <td>you senile old homo. is there a commie in the ...</td>\n",
       "      <td>0</td>\n",
       "      <td>senile old homo commie world convince bullshit...</td>\n",
       "      <td>83</td>\n",
       "      <td>1</td>\n",
       "    </tr>\n",
       "    <tr>\n",
       "      <th>3770</th>\n",
       "      <td>ddee48750f435a0e</td>\n",
       "      <td>I see you have resorted to bullying tactics\\n\\...</td>\n",
       "      <td>0</td>\n",
       "      <td>see resort bully tactic well shall become long...</td>\n",
       "      <td>132</td>\n",
       "      <td>1</td>\n",
       "    </tr>\n",
       "    <tr>\n",
       "      <th>3771</th>\n",
       "      <td>bd7a06c8991f55e8</td>\n",
       "      <td>bitch ,otherfucker that gotta write some dumb ...</td>\n",
       "      <td>0</td>\n",
       "      <td>bitch otherfucker get ta write dumb as shit</td>\n",
       "      <td>50</td>\n",
       "      <td>1</td>\n",
       "    </tr>\n",
       "  </tbody>\n",
       "</table>\n",
       "<p>3772 rows × 6 columns</p>\n",
       "</div>"
      ],
      "text/plain": [
       "                    id                                       comment_text  \\\n",
       "0     d665a0a940e907de  The Origins of Schizophrenia, published 2012 b...   \n",
       "1     5a35bcfcd40830fe  \"\\n\\n References \\n\\nIs there any reason what ...   \n",
       "2     c8e15bb3119d4751  \"\\n\\n Administrator Complaint Filed Against Yo...   \n",
       "3     8337eea9a8f12e33  so whats up with this chris nelson dude?  why ...   \n",
       "4     3e49f441c9de7a6f                   Gwernol like unwashed lederhosen   \n",
       "...                ...                                                ...   \n",
       "3767  edd28981dd206902  \"\\n\\n th \\n\\n  th thanks for deleting my fucki...   \n",
       "3768  918747ca1ebc96c8                                Shut the hell up. (   \n",
       "3769  f387d30a8f78d3bd  you senile old homo. is there a commie in the ...   \n",
       "3770  ddee48750f435a0e  I see you have resorted to bullying tactics\\n\\...   \n",
       "3771  bd7a06c8991f55e8  bitch ,otherfucker that gotta write some dumb ...   \n",
       "\n",
       "      severe_toxic                                       cleaned_text  count  \\\n",
       "0                0  origin schizophrenia publish columbia universi...     92   \n",
       "1                0  reference reason list need cite source see nee...    174   \n",
       "2                0  administrator complaint file request edit arti...   1009   \n",
       "3                0                      whats chris nelson dude leery     55   \n",
       "4                0                   gwernol like unwashed lederhosen     29   \n",
       "...            ...                                                ...    ...   \n",
       "3767             0  th th thanks delete fuck thing ive try work ge...    491   \n",
       "3768             0                                          shut hell     15   \n",
       "3769             0  senile old homo commie world convince bullshit...     83   \n",
       "3770             0  see resort bully tactic well shall become long...    132   \n",
       "3771             0        bitch otherfucker get ta write dumb as shit     50   \n",
       "\n",
       "      toxic  \n",
       "0         0  \n",
       "1         0  \n",
       "2         0  \n",
       "3         0  \n",
       "4         0  \n",
       "...     ...  \n",
       "3767      1  \n",
       "3768      1  \n",
       "3769      1  \n",
       "3770      1  \n",
       "3771      1  \n",
       "\n",
       "[3772 rows x 6 columns]"
      ]
     },
     "execution_count": 26,
     "metadata": {},
     "output_type": "execute_result"
    }
   ],
   "source": [
    "undersampling_df = X_over\n",
    "undersampling_df['toxic'] = y_over.tolist()\n",
    "undersampling_df"
   ]
  },
  {
   "cell_type": "code",
   "execution_count": 27,
   "metadata": {},
   "outputs": [
    {
     "data": {
      "text/plain": [
       "<matplotlib.axes._subplots.AxesSubplot at 0x24bf8592a00>"
      ]
     },
     "execution_count": 27,
     "metadata": {},
     "output_type": "execute_result"
    },
    {
     "data": {
      "image/png": "[encoded data removed]",
      "text/plain": [
       "<Figure size 432x720 with 1 Axes>"
      ]
     },
     "metadata": {
      "needs_background": "light"
     },
     "output_type": "display_data"
    }
   ],
   "source": [
    "#toxic\n",
    "plt.figure(figsize=(6, 10))\n",
    "sns.countplot(undersampling_df['toxic'])"
   ]
  },
  {
   "cell_type": "code",
   "execution_count": null,
   "metadata": {},
   "outputs": [],
   "source": []
  },
  {
   "cell_type": "code",
   "execution_count": null,
   "metadata": {},
   "outputs": [],
   "source": []
  },
  {
   "cell_type": "code",
   "execution_count": 13,
   "metadata": {},
   "outputs": [
    {
     "ename": "ValueError",
     "evalue": "could not convert string to float: 'Blocking, gagging, and so forth \\n\\nDoes it not feel a bit ridiculous, protecting the talk page of a featured article for no real reason? 80.42.3.248'",
     "output_type": "error",
     "traceback": [
      "\u001b[1;31m---------------------------------------------------------------------------\u001b[0m",
      "\u001b[1;31mValueError\u001b[0m                                Traceback (most recent call last)",
      "\u001b[1;32m<ipython-input-13-cd7683460b16>\u001b[0m in \u001b[0;36m<module>\u001b[1;34m\u001b[0m\n\u001b[0;32m      9\u001b[0m \u001b[1;31m#Oversampling the data\u001b[0m\u001b[1;33m\u001b[0m\u001b[1;33m\u001b[0m\u001b[1;33m\u001b[0m\u001b[0m\n\u001b[0;32m     10\u001b[0m \u001b[0msmote\u001b[0m \u001b[1;33m=\u001b[0m \u001b[0mSMOTE\u001b[0m\u001b[1;33m(\u001b[0m\u001b[0mrandom_state\u001b[0m \u001b[1;33m=\u001b[0m \u001b[1;36m101\u001b[0m\u001b[1;33m)\u001b[0m\u001b[1;33m\u001b[0m\u001b[1;33m\u001b[0m\u001b[0m\n\u001b[1;32m---> 11\u001b[1;33m \u001b[0mX\u001b[0m\u001b[1;33m,\u001b[0m \u001b[0my\u001b[0m \u001b[1;33m=\u001b[0m \u001b[0msmote\u001b[0m\u001b[1;33m.\u001b[0m\u001b[0mfit_resample\u001b[0m\u001b[1;33m(\u001b[0m\u001b[0mdata\u001b[0m\u001b[1;33m.\u001b[0m\u001b[0mdrop\u001b[0m\u001b[1;33m(\u001b[0m\u001b[0mcolumns\u001b[0m\u001b[1;33m=\u001b[0m\u001b[1;33m[\u001b[0m\u001b[1;34m'toxic'\u001b[0m\u001b[1;33m,\u001b[0m\u001b[1;34m'id'\u001b[0m\u001b[1;33m]\u001b[0m\u001b[1;33m,\u001b[0m\u001b[0maxis\u001b[0m\u001b[1;33m=\u001b[0m\u001b[1;36m1\u001b[0m\u001b[1;33m)\u001b[0m\u001b[1;33m,\u001b[0m \u001b[0mdata\u001b[0m\u001b[1;33m[\u001b[0m\u001b[1;34m'toxic'\u001b[0m\u001b[1;33m]\u001b[0m\u001b[1;33m)\u001b[0m\u001b[1;33m\u001b[0m\u001b[1;33m\u001b[0m\u001b[0m\n\u001b[0m\u001b[0;32m     12\u001b[0m \u001b[1;31m#Creating a new Oversampling Data Frame\u001b[0m\u001b[1;33m\u001b[0m\u001b[1;33m\u001b[0m\u001b[1;33m\u001b[0m\u001b[0m\n\u001b[0;32m     13\u001b[0m \u001b[0mdf_oversampler\u001b[0m \u001b[1;33m=\u001b[0m \u001b[0mpd\u001b[0m\u001b[1;33m.\u001b[0m\u001b[0mDataFrame\u001b[0m\u001b[1;33m(\u001b[0m\u001b[0mX\u001b[0m\u001b[1;33m,\u001b[0m \u001b[0mcolumns\u001b[0m \u001b[1;33m=\u001b[0m \u001b[1;33m[\u001b[0m\u001b[1;34m'comment_text'\u001b[0m\u001b[1;33m,\u001b[0m\u001b[1;34m'severe_toxic'\u001b[0m\u001b[1;33m,\u001b[0m\u001b[1;34m'cleaned_text'\u001b[0m\u001b[1;33m,\u001b[0m\u001b[1;34m'count'\u001b[0m\u001b[1;33m]\u001b[0m\u001b[1;33m)\u001b[0m\u001b[1;33m\u001b[0m\u001b[1;33m\u001b[0m\u001b[0m\n",
      "\u001b[1;32m~\\anaconda3\\lib\\site-packages\\imblearn\\base.py\u001b[0m in \u001b[0;36mfit_resample\u001b[1;34m(self, X, y)\u001b[0m\n\u001b[0;32m     75\u001b[0m         \u001b[0mcheck_classification_targets\u001b[0m\u001b[1;33m(\u001b[0m\u001b[0my\u001b[0m\u001b[1;33m)\u001b[0m\u001b[1;33m\u001b[0m\u001b[1;33m\u001b[0m\u001b[0m\n\u001b[0;32m     76\u001b[0m         \u001b[0marrays_transformer\u001b[0m \u001b[1;33m=\u001b[0m \u001b[0mArraysTransformer\u001b[0m\u001b[1;33m(\u001b[0m\u001b[0mX\u001b[0m\u001b[1;33m,\u001b[0m \u001b[0my\u001b[0m\u001b[1;33m)\u001b[0m\u001b[1;33m\u001b[0m\u001b[1;33m\u001b[0m\u001b[0m\n\u001b[1;32m---> 77\u001b[1;33m         \u001b[0mX\u001b[0m\u001b[1;33m,\u001b[0m \u001b[0my\u001b[0m\u001b[1;33m,\u001b[0m \u001b[0mbinarize_y\u001b[0m \u001b[1;33m=\u001b[0m \u001b[0mself\u001b[0m\u001b[1;33m.\u001b[0m\u001b[0m_check_X_y\u001b[0m\u001b[1;33m(\u001b[0m\u001b[0mX\u001b[0m\u001b[1;33m,\u001b[0m \u001b[0my\u001b[0m\u001b[1;33m)\u001b[0m\u001b[1;33m\u001b[0m\u001b[1;33m\u001b[0m\u001b[0m\n\u001b[0m\u001b[0;32m     78\u001b[0m \u001b[1;33m\u001b[0m\u001b[0m\n\u001b[0;32m     79\u001b[0m         self.sampling_strategy_ = check_sampling_strategy(\n",
      "\u001b[1;32m~\\anaconda3\\lib\\site-packages\\imblearn\\base.py\u001b[0m in \u001b[0;36m_check_X_y\u001b[1;34m(self, X, y, accept_sparse)\u001b[0m\n\u001b[0;32m    130\u001b[0m             \u001b[0maccept_sparse\u001b[0m \u001b[1;33m=\u001b[0m \u001b[1;33m[\u001b[0m\u001b[1;34m\"csr\"\u001b[0m\u001b[1;33m,\u001b[0m \u001b[1;34m\"csc\"\u001b[0m\u001b[1;33m]\u001b[0m\u001b[1;33m\u001b[0m\u001b[1;33m\u001b[0m\u001b[0m\n\u001b[0;32m    131\u001b[0m         \u001b[0my\u001b[0m\u001b[1;33m,\u001b[0m \u001b[0mbinarize_y\u001b[0m \u001b[1;33m=\u001b[0m \u001b[0mcheck_target_type\u001b[0m\u001b[1;33m(\u001b[0m\u001b[0my\u001b[0m\u001b[1;33m,\u001b[0m \u001b[0mindicate_one_vs_all\u001b[0m\u001b[1;33m=\u001b[0m\u001b[1;32mTrue\u001b[0m\u001b[1;33m)\u001b[0m\u001b[1;33m\u001b[0m\u001b[1;33m\u001b[0m\u001b[0m\n\u001b[1;32m--> 132\u001b[1;33m         \u001b[0mX\u001b[0m\u001b[1;33m,\u001b[0m \u001b[0my\u001b[0m \u001b[1;33m=\u001b[0m \u001b[0mself\u001b[0m\u001b[1;33m.\u001b[0m\u001b[0m_validate_data\u001b[0m\u001b[1;33m(\u001b[0m\u001b[0mX\u001b[0m\u001b[1;33m,\u001b[0m \u001b[0my\u001b[0m\u001b[1;33m,\u001b[0m \u001b[0mreset\u001b[0m\u001b[1;33m=\u001b[0m\u001b[1;32mTrue\u001b[0m\u001b[1;33m,\u001b[0m \u001b[0maccept_sparse\u001b[0m\u001b[1;33m=\u001b[0m\u001b[0maccept_sparse\u001b[0m\u001b[1;33m)\u001b[0m\u001b[1;33m\u001b[0m\u001b[1;33m\u001b[0m\u001b[0m\n\u001b[0m\u001b[0;32m    133\u001b[0m         \u001b[1;32mreturn\u001b[0m \u001b[0mX\u001b[0m\u001b[1;33m,\u001b[0m \u001b[0my\u001b[0m\u001b[1;33m,\u001b[0m \u001b[0mbinarize_y\u001b[0m\u001b[1;33m\u001b[0m\u001b[1;33m\u001b[0m\u001b[0m\n\u001b[0;32m    134\u001b[0m \u001b[1;33m\u001b[0m\u001b[0m\n",
      "\u001b[1;32m~\\anaconda3\\lib\\site-packages\\sklearn\\base.py\u001b[0m in \u001b[0;36m_validate_data\u001b[1;34m(self, X, y, reset, validate_separately, **check_params)\u001b[0m\n\u001b[0;32m    579\u001b[0m                 \u001b[0my\u001b[0m \u001b[1;33m=\u001b[0m \u001b[0mcheck_array\u001b[0m\u001b[1;33m(\u001b[0m\u001b[0my\u001b[0m\u001b[1;33m,\u001b[0m \u001b[1;33m**\u001b[0m\u001b[0mcheck_y_params\u001b[0m\u001b[1;33m)\u001b[0m\u001b[1;33m\u001b[0m\u001b[1;33m\u001b[0m\u001b[0m\n\u001b[0;32m    580\u001b[0m             \u001b[1;32melse\u001b[0m\u001b[1;33m:\u001b[0m\u001b[1;33m\u001b[0m\u001b[1;33m\u001b[0m\u001b[0m\n\u001b[1;32m--> 581\u001b[1;33m                 \u001b[0mX\u001b[0m\u001b[1;33m,\u001b[0m \u001b[0my\u001b[0m \u001b[1;33m=\u001b[0m \u001b[0mcheck_X_y\u001b[0m\u001b[1;33m(\u001b[0m\u001b[0mX\u001b[0m\u001b[1;33m,\u001b[0m \u001b[0my\u001b[0m\u001b[1;33m,\u001b[0m \u001b[1;33m**\u001b[0m\u001b[0mcheck_params\u001b[0m\u001b[1;33m)\u001b[0m\u001b[1;33m\u001b[0m\u001b[1;33m\u001b[0m\u001b[0m\n\u001b[0m\u001b[0;32m    582\u001b[0m             \u001b[0mout\u001b[0m \u001b[1;33m=\u001b[0m \u001b[0mX\u001b[0m\u001b[1;33m,\u001b[0m \u001b[0my\u001b[0m\u001b[1;33m\u001b[0m\u001b[1;33m\u001b[0m\u001b[0m\n\u001b[0;32m    583\u001b[0m \u001b[1;33m\u001b[0m\u001b[0m\n",
      "\u001b[1;32m~\\anaconda3\\lib\\site-packages\\sklearn\\utils\\validation.py\u001b[0m in \u001b[0;36mcheck_X_y\u001b[1;34m(X, y, accept_sparse, accept_large_sparse, dtype, order, copy, force_all_finite, ensure_2d, allow_nd, multi_output, ensure_min_samples, ensure_min_features, y_numeric, estimator)\u001b[0m\n\u001b[0;32m    962\u001b[0m         \u001b[1;32mraise\u001b[0m \u001b[0mValueError\u001b[0m\u001b[1;33m(\u001b[0m\u001b[1;34m\"y cannot be None\"\u001b[0m\u001b[1;33m)\u001b[0m\u001b[1;33m\u001b[0m\u001b[1;33m\u001b[0m\u001b[0m\n\u001b[0;32m    963\u001b[0m \u001b[1;33m\u001b[0m\u001b[0m\n\u001b[1;32m--> 964\u001b[1;33m     X = check_array(\n\u001b[0m\u001b[0;32m    965\u001b[0m         \u001b[0mX\u001b[0m\u001b[1;33m,\u001b[0m\u001b[1;33m\u001b[0m\u001b[1;33m\u001b[0m\u001b[0m\n\u001b[0;32m    966\u001b[0m         \u001b[0maccept_sparse\u001b[0m\u001b[1;33m=\u001b[0m\u001b[0maccept_sparse\u001b[0m\u001b[1;33m,\u001b[0m\u001b[1;33m\u001b[0m\u001b[1;33m\u001b[0m\u001b[0m\n",
      "\u001b[1;32m~\\anaconda3\\lib\\site-packages\\sklearn\\utils\\validation.py\u001b[0m in \u001b[0;36mcheck_array\u001b[1;34m(array, accept_sparse, accept_large_sparse, dtype, order, copy, force_all_finite, ensure_2d, allow_nd, ensure_min_samples, ensure_min_features, estimator)\u001b[0m\n\u001b[0;32m    744\u001b[0m                     \u001b[0marray\u001b[0m \u001b[1;33m=\u001b[0m \u001b[0marray\u001b[0m\u001b[1;33m.\u001b[0m\u001b[0mastype\u001b[0m\u001b[1;33m(\u001b[0m\u001b[0mdtype\u001b[0m\u001b[1;33m,\u001b[0m \u001b[0mcasting\u001b[0m\u001b[1;33m=\u001b[0m\u001b[1;34m\"unsafe\"\u001b[0m\u001b[1;33m,\u001b[0m \u001b[0mcopy\u001b[0m\u001b[1;33m=\u001b[0m\u001b[1;32mFalse\u001b[0m\u001b[1;33m)\u001b[0m\u001b[1;33m\u001b[0m\u001b[1;33m\u001b[0m\u001b[0m\n\u001b[0;32m    745\u001b[0m                 \u001b[1;32melse\u001b[0m\u001b[1;33m:\u001b[0m\u001b[1;33m\u001b[0m\u001b[1;33m\u001b[0m\u001b[0m\n\u001b[1;32m--> 746\u001b[1;33m                     \u001b[0marray\u001b[0m \u001b[1;33m=\u001b[0m \u001b[0mnp\u001b[0m\u001b[1;33m.\u001b[0m\u001b[0masarray\u001b[0m\u001b[1;33m(\u001b[0m\u001b[0marray\u001b[0m\u001b[1;33m,\u001b[0m \u001b[0morder\u001b[0m\u001b[1;33m=\u001b[0m\u001b[0morder\u001b[0m\u001b[1;33m,\u001b[0m \u001b[0mdtype\u001b[0m\u001b[1;33m=\u001b[0m\u001b[0mdtype\u001b[0m\u001b[1;33m)\u001b[0m\u001b[1;33m\u001b[0m\u001b[1;33m\u001b[0m\u001b[0m\n\u001b[0m\u001b[0;32m    747\u001b[0m             \u001b[1;32mexcept\u001b[0m \u001b[0mComplexWarning\u001b[0m \u001b[1;32mas\u001b[0m \u001b[0mcomplex_warning\u001b[0m\u001b[1;33m:\u001b[0m\u001b[1;33m\u001b[0m\u001b[1;33m\u001b[0m\u001b[0m\n\u001b[0;32m    748\u001b[0m                 raise ValueError(\n",
      "\u001b[1;32m~\\anaconda3\\lib\\site-packages\\numpy\\core\\_asarray.py\u001b[0m in \u001b[0;36masarray\u001b[1;34m(a, dtype, order)\u001b[0m\n\u001b[0;32m     83\u001b[0m \u001b[1;33m\u001b[0m\u001b[0m\n\u001b[0;32m     84\u001b[0m     \"\"\"\n\u001b[1;32m---> 85\u001b[1;33m     \u001b[1;32mreturn\u001b[0m \u001b[0marray\u001b[0m\u001b[1;33m(\u001b[0m\u001b[0ma\u001b[0m\u001b[1;33m,\u001b[0m \u001b[0mdtype\u001b[0m\u001b[1;33m,\u001b[0m \u001b[0mcopy\u001b[0m\u001b[1;33m=\u001b[0m\u001b[1;32mFalse\u001b[0m\u001b[1;33m,\u001b[0m \u001b[0morder\u001b[0m\u001b[1;33m=\u001b[0m\u001b[0morder\u001b[0m\u001b[1;33m)\u001b[0m\u001b[1;33m\u001b[0m\u001b[1;33m\u001b[0m\u001b[0m\n\u001b[0m\u001b[0;32m     86\u001b[0m \u001b[1;33m\u001b[0m\u001b[0m\n\u001b[0;32m     87\u001b[0m \u001b[1;33m\u001b[0m\u001b[0m\n",
      "\u001b[1;31mValueError\u001b[0m: could not convert string to float: 'Blocking, gagging, and so forth \\n\\nDoes it not feel a bit ridiculous, protecting the talk page of a featured article for no real reason? 80.42.3.248'"
     ]
    }
   ],
   "source": [
    "import pandas as pd\n",
    "# import seaborns as sns\n",
    "#I read the csv churn data into variable called df. Here I would only use two continuous features CreditScore and Age with the target Exited\n",
    "# df_example = df[['CreditScore', 'Age', 'Exited']]\n",
    "# sns.scatterplot(data = data, x ='CreditScore', y = 'Age', hue = 'Exited')\n",
    "\n",
    "#Importing SMOTE\n",
    "from imblearn.over_sampling import SMOTE\n",
    "#Oversampling the data\n",
    "smote = SMOTE(random_state = 101)\n",
    "X, y = smote.fit_resample(data.drop(columns=['toxic','id'],axis=1), data['toxic'])\n",
    "#Creating a new Oversampling Data Frame\n",
    "df_oversampler = pd.DataFrame(X, columns = ['comment_text','severe_toxic','cleaned_text','count'])\n",
    "df_oversampler['toxic']\n",
    "sns.countplot(df_oversampler['toxic'])\n",
    "\n",
    "\n"
   ]
  },
  {
   "cell_type": "code",
   "execution_count": null,
   "metadata": {},
   "outputs": [],
   "source": []
  },
  {
   "cell_type": "code",
   "execution_count": null,
   "metadata": {},
   "outputs": [],
   "source": []
  },
  {
   "cell_type": "code",
   "execution_count": null,
   "metadata": {},
   "outputs": [],
   "source": []
  },
  {
   "cell_type": "markdown",
   "metadata": {},
   "source": [
    "# Row Count"
   ]
  },
  {
   "cell_type": "code",
   "execution_count": 12,
   "metadata": {},
   "outputs": [
    {
     "name": "stdout",
     "output_type": "stream",
     "text": [
      "Number of severe toxic rows: 195\n",
      "Number of Slightly/Moderately toxic rows: 1496\n",
      "Number of non toxic rows: 18309\n"
     ]
    }
   ],
   "source": [
    "severely_toxic_data = data[data[\"severe_toxic\"] == 1]\n",
    "severely_toxic_data.count()\n",
    "index2 = severely_toxic_data.index\n",
    "number_of_rows_severe_toxic = len(index2)\n",
    "print(\"Number of severe toxic rows:\", number_of_rows_severe_toxic)\n",
    "\n",
    "toxic_data = data[data[\"toxic\"] == 1]\n",
    "index = toxic_data.index\n",
    "number_of_rows_toxic = len(index)-number_of_rows_severe_toxic\n",
    "print(\"Number of Slightly/Moderately toxic rows:\", number_of_rows_toxic-number_of_rows_severe_toxic)\n",
    "\n",
    "number_of_rows_non_toxic = len(data)-(number_of_rows_toxic-number_of_rows_severe_toxic)- number_of_rows_severe_toxic\n",
    "print(\"Number of non toxic rows:\", number_of_rows_non_toxic)"
   ]
  },
  {
   "cell_type": "markdown",
   "metadata": {},
   "source": [
    "# Pie chart of the number of Toxic/Severe Toxic/Non-toxic rows"
   ]
  },
  {
   "cell_type": "code",
   "execution_count": 116,
   "metadata": {},
   "outputs": [
    {
     "data": {
      "image/png": "[encoded data removed]",
      "text/plain": [
       "<Figure size 540x252 with 1 Axes>"
      ]
     },
     "metadata": {},
     "output_type": "display_data"
    }
   ],
   "source": [
    "rows = [number_of_rows_toxic, number_of_rows_severe_toxic,number_of_rows_non_toxic]\n",
    "\n",
    "mylabels=[\"Slighly/Moderately Toxic\",\"Severely Toxic\",\"Non Toxic\"]\n",
    "colors=['blue', 'red', 'green']\n",
    "plt.pie(rows, labels = mylabels,colors=colors,startangle = 90,explode=[0.1, 0.1, 0.1],autopct='%1.2f%%')\n",
    "plt.legend(title = \"Toxicity:\")\n",
    "plt.legend()\n",
    "plt.axis('equal')\n",
    "plt.show() "
   ]
  },
  {
   "cell_type": "markdown",
   "metadata": {},
   "source": [
    "# Frequency Histogram (Overall)"
   ]
  },
  {
   "cell_type": "code",
   "execution_count": 10,
   "metadata": {},
   "outputs": [
    {
     "data": {
      "text/plain": [
       "<function matplotlib.pyplot.show(*args, **kw)>"
      ]
     },
     "execution_count": 10,
     "metadata": {},
     "output_type": "execute_result"
    },
    {
     "data": {
      "image/png": "[encoded data removed]",
      "text/plain": [
       "<Figure size 864x648 with 1 Axes>"
      ]
     },
     "metadata": {
      "needs_background": "light"
     },
     "output_type": "display_data"
    }
   ],
   "source": [
    "split_df= data[\"cleaned_text\"].apply(lambda x: len(str(x).split(' ')))\n",
    "\n",
    "plt.figure(figsize=(12,9))\n",
    "plt.hist(split_df.value_counts(), color=\"green\")\n",
    "plt.xticks(rotation=45)\n",
    "plt.xlabel(\"Common words\")\n",
    "plt.ylabel(\"Count\")\n",
    "plt.title(\"Frequency Histogram (Overall)\")\n",
    "plt.show"
   ]
  },
  {
   "cell_type": "markdown",
   "metadata": {},
   "source": [
    "# Frequency Histogram (Slightly/Moderately Toxic)"
   ]
  },
  {
   "cell_type": "code",
   "execution_count": 114,
   "metadata": {},
   "outputs": [
    {
     "data": {
      "text/plain": [
       "<function matplotlib.pyplot.show(*args, **kw)>"
      ]
     },
     "execution_count": 114,
     "metadata": {},
     "output_type": "execute_result"
    },
    {
     "data": {
      "image/png": "[encoded data removed]",
      "text/plain": [
       "<Figure size 864x648 with 1 Axes>"
      ]
     },
     "metadata": {
      "needs_background": "light"
     },
     "output_type": "display_data"
    }
   ],
   "source": [
    "split_df= toxic_data[\"cleaned_text\"].apply(lambda x: len(str(x).split(' ')))\n",
    "\n",
    "plt.figure(figsize=(12,9))\n",
    "plt.hist(split_df.value_counts(), color=\"blue\")\n",
    "plt.xticks(rotation=45)\n",
    "plt.xlabel(\"Common words\")\n",
    "plt.ylabel(\"Count\")\n",
    "plt.title(\"Frequency Histogram (Slightly/Moderately Toxic)\")\n",
    "plt.show"
   ]
  },
  {
   "cell_type": "markdown",
   "metadata": {},
   "source": [
    "# Frequency Histogram (Severely Toxic)"
   ]
  },
  {
   "cell_type": "code",
   "execution_count": 115,
   "metadata": {},
   "outputs": [
    {
     "data": {
      "text/plain": [
       "<function matplotlib.pyplot.show(*args, **kw)>"
      ]
     },
     "execution_count": 115,
     "metadata": {},
     "output_type": "execute_result"
    },
    {
     "data": {
      "image/png": "[encoded data removed]",
      "text/plain": [
       "<Figure size 864x648 with 1 Axes>"
      ]
     },
     "metadata": {
      "needs_background": "light"
     },
     "output_type": "display_data"
    }
   ],
   "source": [
    "split_df= severely_toxic_data[\"cleaned_text\"].apply(lambda x: len(str(x).split(' ')))\n",
    "\n",
    "plt.figure(figsize=(12,9))\n",
    "plt.hist(split_df.value_counts(), color=\"red\")\n",
    "plt.xticks(rotation=45)\n",
    "plt.xlabel(\"Common words\")\n",
    "plt.ylabel(\"Count\")\n",
    "plt.title(\"Frequency Histogram (Severely Toxic)\")\n",
    "plt.show"
   ]
  },
  {
   "cell_type": "code",
   "execution_count": null,
   "metadata": {},
   "outputs": [],
   "source": []
  }
 ],
 "metadata": {
  "kernelspec": {
   "display_name": "Python 3",
   "language": "python",
   "name": "python3"
  },
  "language_info": {
   "codemirror_mode": {
    "name": "ipython",
    "version": 3
   },
   "file_extension": ".py",
   "mimetype": "text/x-python",
   "name": "python",
   "nbconvert_exporter": "python",
   "pygments_lexer": "ipython3",
   "version": "3.8.3"
  }
 },
 "nbformat": 4,
 "nbformat_minor": 4
}
