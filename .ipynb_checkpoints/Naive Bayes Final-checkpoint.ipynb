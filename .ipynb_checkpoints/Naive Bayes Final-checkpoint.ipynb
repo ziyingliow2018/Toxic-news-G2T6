{
 "cells": [
  {
   "cell_type": "code",
   "execution_count": 62,
   "metadata": {},
   "outputs": [],
   "source": [
    "# import libaries\n",
    "\n",
    "import pandas as pd\n",
    "import string\n",
    "from sklearn.feature_extraction.text import CountVectorizer\n",
    "from sklearn.naive_bayes import MultinomialNB\n",
    "from sklearn.model_selection import train_test_split\n",
    "from keras.preprocessing.text import Tokenizer\n",
    "from keras.preprocessing.sequence import pad_sequences\n"
   ]
  },
  {
   "cell_type": "markdown",
   "metadata": {},
   "source": [
    "# Import Training Data"
   ]
  },
  {
   "cell_type": "code",
   "execution_count": 63,
   "metadata": {
    "scrolled": true
   },
   "outputs": [
    {
     "data": {
      "text/html": [
       "<div>\n",
       "<style scoped>\n",
       "    .dataframe tbody tr th:only-of-type {\n",
       "        vertical-align: middle;\n",
       "    }\n",
       "\n",
       "    .dataframe tbody tr th {\n",
       "        vertical-align: top;\n",
       "    }\n",
       "\n",
       "    .dataframe thead th {\n",
       "        text-align: right;\n",
       "    }\n",
       "</style>\n",
       "<table border=\"1\" class=\"dataframe\">\n",
       "  <thead>\n",
       "    <tr style=\"text-align: right;\">\n",
       "      <th></th>\n",
       "      <th>id</th>\n",
       "      <th>comment_text</th>\n",
       "      <th>severe_toxic</th>\n",
       "      <th>toxic</th>\n",
       "      <th>cleaned_text</th>\n",
       "      <th>count</th>\n",
       "    </tr>\n",
       "  </thead>\n",
       "  <tbody>\n",
       "    <tr>\n",
       "      <th>0</th>\n",
       "      <td>c436fcdd4acc928a</td>\n",
       "      <td>naw i am fine see you later guys you rock ) ha...</td>\n",
       "      <td>0</td>\n",
       "      <td>0</td>\n",
       "      <td>nope fine see later guy rock hahahahaha userbi...</td>\n",
       "      <td>44</td>\n",
       "    </tr>\n",
       "    <tr>\n",
       "      <th>1</th>\n",
       "      <td>17bb9f8b0e2ff008</td>\n",
       "      <td>LOL\\r\\n\\r\\nREDDIT PWN YOU LMAO. UnknownTales1</td>\n",
       "      <td>0</td>\n",
       "      <td>0</td>\n",
       "      <td>lol reddit pwn lmao unknowntales</td>\n",
       "      <td>28</td>\n",
       "    </tr>\n",
       "    <tr>\n",
       "      <th>2</th>\n",
       "      <td>e86ae38d7ff0c1ff</td>\n",
       "      <td>You jumped the gun a bit too early - that's my...</td>\n",
       "      <td>0</td>\n",
       "      <td>0</td>\n",
       "      <td>jump gun bit early first revert hour</td>\n",
       "      <td>30</td>\n",
       "    </tr>\n",
       "    <tr>\n",
       "      <th>3</th>\n",
       "      <td>cb1fcb465bd93930</td>\n",
       "      <td>No way, Mercedez PWNZ!!</td>\n",
       "      <td>0</td>\n",
       "      <td>0</td>\n",
       "      <td>way mercedez pwnz</td>\n",
       "      <td>15</td>\n",
       "    </tr>\n",
       "    <tr>\n",
       "      <th>4</th>\n",
       "      <td>140cb8dc1570e423</td>\n",
       "      <td>I noticed it doesn't mention if the real Presi...</td>\n",
       "      <td>0</td>\n",
       "      <td>0</td>\n",
       "      <td>notice mention real president shot</td>\n",
       "      <td>30</td>\n",
       "    </tr>\n",
       "    <tr>\n",
       "      <th>...</th>\n",
       "      <td>...</td>\n",
       "      <td>...</td>\n",
       "      <td>...</td>\n",
       "      <td>...</td>\n",
       "      <td>...</td>\n",
       "      <td>...</td>\n",
       "    </tr>\n",
       "    <tr>\n",
       "      <th>30583</th>\n",
       "      <td>fef4cf7ba0012866</td>\n",
       "      <td>\"\\r\\n\\r\\n our previous conversation \\r\\n\\r\\nyo...</td>\n",
       "      <td>0</td>\n",
       "      <td>1</td>\n",
       "      <td>previous conversation fuck shit eating liberal...</td>\n",
       "      <td>804</td>\n",
       "    </tr>\n",
       "    <tr>\n",
       "      <th>30584</th>\n",
       "      <td>ff39a2895fc3b40e</td>\n",
       "      <td>YOU ARE A MISCHIEVIOUS PUBIC HAIR</td>\n",
       "      <td>0</td>\n",
       "      <td>1</td>\n",
       "      <td>mischievious pubic hair</td>\n",
       "      <td>21</td>\n",
       "    </tr>\n",
       "    <tr>\n",
       "      <th>30585</th>\n",
       "      <td>ffa33d3122b599d6</td>\n",
       "      <td>Your absurd edits \\r\\n\\r\\nYour absurd edits on...</td>\n",
       "      <td>0</td>\n",
       "      <td>1</td>\n",
       "      <td>absurd edits absurd edit great white shark tot...</td>\n",
       "      <td>178</td>\n",
       "    </tr>\n",
       "    <tr>\n",
       "      <th>30586</th>\n",
       "      <td>ffb47123b2d82762</td>\n",
       "      <td>\"\\r\\n\\r\\nHey listen don't you ever!!!! Delete ...</td>\n",
       "      <td>0</td>\n",
       "      <td>1</td>\n",
       "      <td>hey listen ever delete edits ever annoy wwe k ...</td>\n",
       "      <td>213</td>\n",
       "    </tr>\n",
       "    <tr>\n",
       "      <th>30587</th>\n",
       "      <td>ffbdbb0483ed0841</td>\n",
       "      <td>and i'm going to keep posting the stuff u dele...</td>\n",
       "      <td>0</td>\n",
       "      <td>1</td>\n",
       "      <td>go keep post stuff delete fuck site close fun ...</td>\n",
       "      <td>91</td>\n",
       "    </tr>\n",
       "  </tbody>\n",
       "</table>\n",
       "<p>30583 rows × 6 columns</p>\n",
       "</div>"
      ],
      "text/plain": [
       "                     id                                       comment_text  \\\n",
       "0      c436fcdd4acc928a  naw i am fine see you later guys you rock ) ha...   \n",
       "1      17bb9f8b0e2ff008      LOL\\r\\n\\r\\nREDDIT PWN YOU LMAO. UnknownTales1   \n",
       "2      e86ae38d7ff0c1ff  You jumped the gun a bit too early - that's my...   \n",
       "3      cb1fcb465bd93930                            No way, Mercedez PWNZ!!   \n",
       "4      140cb8dc1570e423  I noticed it doesn't mention if the real Presi...   \n",
       "...                 ...                                                ...   \n",
       "30583  fef4cf7ba0012866  \"\\r\\n\\r\\n our previous conversation \\r\\n\\r\\nyo...   \n",
       "30584  ff39a2895fc3b40e                  YOU ARE A MISCHIEVIOUS PUBIC HAIR   \n",
       "30585  ffa33d3122b599d6  Your absurd edits \\r\\n\\r\\nYour absurd edits on...   \n",
       "30586  ffb47123b2d82762  \"\\r\\n\\r\\nHey listen don't you ever!!!! Delete ...   \n",
       "30587  ffbdbb0483ed0841  and i'm going to keep posting the stuff u dele...   \n",
       "\n",
       "       severe_toxic  toxic                                       cleaned_text  \\\n",
       "0                 0      0  nope fine see later guy rock hahahahaha userbi...   \n",
       "1                 0      0                   lol reddit pwn lmao unknowntales   \n",
       "2                 0      0               jump gun bit early first revert hour   \n",
       "3                 0      0                                  way mercedez pwnz   \n",
       "4                 0      0                 notice mention real president shot   \n",
       "...             ...    ...                                                ...   \n",
       "30583             0      1  previous conversation fuck shit eating liberal...   \n",
       "30584             0      1                            mischievious pubic hair   \n",
       "30585             0      1  absurd edits absurd edit great white shark tot...   \n",
       "30586             0      1  hey listen ever delete edits ever annoy wwe k ...   \n",
       "30587             0      1  go keep post stuff delete fuck site close fun ...   \n",
       "\n",
       "       count  \n",
       "0         44  \n",
       "1         28  \n",
       "2         30  \n",
       "3         15  \n",
       "4         30  \n",
       "...      ...  \n",
       "30583    804  \n",
       "30584     21  \n",
       "30585    178  \n",
       "30586    213  \n",
       "30587     91  \n",
       "\n",
       "[30583 rows x 6 columns]"
      ]
     },
     "execution_count": 63,
     "metadata": {},
     "output_type": "execute_result"
    }
   ],
   "source": [
    "df = pd.read_csv(\"cleaned_30kundersampling.csv\", sep = \",\")\n",
    "df = df.iloc[: , 1:]\n",
    "df.dropna(inplace=True)\n",
    "df_labels = df[[\"toxic\", \"severe_toxic\"]]\n",
    "\n",
    "df.dropna(inplace=True)\n",
    "df"
   ]
  },
  {
   "cell_type": "markdown",
   "metadata": {},
   "source": [
    "# Import Test Data"
   ]
  },
  {
   "cell_type": "code",
   "execution_count": 64,
   "metadata": {},
   "outputs": [
    {
     "data": {
      "text/html": [
       "<div>\n",
       "<style scoped>\n",
       "    .dataframe tbody tr th:only-of-type {\n",
       "        vertical-align: middle;\n",
       "    }\n",
       "\n",
       "    .dataframe tbody tr th {\n",
       "        vertical-align: top;\n",
       "    }\n",
       "\n",
       "    .dataframe thead th {\n",
       "        text-align: right;\n",
       "    }\n",
       "</style>\n",
       "<table border=\"1\" class=\"dataframe\">\n",
       "  <thead>\n",
       "    <tr style=\"text-align: right;\">\n",
       "      <th></th>\n",
       "      <th>comment_text</th>\n",
       "      <th>cleaned_text</th>\n",
       "      <th>count</th>\n",
       "      <th>toxic</th>\n",
       "      <th>severe_toxic</th>\n",
       "    </tr>\n",
       "  </thead>\n",
       "  <tbody>\n",
       "    <tr>\n",
       "      <th>0</th>\n",
       "      <td>\" \\r\\n : ) No charge. Happy I was there to cat...</td>\n",
       "      <td>charge happy catch</td>\n",
       "      <td>16</td>\n",
       "      <td></td>\n",
       "      <td></td>\n",
       "    </tr>\n",
       "    <tr>\n",
       "      <th>1</th>\n",
       "      <td>==Thanks== \\r\\n For cleaning up the wp in wa i...</td>\n",
       "      <td>thanks clean wp wa issue</td>\n",
       "      <td>20</td>\n",
       "      <td></td>\n",
       "      <td></td>\n",
       "    </tr>\n",
       "    <tr>\n",
       "      <th>2</th>\n",
       "      <td>Why are people keen to act upon their whims an...</td>\n",
       "      <td>people keen act upon whim put spoiler rather s...</td>\n",
       "      <td>283</td>\n",
       "      <td></td>\n",
       "      <td></td>\n",
       "    </tr>\n",
       "    <tr>\n",
       "      <th>3</th>\n",
       "      <td>This Artist is FAKE! \\r\\n\\r\\n *   \\r\\n\\r\\n htt...</td>\n",
       "      <td>artist fake person shallow heartless quick tur...</td>\n",
       "      <td>226</td>\n",
       "      <td></td>\n",
       "      <td></td>\n",
       "    </tr>\n",
       "    <tr>\n",
       "      <th>4</th>\n",
       "      <td>\" \\r\\n\\r\\n == Come by the Talk Page == \\r\\n\\r\\...</td>\n",
       "      <td>come talk page hey bb come talk page redrafted...</td>\n",
       "      <td>159</td>\n",
       "      <td></td>\n",
       "      <td></td>\n",
       "    </tr>\n",
       "    <tr>\n",
       "      <th>...</th>\n",
       "      <td>...</td>\n",
       "      <td>...</td>\n",
       "      <td>...</td>\n",
       "      <td>...</td>\n",
       "      <td>...</td>\n",
       "    </tr>\n",
       "    <tr>\n",
       "      <th>13995</th>\n",
       "      <td>it is so gay!!!!!!!</td>\n",
       "      <td>gay</td>\n",
       "      <td>3</td>\n",
       "      <td></td>\n",
       "      <td></td>\n",
       "    </tr>\n",
       "    <tr>\n",
       "      <th>13996</th>\n",
       "      <td>==ISBN== \\r\\n Thanks fo rhe info.  Had no idea...</td>\n",
       "      <td>isbn thanks fo rhe info idea copy usage page w...</td>\n",
       "      <td>51</td>\n",
       "      <td></td>\n",
       "      <td></td>\n",
       "    </tr>\n",
       "    <tr>\n",
       "      <th>13997</th>\n",
       "      <td>== Neutrality disputed == \\r\\n I added  to sev...</td>\n",
       "      <td>neutrality dispute add several statement clear...</td>\n",
       "      <td>277</td>\n",
       "      <td></td>\n",
       "      <td></td>\n",
       "    </tr>\n",
       "    <tr>\n",
       "      <th>13998</th>\n",
       "      <td>User:Gert7|Gert7]]  10:34,</td>\n",
       "      <td>usergert gert</td>\n",
       "      <td>12</td>\n",
       "      <td></td>\n",
       "      <td></td>\n",
       "    </tr>\n",
       "    <tr>\n",
       "      <th>13999</th>\n",
       "      <td>I am a sockpuppet of fred guy. And i must say ...</td>\n",
       "      <td>sockpuppet fred guy must say wikipedia admins ...</td>\n",
       "      <td>49</td>\n",
       "      <td></td>\n",
       "      <td></td>\n",
       "    </tr>\n",
       "  </tbody>\n",
       "</table>\n",
       "<p>13899 rows × 5 columns</p>\n",
       "</div>"
      ],
      "text/plain": [
       "                                            comment_text  \\\n",
       "0      \" \\r\\n : ) No charge. Happy I was there to cat...   \n",
       "1      ==Thanks== \\r\\n For cleaning up the wp in wa i...   \n",
       "2      Why are people keen to act upon their whims an...   \n",
       "3      This Artist is FAKE! \\r\\n\\r\\n *   \\r\\n\\r\\n htt...   \n",
       "4      \" \\r\\n\\r\\n == Come by the Talk Page == \\r\\n\\r\\...   \n",
       "...                                                  ...   \n",
       "13995                                it is so gay!!!!!!!   \n",
       "13996  ==ISBN== \\r\\n Thanks fo rhe info.  Had no idea...   \n",
       "13997  == Neutrality disputed == \\r\\n I added  to sev...   \n",
       "13998                         User:Gert7|Gert7]]  10:34,   \n",
       "13999  I am a sockpuppet of fred guy. And i must say ...   \n",
       "\n",
       "                                            cleaned_text  count toxic  \\\n",
       "0                                     charge happy catch     16         \n",
       "1                               thanks clean wp wa issue     20         \n",
       "2      people keen act upon whim put spoiler rather s...    283         \n",
       "3      artist fake person shallow heartless quick tur...    226         \n",
       "4      come talk page hey bb come talk page redrafted...    159         \n",
       "...                                                  ...    ...   ...   \n",
       "13995                                                gay      3         \n",
       "13996  isbn thanks fo rhe info idea copy usage page w...     51         \n",
       "13997  neutrality dispute add several statement clear...    277         \n",
       "13998                                      usergert gert     12         \n",
       "13999  sockpuppet fred guy must say wikipedia admins ...     49         \n",
       "\n",
       "      severe_toxic  \n",
       "0                   \n",
       "1                   \n",
       "2                   \n",
       "3                   \n",
       "4                   \n",
       "...            ...  \n",
       "13995               \n",
       "13996               \n",
       "13997               \n",
       "13998               \n",
       "13999               \n",
       "\n",
       "[13899 rows x 5 columns]"
      ]
     },
     "execution_count": 64,
     "metadata": {},
     "output_type": "execute_result"
    }
   ],
   "source": [
    "test = pd.read_csv(\"dataset/test_cleaned_14k.csv\", sep = \",\")\n",
    "test = test.iloc[: , 1:]\n",
    "test.dropna(inplace=True)\n",
    "# test_labels = test[[\"toxic\", \"severe_toxic\"]]\n",
    "# test.insert(2, \"toxic\",1)\n",
    "# test.insert(2, \"severe_toxic\",1)\n",
    "test['toxic'] = \"\"\n",
    "test['severe_toxic'] = \"\"\n",
    "\n",
    "test.dropna(inplace=True)\n",
    "test"
   ]
  },
  {
   "cell_type": "markdown",
   "metadata": {},
   "source": [
    "# Predictions"
   ]
  },
  {
   "cell_type": "markdown",
   "metadata": {},
   "source": [
    "Train-test split Naive Bayes predictions for toxic data"
   ]
  },
  {
   "cell_type": "code",
   "execution_count": 101,
   "metadata": {},
   "outputs": [],
   "source": [
    "# how to define X and y (from the iris data) for use with a MODEL\n",
    "X = df.cleaned_text\n",
    "y = df.toxic"
   ]
  },
  {
   "cell_type": "code",
   "execution_count": 102,
   "metadata": {},
   "outputs": [
    {
     "name": "stdout",
     "output_type": "stream",
     "text": [
      "Training dataset:  24466\n",
      "Test dataset:  6117\n"
     ]
    }
   ],
   "source": [
    "# X =  np.array(X).transpose()\n",
    "X_train, X_test, y_train, y_test = train_test_split(X, y, test_size=0.2, random_state=42)\n",
    "print(\"Training dataset: \", X_train.shape[0])\n",
    "print(\"Test dataset: \", X_test.shape[0])"
   ]
  },
  {
   "cell_type": "code",
   "execution_count": 103,
   "metadata": {},
   "outputs": [],
   "source": [
    "count_vector = CountVectorizer(stop_words = 'english')\n",
    "training_data = count_vector.fit_transform(X_train.values.astype('U'))\n",
    "testing_data = count_vector.transform(X_test.values.astype('U'))"
   ]
  },
  {
   "cell_type": "code",
   "execution_count": 104,
   "metadata": {
    "scrolled": true
   },
   "outputs": [
    {
     "data": {
      "text/plain": [
       "24675    know shit fuck talk real game cover real sorry...\n",
       "18582    g suck ya jackass serious get life come quasih...\n",
       "9136                                       knowin dah dork\n",
       "13466    production company produce one film till date ...\n",
       "17631    wendy get lose really everybody share bigoted ...\n",
       "                               ...                        \n",
       "3307                well make lifetime sentence learn read\n",
       "5520     metric section wikipediawikiproject womenwomen...\n",
       "13373    recent edits please cease add uncited inaccura...\n",
       "27921    shut fuck kiss as bitchwhat fuck talk aboutwho...\n",
       "20999    criticism jesusplucking eyeball outslavery jes...\n",
       "Name: cleaned_text, Length: 6117, dtype: object"
      ]
     },
     "execution_count": 104,
     "metadata": {},
     "output_type": "execute_result"
    }
   ],
   "source": [
    "X_test"
   ]
  },
  {
   "cell_type": "code",
   "execution_count": 105,
   "metadata": {},
   "outputs": [
    {
     "data": {
      "text/plain": [
       "6632     0\n",
       "13420    0\n",
       "13608    0\n",
       "5425     0\n",
       "15268    0\n",
       "        ..\n",
       "29807    1\n",
       "5394     0\n",
       "861      0\n",
       "15800    1\n",
       "23659    1\n",
       "Name: toxic, Length: 24466, dtype: int64"
      ]
     },
     "execution_count": 105,
     "metadata": {},
     "output_type": "execute_result"
    }
   ],
   "source": [
    "y_train"
   ]
  },
  {
   "cell_type": "code",
   "execution_count": 106,
   "metadata": {},
   "outputs": [
    {
     "data": {
      "text/plain": [
       "MultinomialNB()"
      ]
     },
     "execution_count": 106,
     "metadata": {},
     "output_type": "execute_result"
    }
   ],
   "source": [
    "naive_bayes = MultinomialNB()\n",
    "# y_train = y_train.transpose()\n",
    "# naive_bayes.fit(X_train, y_train)\n",
    "naive_bayes.fit(training_data, y_train)"
   ]
  },
  {
   "cell_type": "code",
   "execution_count": 107,
   "metadata": {},
   "outputs": [
    {
     "data": {
      "text/plain": [
       "array([1, 1, 1, ..., 0, 1, 0], dtype=int64)"
      ]
     },
     "execution_count": 107,
     "metadata": {},
     "output_type": "execute_result"
    }
   ],
   "source": [
    "# Predict a portion of training data\n",
    "predictions_toxic = naive_bayes.predict(testing_data)\n",
    "predictions_toxic"
   ]
  },
  {
   "cell_type": "markdown",
   "metadata": {},
   "source": [
    "Train-test split Naive Bayes predictions for severe toxic data"
   ]
  },
  {
   "cell_type": "code",
   "execution_count": 112,
   "metadata": {},
   "outputs": [],
   "source": [
    "# how to define X and y (from the iris data) for use with a MODEL\n",
    "X = df.cleaned_text\n",
    "y = df.severe_toxic"
   ]
  },
  {
   "cell_type": "code",
   "execution_count": 113,
   "metadata": {},
   "outputs": [
    {
     "name": "stdout",
     "output_type": "stream",
     "text": [
      "Training dataset:  21408\n",
      "Test dataset:  9175\n"
     ]
    }
   ],
   "source": [
    "# X =  np.array(X).transpose()\n",
    "X_train, X_test, y_train, y_test = train_test_split(X, y, test_size=0.3, random_state=42)\n",
    "print(\"Training dataset: \", X_train.shape[0])\n",
    "print(\"Test dataset: \", X_test.shape[0])"
   ]
  },
  {
   "cell_type": "code",
   "execution_count": 114,
   "metadata": {},
   "outputs": [],
   "source": [
    "count_vector = CountVectorizer(stop_words = 'english')\n",
    "training_data = count_vector.fit_transform(X_train.values.astype('U'))\n",
    "testing_data = count_vector.transform(X_test.values.astype('U'))"
   ]
  },
  {
   "cell_type": "code",
   "execution_count": 115,
   "metadata": {},
   "outputs": [
    {
     "data": {
      "text/plain": [
       "MultinomialNB()"
      ]
     },
     "execution_count": 115,
     "metadata": {},
     "output_type": "execute_result"
    }
   ],
   "source": [
    "naive_bayes = MultinomialNB()\n",
    "# y_train = y_train.transpose()\n",
    "naive_bayes.fit(training_data, y_train)"
   ]
  },
  {
   "cell_type": "code",
   "execution_count": 116,
   "metadata": {},
   "outputs": [
    {
     "data": {
      "text/plain": [
       "array([0, 0, 0, ..., 0, 0, 0], dtype=int64)"
      ]
     },
     "execution_count": 116,
     "metadata": {},
     "output_type": "execute_result"
    }
   ],
   "source": [
    "predictions_severe_toxic = naive_bayes.predict(testing_data)\n",
    "predictions_severe_toxic"
   ]
  },
  {
   "cell_type": "markdown",
   "metadata": {},
   "source": [
    "# Model Evaluation"
   ]
  },
  {
   "cell_type": "markdown",
   "metadata": {},
   "source": [
    "Generate confusion matrix for toxic"
   ]
  },
  {
   "cell_type": "code",
   "execution_count": 108,
   "metadata": {},
   "outputs": [],
   "source": [
    "from sklearn.metrics import confusion_matrix"
   ]
  },
  {
   "cell_type": "code",
   "execution_count": 109,
   "metadata": {},
   "outputs": [
    {
     "data": {
      "image/png": "[encoded data removed]",
      "text/plain": [
       "<Figure size 432x288 with 2 Axes>"
      ]
     },
     "metadata": {
      "needs_background": "light"
     },
     "output_type": "display_data"
    }
   ],
   "source": [
    "import numpy as np\n",
    "import seaborn as sns\n",
    "import matplotlib.pyplot as plt\n",
    "from sklearn.metrics import plot_confusion_matrix\n",
    "\n",
    "# need to run Naive Bayes for *Toxic* before running confusion matrix\n",
    "cm = pd.DataFrame(confusion_matrix(y_test, predictions_toxic) , index = ['Fake','Not Fake'] , columns = ['Fake','Not Fake'])\n",
    "sns.heatmap(cm,cmap= 'Blues', annot = True, fmt='', xticklabels = ['Fake','Not Fake'], yticklabels = ['Fake','Not Fake'])\n",
    "plt.xlabel(\"Actual\")\n",
    "plt.ylabel(\"Predicted\")\n",
    "plt.title('Confusion matrix on test data')\n",
    "plt.show()"
   ]
  },
  {
   "cell_type": "code",
   "execution_count": 110,
   "metadata": {},
   "outputs": [
    {
     "name": "stdout",
     "output_type": "stream",
     "text": [
      "[[2778  289]\n",
      " [ 512 2538]]\n"
     ]
    }
   ],
   "source": [
    "conf_matrix_toxic = confusion_matrix(y_test, predictions_toxic)\n",
    "print(conf_matrix_toxic)"
   ]
  },
  {
   "cell_type": "code",
   "execution_count": 111,
   "metadata": {},
   "outputs": [],
   "source": [
    "tn1 = conf_matrix_toxic[1][1]\n",
    "fn1 = conf_matrix_toxic[0][1]\n",
    "tp1 = conf_matrix_toxic[0][0]\n",
    "fp1 = conf_matrix_toxic[1][0]"
   ]
  },
  {
   "cell_type": "markdown",
   "metadata": {},
   "source": [
    "Generate confusion matrix for severe toxic"
   ]
  },
  {
   "cell_type": "code",
   "execution_count": 117,
   "metadata": {},
   "outputs": [
    {
     "data": {
      "image/png": "[encoded data removed]",
      "text/plain": [
       "<Figure size 432x288 with 2 Axes>"
      ]
     },
     "metadata": {
      "needs_background": "light"
     },
     "output_type": "display_data"
    }
   ],
   "source": [
    "# need to run Naive Bayes for *Severe Toxic* before running confusion matrix\n",
    "cm = pd.DataFrame(confusion_matrix(y_test, predictions_severe_toxic) , index = ['Fake','Not Fake'] , columns = ['Fake','Not Fake'])\n",
    "sns.heatmap(cm,cmap= 'Blues', annot = True, fmt='', xticklabels = ['Fake','Not Fake'], yticklabels = ['Fake','Not Fake'])\n",
    "plt.xlabel(\"Actual\")\n",
    "plt.ylabel(\"Predicted\")\n",
    "plt.title('Confusion matrix on test data')\n",
    "plt.show()"
   ]
  },
  {
   "cell_type": "code",
   "execution_count": 118,
   "metadata": {},
   "outputs": [
    {
     "name": "stdout",
     "output_type": "stream",
     "text": [
      "[[8459  241]\n",
      " [ 268  207]]\n"
     ]
    }
   ],
   "source": [
    "conf_matrix_severe_toxic = confusion_matrix(y_test, predictions_severe_toxic)\n",
    "print(conf_matrix_severe_toxic)"
   ]
  },
  {
   "cell_type": "code",
   "execution_count": 119,
   "metadata": {},
   "outputs": [],
   "source": [
    "tn2 = conf_matrix_severe_toxic[1][1]\n",
    "fn2 = conf_matrix_severe_toxic[0][1]\n",
    "tp2 = conf_matrix_severe_toxic[0][0]\n",
    "fp2 = conf_matrix_severe_toxic[1][0]"
   ]
  },
  {
   "cell_type": "markdown",
   "metadata": {},
   "source": [
    "Calculate average accuracy, precision, recall and F1 score"
   ]
  },
  {
   "cell_type": "code",
   "execution_count": 120,
   "metadata": {},
   "outputs": [
    {
     "data": {
      "text/plain": [
       "0.9067883091700932"
      ]
     },
     "execution_count": 120,
     "metadata": {},
     "output_type": "execute_result"
    }
   ],
   "source": [
    "accuracy =  ((tp1 + tn1)/(tp1 + tn1 + fp1 + fn1) +  (tp2 + tn2)/(tp2 + tn2 + fp2 + fn2))/2\n",
    "accuracy"
   ]
  },
  {
   "cell_type": "code",
   "execution_count": 121,
   "metadata": {},
   "outputs": [],
   "source": [
    "precision = ((tp1/(tp1+fp1)) + (tp2/(tp2+fp2)))/2\n",
    "recall = ((tp1/(tp1+fn1)) + (tp2/(tp2+fn2)))/2\n",
    "f1_score = 2* ((recall * precision) / (precision+recall))"
   ]
  },
  {
   "cell_type": "code",
   "execution_count": 122,
   "metadata": {},
   "outputs": [
    {
     "name": "stdout",
     "output_type": "stream",
     "text": [
      "NB Result\n",
      "Accuracy: 0.90679\n",
      "Precision 0.90683\n",
      "Recall 0.93903\n",
      "F1 Score 0.92265\n"
     ]
    }
   ],
   "source": [
    "print(\"NB Result\")\n",
    "print(\"Accuracy:\", round(accuracy,5))\n",
    "print(\"Precision\" , round(precision,5))\n",
    "print(\"Recall\" ,round(recall,5))\n",
    "print(\"F1 Score\" , round(f1_score,5))"
   ]
  },
  {
   "cell_type": "markdown",
   "metadata": {},
   "source": [
    "# Predicting 14k test data"
   ]
  },
  {
   "cell_type": "markdown",
   "metadata": {},
   "source": [
    "Predict Toxic "
   ]
  },
  {
   "cell_type": "code",
   "execution_count": 47,
   "metadata": {},
   "outputs": [
    {
     "name": "stdout",
     "output_type": "stream",
     "text": [
      "Training dataset:  30583\n",
      "Test dataset:  13899\n"
     ]
    }
   ],
   "source": [
    "X_train = df['cleaned_text']\n",
    "y_train = df['toxic']\n",
    "X_test = test['cleaned_text']\n",
    "y_test = test['toxic']\n",
    "\n",
    "\n",
    "print(\"Training dataset: \", X_train.shape[0])\n",
    "print(\"Test dataset: \", X_test.shape[0])"
   ]
  },
  {
   "cell_type": "code",
   "execution_count": 48,
   "metadata": {},
   "outputs": [],
   "source": [
    "count_vector = CountVectorizer(stop_words = 'english')\n",
    "training_data = count_vector.fit_transform(X_train.values.astype('U'))\n",
    "testing_data = count_vector.transform(X_test.values.astype('U'))"
   ]
  },
  {
   "cell_type": "code",
   "execution_count": 49,
   "metadata": {},
   "outputs": [
    {
     "data": {
      "text/plain": [
       "MultinomialNB()"
      ]
     },
     "execution_count": 49,
     "metadata": {},
     "output_type": "execute_result"
    }
   ],
   "source": [
    "naive_bayes = MultinomialNB()\n",
    "naive_bayes.fit(training_data, y_train)"
   ]
  },
  {
   "cell_type": "code",
   "execution_count": 50,
   "metadata": {},
   "outputs": [
    {
     "data": {
      "text/plain": [
       "array([0, 0, 0, ..., 0, 1, 1], dtype=int64)"
      ]
     },
     "execution_count": 50,
     "metadata": {},
     "output_type": "execute_result"
    }
   ],
   "source": [
    "predictions_toxic_test = naive_bayes.predict(testing_data)\n",
    "predictions_toxic_test"
   ]
  },
  {
   "cell_type": "code",
   "execution_count": 53,
   "metadata": {
    "scrolled": false
   },
   "outputs": [
    {
     "data": {
      "text/html": [
       "<div>\n",
       "<style scoped>\n",
       "    .dataframe tbody tr th:only-of-type {\n",
       "        vertical-align: middle;\n",
       "    }\n",
       "\n",
       "    .dataframe tbody tr th {\n",
       "        vertical-align: top;\n",
       "    }\n",
       "\n",
       "    .dataframe thead th {\n",
       "        text-align: right;\n",
       "    }\n",
       "</style>\n",
       "<table border=\"1\" class=\"dataframe\">\n",
       "  <thead>\n",
       "    <tr style=\"text-align: right;\">\n",
       "      <th></th>\n",
       "      <th>comment_text</th>\n",
       "      <th>cleaned_text</th>\n",
       "      <th>count</th>\n",
       "      <th>severe_toxic</th>\n",
       "      <th>Predicted_toxic</th>\n",
       "    </tr>\n",
       "  </thead>\n",
       "  <tbody>\n",
       "    <tr>\n",
       "      <th>0</th>\n",
       "      <td>\" \\r\\n : ) No charge. Happy I was there to cat...</td>\n",
       "      <td>charge happy catch</td>\n",
       "      <td>16</td>\n",
       "      <td></td>\n",
       "      <td>0</td>\n",
       "    </tr>\n",
       "    <tr>\n",
       "      <th>1</th>\n",
       "      <td>==Thanks== \\r\\n For cleaning up the wp in wa i...</td>\n",
       "      <td>thanks clean wp wa issue</td>\n",
       "      <td>20</td>\n",
       "      <td></td>\n",
       "      <td>0</td>\n",
       "    </tr>\n",
       "    <tr>\n",
       "      <th>2</th>\n",
       "      <td>Why are people keen to act upon their whims an...</td>\n",
       "      <td>people keen act upon whim put spoiler rather s...</td>\n",
       "      <td>283</td>\n",
       "      <td></td>\n",
       "      <td>0</td>\n",
       "    </tr>\n",
       "    <tr>\n",
       "      <th>3</th>\n",
       "      <td>This Artist is FAKE! \\r\\n\\r\\n *   \\r\\n\\r\\n htt...</td>\n",
       "      <td>artist fake person shallow heartless quick tur...</td>\n",
       "      <td>226</td>\n",
       "      <td></td>\n",
       "      <td>0</td>\n",
       "    </tr>\n",
       "    <tr>\n",
       "      <th>4</th>\n",
       "      <td>\" \\r\\n\\r\\n == Come by the Talk Page == \\r\\n\\r\\...</td>\n",
       "      <td>come talk page hey bb come talk page redrafted...</td>\n",
       "      <td>159</td>\n",
       "      <td></td>\n",
       "      <td>0</td>\n",
       "    </tr>\n",
       "    <tr>\n",
       "      <th>...</th>\n",
       "      <td>...</td>\n",
       "      <td>...</td>\n",
       "      <td>...</td>\n",
       "      <td>...</td>\n",
       "      <td>...</td>\n",
       "    </tr>\n",
       "    <tr>\n",
       "      <th>13995</th>\n",
       "      <td>it is so gay!!!!!!!</td>\n",
       "      <td>gay</td>\n",
       "      <td>3</td>\n",
       "      <td></td>\n",
       "      <td>1</td>\n",
       "    </tr>\n",
       "    <tr>\n",
       "      <th>13996</th>\n",
       "      <td>==ISBN== \\r\\n Thanks fo rhe info.  Had no idea...</td>\n",
       "      <td>isbn thanks fo rhe info idea copy usage page w...</td>\n",
       "      <td>51</td>\n",
       "      <td></td>\n",
       "      <td>0</td>\n",
       "    </tr>\n",
       "    <tr>\n",
       "      <th>13997</th>\n",
       "      <td>== Neutrality disputed == \\r\\n I added  to sev...</td>\n",
       "      <td>neutrality dispute add several statement clear...</td>\n",
       "      <td>277</td>\n",
       "      <td></td>\n",
       "      <td>0</td>\n",
       "    </tr>\n",
       "    <tr>\n",
       "      <th>13998</th>\n",
       "      <td>User:Gert7|Gert7]]  10:34,</td>\n",
       "      <td>usergert gert</td>\n",
       "      <td>12</td>\n",
       "      <td></td>\n",
       "      <td>1</td>\n",
       "    </tr>\n",
       "    <tr>\n",
       "      <th>13999</th>\n",
       "      <td>I am a sockpuppet of fred guy. And i must say ...</td>\n",
       "      <td>sockpuppet fred guy must say wikipedia admins ...</td>\n",
       "      <td>49</td>\n",
       "      <td></td>\n",
       "      <td>1</td>\n",
       "    </tr>\n",
       "  </tbody>\n",
       "</table>\n",
       "<p>13899 rows × 5 columns</p>\n",
       "</div>"
      ],
      "text/plain": [
       "                                            comment_text  \\\n",
       "0      \" \\r\\n : ) No charge. Happy I was there to cat...   \n",
       "1      ==Thanks== \\r\\n For cleaning up the wp in wa i...   \n",
       "2      Why are people keen to act upon their whims an...   \n",
       "3      This Artist is FAKE! \\r\\n\\r\\n *   \\r\\n\\r\\n htt...   \n",
       "4      \" \\r\\n\\r\\n == Come by the Talk Page == \\r\\n\\r\\...   \n",
       "...                                                  ...   \n",
       "13995                                it is so gay!!!!!!!   \n",
       "13996  ==ISBN== \\r\\n Thanks fo rhe info.  Had no idea...   \n",
       "13997  == Neutrality disputed == \\r\\n I added  to sev...   \n",
       "13998                         User:Gert7|Gert7]]  10:34,   \n",
       "13999  I am a sockpuppet of fred guy. And i must say ...   \n",
       "\n",
       "                                            cleaned_text  count severe_toxic  \\\n",
       "0                                     charge happy catch     16                \n",
       "1                               thanks clean wp wa issue     20                \n",
       "2      people keen act upon whim put spoiler rather s...    283                \n",
       "3      artist fake person shallow heartless quick tur...    226                \n",
       "4      come talk page hey bb come talk page redrafted...    159                \n",
       "...                                                  ...    ...          ...   \n",
       "13995                                                gay      3                \n",
       "13996  isbn thanks fo rhe info idea copy usage page w...     51                \n",
       "13997  neutrality dispute add several statement clear...    277                \n",
       "13998                                      usergert gert     12                \n",
       "13999  sockpuppet fred guy must say wikipedia admins ...     49                \n",
       "\n",
       "       Predicted_toxic  \n",
       "0                    0  \n",
       "1                    0  \n",
       "2                    0  \n",
       "3                    0  \n",
       "4                    0  \n",
       "...                ...  \n",
       "13995                1  \n",
       "13996                0  \n",
       "13997                0  \n",
       "13998                1  \n",
       "13999                1  \n",
       "\n",
       "[13899 rows x 5 columns]"
      ]
     },
     "execution_count": 53,
     "metadata": {},
     "output_type": "execute_result"
    }
   ],
   "source": [
    "predictions_df['Predicted_toxic'] = predictions_toxic_test.tolist()\n",
    "if 'toxic' in predictions_df.columns:\n",
    "    predictions_df.drop(columns=['toxic'],inplace=True)\n",
    "predictions_df"
   ]
  },
  {
   "cell_type": "markdown",
   "metadata": {},
   "source": [
    "Predict Severe Toxic"
   ]
  },
  {
   "cell_type": "code",
   "execution_count": 54,
   "metadata": {},
   "outputs": [
    {
     "name": "stdout",
     "output_type": "stream",
     "text": [
      "Training dataset:  30583\n",
      "Test dataset:  13899\n"
     ]
    }
   ],
   "source": [
    "X_train = df['cleaned_text']\n",
    "y_train = df['severe_toxic']\n",
    "X_test = test['cleaned_text']\n",
    "y_test = test['severe_toxic']\n",
    "\n",
    "\n",
    "print(\"Training dataset: \", X_train.shape[0])\n",
    "print(\"Test dataset: \", X_test.shape[0])"
   ]
  },
  {
   "cell_type": "code",
   "execution_count": 55,
   "metadata": {},
   "outputs": [],
   "source": [
    "count_vector = CountVectorizer(stop_words = 'english')\n",
    "training_data = count_vector.fit_transform(X_train.values.astype('U'))\n",
    "testing_data = count_vector.transform(X_test.values.astype('U'))"
   ]
  },
  {
   "cell_type": "code",
   "execution_count": 56,
   "metadata": {},
   "outputs": [
    {
     "data": {
      "text/plain": [
       "MultinomialNB()"
      ]
     },
     "execution_count": 56,
     "metadata": {},
     "output_type": "execute_result"
    }
   ],
   "source": [
    "naive_bayes = MultinomialNB()\n",
    "naive_bayes.fit(training_data, y_train)"
   ]
  },
  {
   "cell_type": "code",
   "execution_count": 33,
   "metadata": {},
   "outputs": [
    {
     "data": {
      "text/plain": [
       "array([0, 0, 0, ..., 0, 0, 0], dtype=int64)"
      ]
     },
     "execution_count": 33,
     "metadata": {},
     "output_type": "execute_result"
    }
   ],
   "source": [
    "predictions_test = naive_bayes.predict(testing_data)\n",
    "predictions_test"
   ]
  },
  {
   "cell_type": "code",
   "execution_count": 58,
   "metadata": {},
   "outputs": [
    {
     "data": {
      "text/html": [
       "<div>\n",
       "<style scoped>\n",
       "    .dataframe tbody tr th:only-of-type {\n",
       "        vertical-align: middle;\n",
       "    }\n",
       "\n",
       "    .dataframe tbody tr th {\n",
       "        vertical-align: top;\n",
       "    }\n",
       "\n",
       "    .dataframe thead th {\n",
       "        text-align: right;\n",
       "    }\n",
       "</style>\n",
       "<table border=\"1\" class=\"dataframe\">\n",
       "  <thead>\n",
       "    <tr style=\"text-align: right;\">\n",
       "      <th></th>\n",
       "      <th>comment_text</th>\n",
       "      <th>cleaned_text</th>\n",
       "      <th>count</th>\n",
       "      <th>Predicted_toxic</th>\n",
       "      <th>Predicted_severe_toxic</th>\n",
       "    </tr>\n",
       "  </thead>\n",
       "  <tbody>\n",
       "    <tr>\n",
       "      <th>0</th>\n",
       "      <td>\" \\r\\n : ) No charge. Happy I was there to cat...</td>\n",
       "      <td>charge happy catch</td>\n",
       "      <td>16</td>\n",
       "      <td>0</td>\n",
       "      <td>0</td>\n",
       "    </tr>\n",
       "    <tr>\n",
       "      <th>1</th>\n",
       "      <td>==Thanks== \\r\\n For cleaning up the wp in wa i...</td>\n",
       "      <td>thanks clean wp wa issue</td>\n",
       "      <td>20</td>\n",
       "      <td>0</td>\n",
       "      <td>0</td>\n",
       "    </tr>\n",
       "    <tr>\n",
       "      <th>2</th>\n",
       "      <td>Why are people keen to act upon their whims an...</td>\n",
       "      <td>people keen act upon whim put spoiler rather s...</td>\n",
       "      <td>283</td>\n",
       "      <td>0</td>\n",
       "      <td>0</td>\n",
       "    </tr>\n",
       "    <tr>\n",
       "      <th>3</th>\n",
       "      <td>This Artist is FAKE! \\r\\n\\r\\n *   \\r\\n\\r\\n htt...</td>\n",
       "      <td>artist fake person shallow heartless quick tur...</td>\n",
       "      <td>226</td>\n",
       "      <td>0</td>\n",
       "      <td>0</td>\n",
       "    </tr>\n",
       "    <tr>\n",
       "      <th>4</th>\n",
       "      <td>\" \\r\\n\\r\\n == Come by the Talk Page == \\r\\n\\r\\...</td>\n",
       "      <td>come talk page hey bb come talk page redrafted...</td>\n",
       "      <td>159</td>\n",
       "      <td>0</td>\n",
       "      <td>0</td>\n",
       "    </tr>\n",
       "    <tr>\n",
       "      <th>...</th>\n",
       "      <td>...</td>\n",
       "      <td>...</td>\n",
       "      <td>...</td>\n",
       "      <td>...</td>\n",
       "      <td>...</td>\n",
       "    </tr>\n",
       "    <tr>\n",
       "      <th>13995</th>\n",
       "      <td>it is so gay!!!!!!!</td>\n",
       "      <td>gay</td>\n",
       "      <td>3</td>\n",
       "      <td>1</td>\n",
       "      <td>0</td>\n",
       "    </tr>\n",
       "    <tr>\n",
       "      <th>13996</th>\n",
       "      <td>==ISBN== \\r\\n Thanks fo rhe info.  Had no idea...</td>\n",
       "      <td>isbn thanks fo rhe info idea copy usage page w...</td>\n",
       "      <td>51</td>\n",
       "      <td>0</td>\n",
       "      <td>0</td>\n",
       "    </tr>\n",
       "    <tr>\n",
       "      <th>13997</th>\n",
       "      <td>== Neutrality disputed == \\r\\n I added  to sev...</td>\n",
       "      <td>neutrality dispute add several statement clear...</td>\n",
       "      <td>277</td>\n",
       "      <td>0</td>\n",
       "      <td>0</td>\n",
       "    </tr>\n",
       "    <tr>\n",
       "      <th>13998</th>\n",
       "      <td>User:Gert7|Gert7]]  10:34,</td>\n",
       "      <td>usergert gert</td>\n",
       "      <td>12</td>\n",
       "      <td>1</td>\n",
       "      <td>0</td>\n",
       "    </tr>\n",
       "    <tr>\n",
       "      <th>13999</th>\n",
       "      <td>I am a sockpuppet of fred guy. And i must say ...</td>\n",
       "      <td>sockpuppet fred guy must say wikipedia admins ...</td>\n",
       "      <td>49</td>\n",
       "      <td>1</td>\n",
       "      <td>0</td>\n",
       "    </tr>\n",
       "  </tbody>\n",
       "</table>\n",
       "<p>13899 rows × 5 columns</p>\n",
       "</div>"
      ],
      "text/plain": [
       "                                            comment_text  \\\n",
       "0      \" \\r\\n : ) No charge. Happy I was there to cat...   \n",
       "1      ==Thanks== \\r\\n For cleaning up the wp in wa i...   \n",
       "2      Why are people keen to act upon their whims an...   \n",
       "3      This Artist is FAKE! \\r\\n\\r\\n *   \\r\\n\\r\\n htt...   \n",
       "4      \" \\r\\n\\r\\n == Come by the Talk Page == \\r\\n\\r\\...   \n",
       "...                                                  ...   \n",
       "13995                                it is so gay!!!!!!!   \n",
       "13996  ==ISBN== \\r\\n Thanks fo rhe info.  Had no idea...   \n",
       "13997  == Neutrality disputed == \\r\\n I added  to sev...   \n",
       "13998                         User:Gert7|Gert7]]  10:34,   \n",
       "13999  I am a sockpuppet of fred guy. And i must say ...   \n",
       "\n",
       "                                            cleaned_text  count  \\\n",
       "0                                     charge happy catch     16   \n",
       "1                               thanks clean wp wa issue     20   \n",
       "2      people keen act upon whim put spoiler rather s...    283   \n",
       "3      artist fake person shallow heartless quick tur...    226   \n",
       "4      come talk page hey bb come talk page redrafted...    159   \n",
       "...                                                  ...    ...   \n",
       "13995                                                gay      3   \n",
       "13996  isbn thanks fo rhe info idea copy usage page w...     51   \n",
       "13997  neutrality dispute add several statement clear...    277   \n",
       "13998                                      usergert gert     12   \n",
       "13999  sockpuppet fred guy must say wikipedia admins ...     49   \n",
       "\n",
       "       Predicted_toxic  Predicted_severe_toxic  \n",
       "0                    0                       0  \n",
       "1                    0                       0  \n",
       "2                    0                       0  \n",
       "3                    0                       0  \n",
       "4                    0                       0  \n",
       "...                ...                     ...  \n",
       "13995                1                       0  \n",
       "13996                0                       0  \n",
       "13997                0                       0  \n",
       "13998                1                       0  \n",
       "13999                1                       0  \n",
       "\n",
       "[13899 rows x 5 columns]"
      ]
     },
     "execution_count": 58,
     "metadata": {},
     "output_type": "execute_result"
    }
   ],
   "source": [
    "# Add predictions to dataframe\n",
    "predictions_df['Predicted_severe_toxic'] = predictions_test.tolist()\n",
    "if 'severe_toxic' in predictions_df.columns:\n",
    "    predictions_df.drop(columns=['severe_toxic'],inplace=True)\n",
    "predictions_df"
   ]
  },
  {
   "cell_type": "code",
   "execution_count": 123,
   "metadata": {},
   "outputs": [
    {
     "name": "stdout",
     "output_type": "stream",
     "text": [
      "toxic count:  4157\n",
      "severe-toxic count:  322\n"
     ]
    }
   ],
   "source": [
    "count = (predictions_df['Predicted_toxic'] == 1).sum()\n",
    "print(\"toxic count: \" ,count)\n",
    "\n",
    "count1 = (predictions_df['Predicted_severe_toxic'] == 1).sum()\n",
    "print(\"severe-toxic count: \" ,count1)"
   ]
  },
  {
   "cell_type": "code",
   "execution_count": 125,
   "metadata": {
    "scrolled": true
   },
   "outputs": [],
   "source": [
    "# Write to csv\n",
    "predictions_df.to_csv('Predictions/NaiveBayesPredictions.csv',index=False)"
   ]
  },
  {
   "cell_type": "code",
   "execution_count": null,
   "metadata": {},
   "outputs": [],
   "source": []
  },
  {
   "cell_type": "code",
   "execution_count": null,
   "metadata": {},
   "outputs": [],
   "source": []
  },
  {
   "cell_type": "code",
   "execution_count": null,
   "metadata": {},
   "outputs": [],
   "source": []
  },
  {
   "cell_type": "code",
   "execution_count": null,
   "metadata": {},
   "outputs": [],
   "source": []
  },
  {
   "cell_type": "code",
   "execution_count": null,
   "metadata": {},
   "outputs": [],
   "source": [
    "# DUMP (throw away)"
   ]
  },
  {
   "cell_type": "code",
   "execution_count": 22,
   "metadata": {},
   "outputs": [
    {
     "data": {
      "text/html": [
       "<div>\n",
       "<style scoped>\n",
       "    .dataframe tbody tr th:only-of-type {\n",
       "        vertical-align: middle;\n",
       "    }\n",
       "\n",
       "    .dataframe tbody tr th {\n",
       "        vertical-align: top;\n",
       "    }\n",
       "\n",
       "    .dataframe thead th {\n",
       "        text-align: right;\n",
       "    }\n",
       "</style>\n",
       "<table border=\"1\" class=\"dataframe\">\n",
       "  <thead>\n",
       "    <tr style=\"text-align: right;\">\n",
       "      <th></th>\n",
       "      <th>comment_text</th>\n",
       "      <th>cleaned_text</th>\n",
       "      <th>count</th>\n",
       "      <th>Predicted</th>\n",
       "      <th>Predicted_toxic</th>\n",
       "    </tr>\n",
       "  </thead>\n",
       "  <tbody>\n",
       "    <tr>\n",
       "      <th>0</th>\n",
       "      <td>\" \\r\\n : ) No charge. Happy I was there to cat...</td>\n",
       "      <td>charge happy catch</td>\n",
       "      <td>16</td>\n",
       "      <td>0</td>\n",
       "      <td>0</td>\n",
       "    </tr>\n",
       "    <tr>\n",
       "      <th>1</th>\n",
       "      <td>==Thanks== \\r\\n For cleaning up the wp in wa i...</td>\n",
       "      <td>thanks clean wp wa issue</td>\n",
       "      <td>20</td>\n",
       "      <td>0</td>\n",
       "      <td>0</td>\n",
       "    </tr>\n",
       "    <tr>\n",
       "      <th>2</th>\n",
       "      <td>Why are people keen to act upon their whims an...</td>\n",
       "      <td>people keen act upon whim put spoiler rather s...</td>\n",
       "      <td>283</td>\n",
       "      <td>0</td>\n",
       "      <td>0</td>\n",
       "    </tr>\n",
       "    <tr>\n",
       "      <th>3</th>\n",
       "      <td>This Artist is FAKE! \\r\\n\\r\\n *   \\r\\n\\r\\n htt...</td>\n",
       "      <td>artist fake person shallow heartless quick tur...</td>\n",
       "      <td>226</td>\n",
       "      <td>0</td>\n",
       "      <td>0</td>\n",
       "    </tr>\n",
       "    <tr>\n",
       "      <th>4</th>\n",
       "      <td>\" \\r\\n\\r\\n == Come by the Talk Page == \\r\\n\\r\\...</td>\n",
       "      <td>come talk page hey bb come talk page redrafted...</td>\n",
       "      <td>159</td>\n",
       "      <td>0</td>\n",
       "      <td>0</td>\n",
       "    </tr>\n",
       "    <tr>\n",
       "      <th>...</th>\n",
       "      <td>...</td>\n",
       "      <td>...</td>\n",
       "      <td>...</td>\n",
       "      <td>...</td>\n",
       "      <td>...</td>\n",
       "    </tr>\n",
       "    <tr>\n",
       "      <th>13995</th>\n",
       "      <td>it is so gay!!!!!!!</td>\n",
       "      <td>gay</td>\n",
       "      <td>3</td>\n",
       "      <td>1</td>\n",
       "      <td>1</td>\n",
       "    </tr>\n",
       "    <tr>\n",
       "      <th>13996</th>\n",
       "      <td>==ISBN== \\r\\n Thanks fo rhe info.  Had no idea...</td>\n",
       "      <td>isbn thanks fo rhe info idea copy usage page w...</td>\n",
       "      <td>51</td>\n",
       "      <td>0</td>\n",
       "      <td>0</td>\n",
       "    </tr>\n",
       "    <tr>\n",
       "      <th>13997</th>\n",
       "      <td>== Neutrality disputed == \\r\\n I added  to sev...</td>\n",
       "      <td>neutrality dispute add several statement clear...</td>\n",
       "      <td>277</td>\n",
       "      <td>0</td>\n",
       "      <td>0</td>\n",
       "    </tr>\n",
       "    <tr>\n",
       "      <th>13998</th>\n",
       "      <td>User:Gert7|Gert7]]  10:34,</td>\n",
       "      <td>usergert gert</td>\n",
       "      <td>12</td>\n",
       "      <td>0</td>\n",
       "      <td>1</td>\n",
       "    </tr>\n",
       "    <tr>\n",
       "      <th>13999</th>\n",
       "      <td>I am a sockpuppet of fred guy. And i must say ...</td>\n",
       "      <td>sockpuppet fred guy must say wikipedia admins ...</td>\n",
       "      <td>49</td>\n",
       "      <td>1</td>\n",
       "      <td>1</td>\n",
       "    </tr>\n",
       "  </tbody>\n",
       "</table>\n",
       "<p>13899 rows × 5 columns</p>\n",
       "</div>"
      ],
      "text/plain": [
       "                                            comment_text  \\\n",
       "0      \" \\r\\n : ) No charge. Happy I was there to cat...   \n",
       "1      ==Thanks== \\r\\n For cleaning up the wp in wa i...   \n",
       "2      Why are people keen to act upon their whims an...   \n",
       "3      This Artist is FAKE! \\r\\n\\r\\n *   \\r\\n\\r\\n htt...   \n",
       "4      \" \\r\\n\\r\\n == Come by the Talk Page == \\r\\n\\r\\...   \n",
       "...                                                  ...   \n",
       "13995                                it is so gay!!!!!!!   \n",
       "13996  ==ISBN== \\r\\n Thanks fo rhe info.  Had no idea...   \n",
       "13997  == Neutrality disputed == \\r\\n I added  to sev...   \n",
       "13998                         User:Gert7|Gert7]]  10:34,   \n",
       "13999  I am a sockpuppet of fred guy. And i must say ...   \n",
       "\n",
       "                                            cleaned_text  count  Predicted  \\\n",
       "0                                     charge happy catch     16          0   \n",
       "1                               thanks clean wp wa issue     20          0   \n",
       "2      people keen act upon whim put spoiler rather s...    283          0   \n",
       "3      artist fake person shallow heartless quick tur...    226          0   \n",
       "4      come talk page hey bb come talk page redrafted...    159          0   \n",
       "...                                                  ...    ...        ...   \n",
       "13995                                                gay      3          1   \n",
       "13996  isbn thanks fo rhe info idea copy usage page w...     51          0   \n",
       "13997  neutrality dispute add several statement clear...    277          0   \n",
       "13998                                      usergert gert     12          0   \n",
       "13999  sockpuppet fred guy must say wikipedia admins ...     49          1   \n",
       "\n",
       "       Predicted_toxic  \n",
       "0                    0  \n",
       "1                    0  \n",
       "2                    0  \n",
       "3                    0  \n",
       "4                    0  \n",
       "...                ...  \n",
       "13995                1  \n",
       "13996                0  \n",
       "13997                0  \n",
       "13998                1  \n",
       "13999                1  \n",
       "\n",
       "[13899 rows x 5 columns]"
      ]
     },
     "execution_count": 22,
     "metadata": {},
     "output_type": "execute_result"
    }
   ],
   "source": [
    "test"
   ]
  },
  {
   "cell_type": "code",
   "execution_count": null,
   "metadata": {},
   "outputs": [],
   "source": []
  },
  {
   "cell_type": "code",
   "execution_count": 183,
   "metadata": {},
   "outputs": [
    {
     "data": {
      "text/html": [
       "<div>\n",
       "<style scoped>\n",
       "    .dataframe tbody tr th:only-of-type {\n",
       "        vertical-align: middle;\n",
       "    }\n",
       "\n",
       "    .dataframe tbody tr th {\n",
       "        vertical-align: top;\n",
       "    }\n",
       "\n",
       "    .dataframe thead th {\n",
       "        text-align: right;\n",
       "    }\n",
       "</style>\n",
       "<table border=\"1\" class=\"dataframe\">\n",
       "  <thead>\n",
       "    <tr style=\"text-align: right;\">\n",
       "      <th></th>\n",
       "      <th>comment_text</th>\n",
       "      <th>cleaned_text</th>\n",
       "      <th>count</th>\n",
       "      <th>Predicted</th>\n",
       "      <th>toxic</th>\n",
       "    </tr>\n",
       "  </thead>\n",
       "  <tbody>\n",
       "    <tr>\n",
       "      <th>0</th>\n",
       "      <td>\" \\r\\n : ) No charge. Happy I was there to cat...</td>\n",
       "      <td>charge happy catch</td>\n",
       "      <td>16</td>\n",
       "      <td>0</td>\n",
       "      <td></td>\n",
       "    </tr>\n",
       "    <tr>\n",
       "      <th>1</th>\n",
       "      <td>==Thanks== \\r\\n For cleaning up the wp in wa i...</td>\n",
       "      <td>thanks clean wp wa issue</td>\n",
       "      <td>20</td>\n",
       "      <td>0</td>\n",
       "      <td></td>\n",
       "    </tr>\n",
       "    <tr>\n",
       "      <th>2</th>\n",
       "      <td>Why are people keen to act upon their whims an...</td>\n",
       "      <td>people keen act upon whim put spoiler rather s...</td>\n",
       "      <td>283</td>\n",
       "      <td>0</td>\n",
       "      <td></td>\n",
       "    </tr>\n",
       "    <tr>\n",
       "      <th>3</th>\n",
       "      <td>This Artist is FAKE! \\r\\n\\r\\n *   \\r\\n\\r\\n htt...</td>\n",
       "      <td>artist fake person shallow heartless quick tur...</td>\n",
       "      <td>226</td>\n",
       "      <td>0</td>\n",
       "      <td></td>\n",
       "    </tr>\n",
       "    <tr>\n",
       "      <th>4</th>\n",
       "      <td>\" \\r\\n\\r\\n == Come by the Talk Page == \\r\\n\\r\\...</td>\n",
       "      <td>come talk page hey bb come talk page redrafted...</td>\n",
       "      <td>159</td>\n",
       "      <td>0</td>\n",
       "      <td></td>\n",
       "    </tr>\n",
       "    <tr>\n",
       "      <th>...</th>\n",
       "      <td>...</td>\n",
       "      <td>...</td>\n",
       "      <td>...</td>\n",
       "      <td>...</td>\n",
       "      <td>...</td>\n",
       "    </tr>\n",
       "    <tr>\n",
       "      <th>13995</th>\n",
       "      <td>it is so gay!!!!!!!</td>\n",
       "      <td>gay</td>\n",
       "      <td>3</td>\n",
       "      <td>1</td>\n",
       "      <td></td>\n",
       "    </tr>\n",
       "    <tr>\n",
       "      <th>13996</th>\n",
       "      <td>==ISBN== \\r\\n Thanks fo rhe info.  Had no idea...</td>\n",
       "      <td>isbn thanks fo rhe info idea copy usage page w...</td>\n",
       "      <td>51</td>\n",
       "      <td>0</td>\n",
       "      <td></td>\n",
       "    </tr>\n",
       "    <tr>\n",
       "      <th>13997</th>\n",
       "      <td>== Neutrality disputed == \\r\\n I added  to sev...</td>\n",
       "      <td>neutrality dispute add several statement clear...</td>\n",
       "      <td>277</td>\n",
       "      <td>0</td>\n",
       "      <td></td>\n",
       "    </tr>\n",
       "    <tr>\n",
       "      <th>13998</th>\n",
       "      <td>User:Gert7|Gert7]]  10:34,</td>\n",
       "      <td>usergert gert</td>\n",
       "      <td>12</td>\n",
       "      <td>0</td>\n",
       "      <td></td>\n",
       "    </tr>\n",
       "    <tr>\n",
       "      <th>13999</th>\n",
       "      <td>I am a sockpuppet of fred guy. And i must say ...</td>\n",
       "      <td>sockpuppet fred guy must say wikipedia admins ...</td>\n",
       "      <td>49</td>\n",
       "      <td>1</td>\n",
       "      <td></td>\n",
       "    </tr>\n",
       "  </tbody>\n",
       "</table>\n",
       "<p>13899 rows × 5 columns</p>\n",
       "</div>"
      ],
      "text/plain": [
       "                                            comment_text  \\\n",
       "0      \" \\r\\n : ) No charge. Happy I was there to cat...   \n",
       "1      ==Thanks== \\r\\n For cleaning up the wp in wa i...   \n",
       "2      Why are people keen to act upon their whims an...   \n",
       "3      This Artist is FAKE! \\r\\n\\r\\n *   \\r\\n\\r\\n htt...   \n",
       "4      \" \\r\\n\\r\\n == Come by the Talk Page == \\r\\n\\r\\...   \n",
       "...                                                  ...   \n",
       "13995                                it is so gay!!!!!!!   \n",
       "13996  ==ISBN== \\r\\n Thanks fo rhe info.  Had no idea...   \n",
       "13997  == Neutrality disputed == \\r\\n I added  to sev...   \n",
       "13998                         User:Gert7|Gert7]]  10:34,   \n",
       "13999  I am a sockpuppet of fred guy. And i must say ...   \n",
       "\n",
       "                                            cleaned_text  count  Predicted  \\\n",
       "0                                     charge happy catch     16          0   \n",
       "1                               thanks clean wp wa issue     20          0   \n",
       "2      people keen act upon whim put spoiler rather s...    283          0   \n",
       "3      artist fake person shallow heartless quick tur...    226          0   \n",
       "4      come talk page hey bb come talk page redrafted...    159          0   \n",
       "...                                                  ...    ...        ...   \n",
       "13995                                                gay      3          1   \n",
       "13996  isbn thanks fo rhe info idea copy usage page w...     51          0   \n",
       "13997  neutrality dispute add several statement clear...    277          0   \n",
       "13998                                      usergert gert     12          0   \n",
       "13999  sockpuppet fred guy must say wikipedia admins ...     49          1   \n",
       "\n",
       "      toxic  \n",
       "0            \n",
       "1            \n",
       "2            \n",
       "3            \n",
       "4            \n",
       "...     ...  \n",
       "13995        \n",
       "13996        \n",
       "13997        \n",
       "13998        \n",
       "13999        \n",
       "\n",
       "[13899 rows x 5 columns]"
      ]
     },
     "execution_count": 183,
     "metadata": {},
     "output_type": "execute_result"
    }
   ],
   "source": [
    "test = pd.read_csv(\"naive_bayes_predictions_14k.csv\", sep = \",\")\n",
    "test = test.iloc[: , 1:]\n",
    "test.dropna(inplace=True)\n",
    "# test_labels = test[[\"toxic\", \"severe_toxic\"]]\n",
    "# test.insert(2, \"toxic\",1)\n",
    "# test.insert(2, \"severe_toxic\",1)\n",
    "test_df['toxic'] = \"\"\n",
    "\n",
    "test.dropna(inplace=True)\n",
    "test"
   ]
  },
  {
   "cell_type": "code",
   "execution_count": 192,
   "metadata": {},
   "outputs": [
    {
     "ename": "ValueError",
     "evalue": "too many values to unpack (expected 2)",
     "output_type": "error",
     "traceback": [
      "\u001b[1;31m---------------------------------------------------------------------------\u001b[0m",
      "\u001b[1;31mValueError\u001b[0m                                Traceback (most recent call last)",
      "\u001b[1;32m<ipython-input-192-2222b46fdb9c>\u001b[0m in \u001b[0;36m<module>\u001b[1;34m\u001b[0m\n\u001b[1;32m----> 1\u001b[1;33m \u001b[0mX_train\u001b[0m\u001b[1;33m,\u001b[0m \u001b[0my_train\u001b[0m \u001b[1;33m=\u001b[0m \u001b[0mtrain_test_split\u001b[0m\u001b[1;33m(\u001b[0m \u001b[0mX\u001b[0m\u001b[1;33m,\u001b[0m \u001b[0my\u001b[0m\u001b[1;33m,\u001b[0m \u001b[0mtest_size\u001b[0m\u001b[1;33m=\u001b[0m\u001b[1;36m0.2\u001b[0m\u001b[1;33m,\u001b[0m \u001b[0mrandom_state\u001b[0m\u001b[1;33m=\u001b[0m\u001b[1;36m42\u001b[0m\u001b[1;33m)\u001b[0m\u001b[1;33m\u001b[0m\u001b[1;33m\u001b[0m\u001b[0m\n\u001b[0m\u001b[0;32m      2\u001b[0m \u001b[1;31m# X_train, X_test, y_train, y_test\u001b[0m\u001b[1;33m\u001b[0m\u001b[1;33m\u001b[0m\u001b[1;33m\u001b[0m\u001b[0m\n\u001b[0;32m      3\u001b[0m \u001b[0mX_test\u001b[0m \u001b[1;33m=\u001b[0m \u001b[0mtest\u001b[0m\u001b[1;33m[\u001b[0m\u001b[1;34m'cleaned_text'\u001b[0m\u001b[1;33m]\u001b[0m\u001b[1;33m\u001b[0m\u001b[1;33m\u001b[0m\u001b[0m\n\u001b[0;32m      4\u001b[0m \u001b[0my_test\u001b[0m \u001b[1;33m=\u001b[0m \u001b[0mtest\u001b[0m\u001b[1;33m[\u001b[0m\u001b[1;34m'toxic'\u001b[0m\u001b[1;33m]\u001b[0m\u001b[1;33m\u001b[0m\u001b[1;33m\u001b[0m\u001b[0m\n\u001b[0;32m      5\u001b[0m \u001b[0mprint\u001b[0m\u001b[1;33m(\u001b[0m\u001b[1;34m\"Training dataset: \"\u001b[0m\u001b[1;33m,\u001b[0m \u001b[0mX_train\u001b[0m\u001b[1;33m.\u001b[0m\u001b[0mshape\u001b[0m\u001b[1;33m[\u001b[0m\u001b[1;36m0\u001b[0m\u001b[1;33m]\u001b[0m\u001b[1;33m)\u001b[0m\u001b[1;33m\u001b[0m\u001b[1;33m\u001b[0m\u001b[0m\n",
      "\u001b[1;31mValueError\u001b[0m: too many values to unpack (expected 2)"
     ]
    }
   ],
   "source": [
    " X_train, X_test, y_train, y_test= train_test_split( X, y, test_size=0.2, random_state=42)\n",
    "# X_train, X_test, y_train, y_test\n",
    "X_test = test['cleaned_text']\n",
    "y_test = test['toxic']\n",
    "print(\"Training dataset: \", X_train.shape[0])\n",
    "print(\"Test dataset: \", X_test.shape[0])"
   ]
  },
  {
   "cell_type": "code",
   "execution_count": 186,
   "metadata": {},
   "outputs": [],
   "source": [
    "count_vector = CountVectorizer(stop_words = 'english')\n",
    "training_data = count_vector.fit_transform(X_train.values.astype('U'))\n",
    "testing_data = count_vector.transform(X_test.values.astype('U'))"
   ]
  },
  {
   "cell_type": "code",
   "execution_count": 187,
   "metadata": {
    "scrolled": true
   },
   "outputs": [
    {
     "data": {
      "text/plain": [
       "0                                       charge happy catch\n",
       "1                                 thanks clean wp wa issue\n",
       "2        people keen act upon whim put spoiler rather s...\n",
       "3        artist fake person shallow heartless quick tur...\n",
       "4        come talk page hey bb come talk page redrafted...\n",
       "                               ...                        \n",
       "13995                                                  gay\n",
       "13996    isbn thanks fo rhe info idea copy usage page w...\n",
       "13997    neutrality dispute add several statement clear...\n",
       "13998                                        usergert gert\n",
       "13999    sockpuppet fred guy must say wikipedia admins ...\n",
       "Name: cleaned_text, Length: 13899, dtype: object"
      ]
     },
     "execution_count": 187,
     "metadata": {},
     "output_type": "execute_result"
    }
   ],
   "source": [
    "X_test"
   ]
  },
  {
   "cell_type": "code",
   "execution_count": 188,
   "metadata": {},
   "outputs": [
    {
     "data": {
      "text/plain": [
       "5751      \n",
       "11343     \n",
       "3549      \n",
       "12310     \n",
       "4940      \n",
       "        ..\n",
       "5232      \n",
       "13517     \n",
       "5432      \n",
       "866       \n",
       "7331      \n",
       "Name: toxic, Length: 11119, dtype: object"
      ]
     },
     "execution_count": 188,
     "metadata": {},
     "output_type": "execute_result"
    }
   ],
   "source": [
    "y_train"
   ]
  },
  {
   "cell_type": "code",
   "execution_count": null,
   "metadata": {},
   "outputs": [],
   "source": []
  },
  {
   "cell_type": "code",
   "execution_count": 189,
   "metadata": {},
   "outputs": [
    {
     "data": {
      "text/plain": [
       "MultinomialNB()"
      ]
     },
     "execution_count": 189,
     "metadata": {},
     "output_type": "execute_result"
    }
   ],
   "source": [
    "naive_bayes = MultinomialNB()\n",
    "# y_train = y_train.transpose()\n",
    "naive_bayes.fit(training_data, y_train)"
   ]
  },
  {
   "cell_type": "code",
   "execution_count": 190,
   "metadata": {},
   "outputs": [
    {
     "data": {
      "text/plain": [
       "array(['', '', '', ..., '', '', ''], dtype='<U1')"
      ]
     },
     "execution_count": 190,
     "metadata": {},
     "output_type": "execute_result"
    }
   ],
   "source": [
    "test_predictions_toxic = naive_bayes.predict(testing_data)\n",
    "test_predictions_toxic"
   ]
  },
  {
   "cell_type": "code",
   "execution_count": 191,
   "metadata": {},
   "outputs": [
    {
     "data": {
      "text/html": [
       "<div>\n",
       "<style scoped>\n",
       "    .dataframe tbody tr th:only-of-type {\n",
       "        vertical-align: middle;\n",
       "    }\n",
       "\n",
       "    .dataframe tbody tr th {\n",
       "        vertical-align: top;\n",
       "    }\n",
       "\n",
       "    .dataframe thead th {\n",
       "        text-align: right;\n",
       "    }\n",
       "</style>\n",
       "<table border=\"1\" class=\"dataframe\">\n",
       "  <thead>\n",
       "    <tr style=\"text-align: right;\">\n",
       "      <th></th>\n",
       "      <th>comment_text</th>\n",
       "      <th>cleaned_text</th>\n",
       "      <th>count</th>\n",
       "      <th>Predicted</th>\n",
       "      <th>Predicted_toxic</th>\n",
       "    </tr>\n",
       "  </thead>\n",
       "  <tbody>\n",
       "    <tr>\n",
       "      <th>0</th>\n",
       "      <td>\" \\r\\n : ) No charge. Happy I was there to cat...</td>\n",
       "      <td>charge happy catch</td>\n",
       "      <td>16</td>\n",
       "      <td>0</td>\n",
       "      <td></td>\n",
       "    </tr>\n",
       "    <tr>\n",
       "      <th>1</th>\n",
       "      <td>==Thanks== \\r\\n For cleaning up the wp in wa i...</td>\n",
       "      <td>thanks clean wp wa issue</td>\n",
       "      <td>20</td>\n",
       "      <td>0</td>\n",
       "      <td></td>\n",
       "    </tr>\n",
       "    <tr>\n",
       "      <th>2</th>\n",
       "      <td>Why are people keen to act upon their whims an...</td>\n",
       "      <td>people keen act upon whim put spoiler rather s...</td>\n",
       "      <td>283</td>\n",
       "      <td>0</td>\n",
       "      <td></td>\n",
       "    </tr>\n",
       "    <tr>\n",
       "      <th>3</th>\n",
       "      <td>This Artist is FAKE! \\r\\n\\r\\n *   \\r\\n\\r\\n htt...</td>\n",
       "      <td>artist fake person shallow heartless quick tur...</td>\n",
       "      <td>226</td>\n",
       "      <td>0</td>\n",
       "      <td></td>\n",
       "    </tr>\n",
       "    <tr>\n",
       "      <th>4</th>\n",
       "      <td>\" \\r\\n\\r\\n == Come by the Talk Page == \\r\\n\\r\\...</td>\n",
       "      <td>come talk page hey bb come talk page redrafted...</td>\n",
       "      <td>159</td>\n",
       "      <td>0</td>\n",
       "      <td></td>\n",
       "    </tr>\n",
       "    <tr>\n",
       "      <th>...</th>\n",
       "      <td>...</td>\n",
       "      <td>...</td>\n",
       "      <td>...</td>\n",
       "      <td>...</td>\n",
       "      <td>...</td>\n",
       "    </tr>\n",
       "    <tr>\n",
       "      <th>13995</th>\n",
       "      <td>it is so gay!!!!!!!</td>\n",
       "      <td>gay</td>\n",
       "      <td>3</td>\n",
       "      <td>1</td>\n",
       "      <td></td>\n",
       "    </tr>\n",
       "    <tr>\n",
       "      <th>13996</th>\n",
       "      <td>==ISBN== \\r\\n Thanks fo rhe info.  Had no idea...</td>\n",
       "      <td>isbn thanks fo rhe info idea copy usage page w...</td>\n",
       "      <td>51</td>\n",
       "      <td>0</td>\n",
       "      <td></td>\n",
       "    </tr>\n",
       "    <tr>\n",
       "      <th>13997</th>\n",
       "      <td>== Neutrality disputed == \\r\\n I added  to sev...</td>\n",
       "      <td>neutrality dispute add several statement clear...</td>\n",
       "      <td>277</td>\n",
       "      <td>0</td>\n",
       "      <td></td>\n",
       "    </tr>\n",
       "    <tr>\n",
       "      <th>13998</th>\n",
       "      <td>User:Gert7|Gert7]]  10:34,</td>\n",
       "      <td>usergert gert</td>\n",
       "      <td>12</td>\n",
       "      <td>0</td>\n",
       "      <td></td>\n",
       "    </tr>\n",
       "    <tr>\n",
       "      <th>13999</th>\n",
       "      <td>I am a sockpuppet of fred guy. And i must say ...</td>\n",
       "      <td>sockpuppet fred guy must say wikipedia admins ...</td>\n",
       "      <td>49</td>\n",
       "      <td>1</td>\n",
       "      <td></td>\n",
       "    </tr>\n",
       "  </tbody>\n",
       "</table>\n",
       "<p>13899 rows × 5 columns</p>\n",
       "</div>"
      ],
      "text/plain": [
       "                                            comment_text  \\\n",
       "0      \" \\r\\n : ) No charge. Happy I was there to cat...   \n",
       "1      ==Thanks== \\r\\n For cleaning up the wp in wa i...   \n",
       "2      Why are people keen to act upon their whims an...   \n",
       "3      This Artist is FAKE! \\r\\n\\r\\n *   \\r\\n\\r\\n htt...   \n",
       "4      \" \\r\\n\\r\\n == Come by the Talk Page == \\r\\n\\r\\...   \n",
       "...                                                  ...   \n",
       "13995                                it is so gay!!!!!!!   \n",
       "13996  ==ISBN== \\r\\n Thanks fo rhe info.  Had no idea...   \n",
       "13997  == Neutrality disputed == \\r\\n I added  to sev...   \n",
       "13998                         User:Gert7|Gert7]]  10:34,   \n",
       "13999  I am a sockpuppet of fred guy. And i must say ...   \n",
       "\n",
       "                                            cleaned_text  count  Predicted  \\\n",
       "0                                     charge happy catch     16          0   \n",
       "1                               thanks clean wp wa issue     20          0   \n",
       "2      people keen act upon whim put spoiler rather s...    283          0   \n",
       "3      artist fake person shallow heartless quick tur...    226          0   \n",
       "4      come talk page hey bb come talk page redrafted...    159          0   \n",
       "...                                                  ...    ...        ...   \n",
       "13995                                                gay      3          1   \n",
       "13996  isbn thanks fo rhe info idea copy usage page w...     51          0   \n",
       "13997  neutrality dispute add several statement clear...    277          0   \n",
       "13998                                      usergert gert     12          0   \n",
       "13999  sockpuppet fred guy must say wikipedia admins ...     49          1   \n",
       "\n",
       "      Predicted_toxic  \n",
       "0                      \n",
       "1                      \n",
       "2                      \n",
       "3                      \n",
       "4                      \n",
       "...               ...  \n",
       "13995                  \n",
       "13996                  \n",
       "13997                  \n",
       "13998                  \n",
       "13999                  \n",
       "\n",
       "[13899 rows x 5 columns]"
      ]
     },
     "execution_count": 191,
     "metadata": {},
     "output_type": "execute_result"
    }
   ],
   "source": [
    "# Add predictions to dataframe\n",
    "predictions_df_sample = test\n",
    "\n",
    "predictions_df_sample['Predicted_toxic'] = test_predictions_toxic.tolist()\n",
    "predictions_df_sample.drop(columns=['toxic'],inplace=True)\n",
    "predictions_df_sample\n",
    "\n",
    "# Write to csv\n",
    "# prediction_df_bagging.to_csv('Predictions/BaggingPredictions.csv',index=False)\n",
    "# prediction_df_bagging"
   ]
  },
  {
   "cell_type": "code",
   "execution_count": 182,
   "metadata": {},
   "outputs": [
    {
     "name": "stdout",
     "output_type": "stream",
     "text": [
      "toxic count:  0\n",
      "severe-toxic count:  13899\n"
     ]
    }
   ],
   "source": [
    "count = (predictions_df_sample['Predicted_toxic'] == 0).sum()\n",
    "print(\"toxic count: \" ,count)\n",
    "\n",
    "count1 = (predictions_df_sample['Predicted_toxic'] == 1).sum()\n",
    "print(\"severe-toxic count: \" ,count1)"
   ]
  },
  {
   "cell_type": "code",
   "execution_count": null,
   "metadata": {},
   "outputs": [],
   "source": []
  }
 ],
 "metadata": {
  "kernelspec": {
   "display_name": "Python 3",
   "language": "python",
   "name": "python3"
  },
  "language_info": {
   "codemirror_mode": {
    "name": "ipython",
    "version": 3
   },
   "file_extension": ".py",
   "mimetype": "text/x-python",
   "name": "python",
   "nbconvert_exporter": "python",
   "pygments_lexer": "ipython3",
   "version": "3.8.3"
  }
 },
 "nbformat": 4,
 "nbformat_minor": 4
}
