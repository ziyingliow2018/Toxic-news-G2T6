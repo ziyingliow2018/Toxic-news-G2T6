{
 "cells": [
  {
   "cell_type": "code",
   "execution_count": 1,
   "metadata": {},
   "outputs": [],
   "source": [
    "import pandas as pd\n",
    "import matplotlib.pyplot as plt\n",
    "import numpy as np"
   ]
  },
  {
   "cell_type": "code",
   "execution_count": 2,
   "metadata": {
    "scrolled": false
   },
   "outputs": [
    {
     "data": {
      "text/html": [
       "<div>\n",
       "<style scoped>\n",
       "    .dataframe tbody tr th:only-of-type {\n",
       "        vertical-align: middle;\n",
       "    }\n",
       "\n",
       "    .dataframe tbody tr th {\n",
       "        vertical-align: top;\n",
       "    }\n",
       "\n",
       "    .dataframe thead th {\n",
       "        text-align: right;\n",
       "    }\n",
       "</style>\n",
       "<table border=\"1\" class=\"dataframe\">\n",
       "  <thead>\n",
       "    <tr style=\"text-align: right;\">\n",
       "      <th></th>\n",
       "      <th>id</th>\n",
       "      <th>comment_text</th>\n",
       "      <th>toxic</th>\n",
       "      <th>severe_toxic</th>\n",
       "      <th>cleaned_text</th>\n",
       "      <th>count</th>\n",
       "    </tr>\n",
       "  </thead>\n",
       "  <tbody>\n",
       "    <tr>\n",
       "      <th>0</th>\n",
       "      <td>9e517781d3bf04b3</td>\n",
       "      <td>Blocking, gagging, and so forth \\n\\nDoes it no...</td>\n",
       "      <td>0</td>\n",
       "      <td>0</td>\n",
       "      <td>block gag forth feel bit ridiculous protect ta...</td>\n",
       "      <td>121</td>\n",
       "    </tr>\n",
       "    <tr>\n",
       "      <th>1</th>\n",
       "      <td>5310be9129cdd382</td>\n",
       "      <td>\"\\n\\n A cup of tea for you! \\n\\n  .   \"</td>\n",
       "      <td>0</td>\n",
       "      <td>0</td>\n",
       "      <td>cup tea</td>\n",
       "      <td>19</td>\n",
       "    </tr>\n",
       "    <tr>\n",
       "      <th>2</th>\n",
       "      <td>786d02526034fbe3</td>\n",
       "      <td>\":First point: Why should we keep this stuff? ...</td>\n",
       "      <td>0</td>\n",
       "      <td>0</td>\n",
       "      <td>first point keep stuff protoindoiranian cultur...</td>\n",
       "      <td>250</td>\n",
       "    </tr>\n",
       "    <tr>\n",
       "      <th>3</th>\n",
       "      <td>b60d10c5300853d3</td>\n",
       "      <td>\"\\nThanks. The problem is that BLOAT is the pr...</td>\n",
       "      <td>0</td>\n",
       "      <td>0</td>\n",
       "      <td>thanks problem bloat problem stuff need remove...</td>\n",
       "      <td>316</td>\n",
       "    </tr>\n",
       "    <tr>\n",
       "      <th>4</th>\n",
       "      <td>f6dda5b833093d07</td>\n",
       "      <td>I agree with SH, that sort of 'improvement' sh...</td>\n",
       "      <td>0</td>\n",
       "      <td>0</td>\n",
       "      <td>agree sh sort improvement illegal</td>\n",
       "      <td>52</td>\n",
       "    </tr>\n",
       "    <tr>\n",
       "      <th>...</th>\n",
       "      <td>...</td>\n",
       "      <td>...</td>\n",
       "      <td>...</td>\n",
       "      <td>...</td>\n",
       "      <td>...</td>\n",
       "      <td>...</td>\n",
       "    </tr>\n",
       "    <tr>\n",
       "      <th>19995</th>\n",
       "      <td>17eca6d66735a702</td>\n",
       "      <td>\"\\n\\n clarification needed \\n\\nExplain/clarify...</td>\n",
       "      <td>0</td>\n",
       "      <td>0</td>\n",
       "      <td>clarification need explainclarify word tolerat...</td>\n",
       "      <td>334</td>\n",
       "    </tr>\n",
       "    <tr>\n",
       "      <th>19996</th>\n",
       "      <td>59789fede899e8a6</td>\n",
       "      <td>\"\\nI'll get to work on that. I'm going to chan...</td>\n",
       "      <td>0</td>\n",
       "      <td>0</td>\n",
       "      <td>get work go change name wikiproject texas univ...</td>\n",
       "      <td>171</td>\n",
       "    </tr>\n",
       "    <tr>\n",
       "      <th>19997</th>\n",
       "      <td>d17edba9aef2bc07</td>\n",
       "      <td>Labeling edits as vandalism when they are clea...</td>\n",
       "      <td>0</td>\n",
       "      <td>0</td>\n",
       "      <td>label edits vandalism clearly personal attack</td>\n",
       "      <td>62</td>\n",
       "    </tr>\n",
       "    <tr>\n",
       "      <th>19998</th>\n",
       "      <td>78b621b6182a1d7c</td>\n",
       "      <td>\"\\nCould you please make this clear with the u...</td>\n",
       "      <td>0</td>\n",
       "      <td>0</td>\n",
       "      <td>could please make clear usual block template</td>\n",
       "      <td>58</td>\n",
       "    </tr>\n",
       "    <tr>\n",
       "      <th>19999</th>\n",
       "      <td>bd7a06c8991f55e8</td>\n",
       "      <td>bitch ,otherfucker that gotta write some dumb ...</td>\n",
       "      <td>1</td>\n",
       "      <td>0</td>\n",
       "      <td>bitch otherfucker get ta write dumb as shit</td>\n",
       "      <td>50</td>\n",
       "    </tr>\n",
       "  </tbody>\n",
       "</table>\n",
       "<p>20000 rows × 6 columns</p>\n",
       "</div>"
      ],
      "text/plain": [
       "                     id                                       comment_text  \\\n",
       "0      9e517781d3bf04b3  Blocking, gagging, and so forth \\n\\nDoes it no...   \n",
       "1      5310be9129cdd382            \"\\n\\n A cup of tea for you! \\n\\n  .   \"   \n",
       "2      786d02526034fbe3  \":First point: Why should we keep this stuff? ...   \n",
       "3      b60d10c5300853d3  \"\\nThanks. The problem is that BLOAT is the pr...   \n",
       "4      f6dda5b833093d07  I agree with SH, that sort of 'improvement' sh...   \n",
       "...                 ...                                                ...   \n",
       "19995  17eca6d66735a702  \"\\n\\n clarification needed \\n\\nExplain/clarify...   \n",
       "19996  59789fede899e8a6  \"\\nI'll get to work on that. I'm going to chan...   \n",
       "19997  d17edba9aef2bc07  Labeling edits as vandalism when they are clea...   \n",
       "19998  78b621b6182a1d7c  \"\\nCould you please make this clear with the u...   \n",
       "19999  bd7a06c8991f55e8  bitch ,otherfucker that gotta write some dumb ...   \n",
       "\n",
       "       toxic  severe_toxic                                       cleaned_text  \\\n",
       "0          0             0  block gag forth feel bit ridiculous protect ta...   \n",
       "1          0             0                                            cup tea   \n",
       "2          0             0  first point keep stuff protoindoiranian cultur...   \n",
       "3          0             0  thanks problem bloat problem stuff need remove...   \n",
       "4          0             0                  agree sh sort improvement illegal   \n",
       "...      ...           ...                                                ...   \n",
       "19995      0             0  clarification need explainclarify word tolerat...   \n",
       "19996      0             0  get work go change name wikiproject texas univ...   \n",
       "19997      0             0      label edits vandalism clearly personal attack   \n",
       "19998      0             0       could please make clear usual block template   \n",
       "19999      1             0        bitch otherfucker get ta write dumb as shit   \n",
       "\n",
       "       count  \n",
       "0        121  \n",
       "1         19  \n",
       "2        250  \n",
       "3        316  \n",
       "4         52  \n",
       "...      ...  \n",
       "19995    334  \n",
       "19996    171  \n",
       "19997     62  \n",
       "19998     58  \n",
       "19999     50  \n",
       "\n",
       "[20000 rows x 6 columns]"
      ]
     },
     "execution_count": 2,
     "metadata": {},
     "output_type": "execute_result"
    }
   ],
   "source": [
    "#read csv file\n",
    "data = pd.read_csv('dataset/Cleaned_Data.csv')\n",
    "data.drop(columns=['Unnamed: 0'],inplace=True)\n",
    "data"
   ]
  },
  {
   "cell_type": "markdown",
   "metadata": {},
   "source": [
    "# Row Count"
   ]
  },
  {
   "cell_type": "code",
   "execution_count": 12,
   "metadata": {},
   "outputs": [
    {
     "name": "stdout",
     "output_type": "stream",
     "text": [
      "Number of severe toxic rows: 195\n",
      "Number of Slightly/Moderately toxic rows: 1496\n",
      "Number of non toxic rows: 18309\n"
     ]
    }
   ],
   "source": [
    "severely_toxic_data = data[data[\"severe_toxic\"] == 1]\n",
    "severely_toxic_data.count()\n",
    "index2 = severely_toxic_data.index\n",
    "number_of_rows_severe_toxic = len(index2)\n",
    "print(\"Number of severe toxic rows:\", number_of_rows_severe_toxic)\n",
    "\n",
    "toxic_data = data[data[\"toxic\"] == 1]\n",
    "index = toxic_data.index\n",
    "number_of_rows_toxic = len(index)-number_of_rows_severe_toxic\n",
    "print(\"Number of Slightly/Moderately toxic rows:\", number_of_rows_toxic-number_of_rows_severe_toxic)\n",
    "\n",
    "number_of_rows_non_toxic = len(data)-(number_of_rows_toxic-number_of_rows_severe_toxic)- number_of_rows_severe_toxic\n",
    "print(\"Number of non toxic rows:\", number_of_rows_non_toxic)"
   ]
  },
  {
   "cell_type": "markdown",
   "metadata": {},
   "source": [
    "# Pie chart of the number of Toxic/Severe Toxic/Non-toxic rows"
   ]
  },
  {
   "cell_type": "code",
   "execution_count": 116,
   "metadata": {},
   "outputs": [
    {
     "data": {
      "image/png": "[encoded data removed]",
      "text/plain": [
       "<Figure size 540x252 with 1 Axes>"
      ]
     },
     "metadata": {},
     "output_type": "display_data"
    }
   ],
   "source": [
    "rows = [number_of_rows_toxic, number_of_rows_severe_toxic,number_of_rows_non_toxic]\n",
    "\n",
    "mylabels=[\"Slighly/Moderately Toxic\",\"Severely Toxic\",\"Non Toxic\"]\n",
    "colors=['blue', 'red', 'green']\n",
    "plt.pie(rows, labels = mylabels,colors=colors,startangle = 90,explode=[0.1, 0.1, 0.1],autopct='%1.2f%%')\n",
    "plt.legend(title = \"Toxicity:\")\n",
    "plt.legend()\n",
    "plt.axis('equal')\n",
    "plt.show() "
   ]
  },
  {
   "cell_type": "markdown",
   "metadata": {},
   "source": [
    "# Frequency Histogram (Overall)"
   ]
  },
  {
   "cell_type": "code",
   "execution_count": 10,
   "metadata": {},
   "outputs": [
    {
     "data": {
      "text/plain": [
       "<function matplotlib.pyplot.show(*args, **kw)>"
      ]
     },
     "execution_count": 10,
     "metadata": {},
     "output_type": "execute_result"
    },
    {
     "data": {
      "image/png": "[encoded data removed]",
      "text/plain": [
       "<Figure size 864x648 with 1 Axes>"
      ]
     },
     "metadata": {
      "needs_background": "light"
     },
     "output_type": "display_data"
    }
   ],
   "source": [
    "split_df= data[\"cleaned_text\"].apply(lambda x: len(str(x).split(' ')))\n",
    "\n",
    "plt.figure(figsize=(12,9))\n",
    "plt.hist(split_df.value_counts(), color=\"green\")\n",
    "plt.xticks(rotation=45)\n",
    "plt.xlabel(\"Common words\")\n",
    "plt.ylabel(\"Count\")\n",
    "plt.title(\"Frequency Histogram (Overall)\")\n",
    "plt.show"
   ]
  },
  {
   "cell_type": "markdown",
   "metadata": {},
   "source": [
    "# Frequency Histogram (Slightly/Moderately Toxic)"
   ]
  },
  {
   "cell_type": "code",
   "execution_count": 114,
   "metadata": {},
   "outputs": [
    {
     "data": {
      "text/plain": [
       "<function matplotlib.pyplot.show(*args, **kw)>"
      ]
     },
     "execution_count": 114,
     "metadata": {},
     "output_type": "execute_result"
    },
    {
     "data": {
      "image/png": "[encoded data removed]",
      "text/plain": [
       "<Figure size 864x648 with 1 Axes>"
      ]
     },
     "metadata": {
      "needs_background": "light"
     },
     "output_type": "display_data"
    }
   ],
   "source": [
    "split_df= toxic_data[\"cleaned_text\"].apply(lambda x: len(str(x).split(' ')))\n",
    "\n",
    "plt.figure(figsize=(12,9))\n",
    "plt.hist(split_df.value_counts(), color=\"blue\")\n",
    "plt.xticks(rotation=45)\n",
    "plt.xlabel(\"Common words\")\n",
    "plt.ylabel(\"Count\")\n",
    "plt.title(\"Frequency Histogram (Slightly/Moderately Toxic)\")\n",
    "plt.show"
   ]
  },
  {
   "cell_type": "markdown",
   "metadata": {},
   "source": [
    "# Frequency Histogram (Severely Toxic)"
   ]
  },
  {
   "cell_type": "code",
   "execution_count": 115,
   "metadata": {},
   "outputs": [
    {
     "data": {
      "text/plain": [
       "<function matplotlib.pyplot.show(*args, **kw)>"
      ]
     },
     "execution_count": 115,
     "metadata": {},
     "output_type": "execute_result"
    },
    {
     "data": {
      "image/png": "[encoded data removed]",
      "text/plain": [
       "<Figure size 864x648 with 1 Axes>"
      ]
     },
     "metadata": {
      "needs_background": "light"
     },
     "output_type": "display_data"
    }
   ],
   "source": [
    "split_df= severely_toxic_data[\"cleaned_text\"].apply(lambda x: len(str(x).split(' ')))\n",
    "\n",
    "plt.figure(figsize=(12,9))\n",
    "plt.hist(split_df.value_counts(), color=\"red\")\n",
    "plt.xticks(rotation=45)\n",
    "plt.xlabel(\"Common words\")\n",
    "plt.ylabel(\"Count\")\n",
    "plt.title(\"Frequency Histogram (Severely Toxic)\")\n",
    "plt.show"
   ]
  },
  {
   "cell_type": "code",
   "execution_count": null,
   "metadata": {},
   "outputs": [],
   "source": []
  }
 ],
 "metadata": {
  "kernelspec": {
   "display_name": "Python 3",
   "language": "python",
   "name": "python3"
  },
  "language_info": {
   "codemirror_mode": {
    "name": "ipython",
    "version": 3
   },
   "file_extension": ".py",
   "mimetype": "text/x-python",
   "name": "python",
   "nbconvert_exporter": "python",
   "pygments_lexer": "ipython3",
   "version": "3.8.3"
  }
 },
 "nbformat": 4,
 "nbformat_minor": 4
}
