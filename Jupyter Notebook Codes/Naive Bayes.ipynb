{
 "cells": [
  {
   "cell_type": "code",
   "execution_count": 12,
   "metadata": {},
   "outputs": [],
   "source": [
    "# import libaries\n",
    "\n",
    "import pandas as pd\n",
    "import string\n",
    "from sklearn.feature_extraction.text import CountVectorizer\n",
    "from sklearn.naive_bayes import MultinomialNB\n",
    "from sklearn.model_selection import train_test_split\n",
    "from keras.preprocessing.text import Tokenizer\n",
    "from keras.preprocessing.sequence import pad_sequences\n"
   ]
  },
  {
   "cell_type": "markdown",
   "metadata": {},
   "source": [
    "# Import Training Data"
   ]
  },
  {
   "cell_type": "code",
   "execution_count": 2,
   "metadata": {
    "scrolled": true
   },
   "outputs": [
    {
     "data": {
      "text/html": [
       "<div>\n",
       "<style scoped>\n",
       "    .dataframe tbody tr th:only-of-type {\n",
       "        vertical-align: middle;\n",
       "    }\n",
       "\n",
       "    .dataframe tbody tr th {\n",
       "        vertical-align: top;\n",
       "    }\n",
       "\n",
       "    .dataframe thead th {\n",
       "        text-align: right;\n",
       "    }\n",
       "</style>\n",
       "<table border=\"1\" class=\"dataframe\">\n",
       "  <thead>\n",
       "    <tr style=\"text-align: right;\">\n",
       "      <th></th>\n",
       "      <th>id</th>\n",
       "      <th>comment_text</th>\n",
       "      <th>severe_toxic</th>\n",
       "      <th>toxic</th>\n",
       "      <th>cleaned_text</th>\n",
       "      <th>count</th>\n",
       "    </tr>\n",
       "  </thead>\n",
       "  <tbody>\n",
       "    <tr>\n",
       "      <th>0</th>\n",
       "      <td>c436fcdd4acc928a</td>\n",
       "      <td>naw i am fine see you later guys you rock ) ha...</td>\n",
       "      <td>0</td>\n",
       "      <td>0</td>\n",
       "      <td>nope fine see later guy rock hahahahaha userbi...</td>\n",
       "      <td>44</td>\n",
       "    </tr>\n",
       "    <tr>\n",
       "      <th>1</th>\n",
       "      <td>17bb9f8b0e2ff008</td>\n",
       "      <td>LOL\\r\\n\\r\\nREDDIT PWN YOU LMAO. UnknownTales1</td>\n",
       "      <td>0</td>\n",
       "      <td>0</td>\n",
       "      <td>lol reddit pwn lmao unknowntales</td>\n",
       "      <td>28</td>\n",
       "    </tr>\n",
       "    <tr>\n",
       "      <th>2</th>\n",
       "      <td>e86ae38d7ff0c1ff</td>\n",
       "      <td>You jumped the gun a bit too early - that's my...</td>\n",
       "      <td>0</td>\n",
       "      <td>0</td>\n",
       "      <td>jump gun bit early first revert hour</td>\n",
       "      <td>30</td>\n",
       "    </tr>\n",
       "    <tr>\n",
       "      <th>3</th>\n",
       "      <td>cb1fcb465bd93930</td>\n",
       "      <td>No way, Mercedez PWNZ!!</td>\n",
       "      <td>0</td>\n",
       "      <td>0</td>\n",
       "      <td>way mercedez pwnz</td>\n",
       "      <td>15</td>\n",
       "    </tr>\n",
       "    <tr>\n",
       "      <th>4</th>\n",
       "      <td>140cb8dc1570e423</td>\n",
       "      <td>I noticed it doesn't mention if the real Presi...</td>\n",
       "      <td>0</td>\n",
       "      <td>0</td>\n",
       "      <td>notice mention real president shot</td>\n",
       "      <td>30</td>\n",
       "    </tr>\n",
       "    <tr>\n",
       "      <th>...</th>\n",
       "      <td>...</td>\n",
       "      <td>...</td>\n",
       "      <td>...</td>\n",
       "      <td>...</td>\n",
       "      <td>...</td>\n",
       "      <td>...</td>\n",
       "    </tr>\n",
       "    <tr>\n",
       "      <th>30583</th>\n",
       "      <td>fef4cf7ba0012866</td>\n",
       "      <td>\"\\r\\n\\r\\n our previous conversation \\r\\n\\r\\nyo...</td>\n",
       "      <td>0</td>\n",
       "      <td>1</td>\n",
       "      <td>previous conversation fuck shit eating liberal...</td>\n",
       "      <td>804</td>\n",
       "    </tr>\n",
       "    <tr>\n",
       "      <th>30584</th>\n",
       "      <td>ff39a2895fc3b40e</td>\n",
       "      <td>YOU ARE A MISCHIEVIOUS PUBIC HAIR</td>\n",
       "      <td>0</td>\n",
       "      <td>1</td>\n",
       "      <td>mischievious pubic hair</td>\n",
       "      <td>21</td>\n",
       "    </tr>\n",
       "    <tr>\n",
       "      <th>30585</th>\n",
       "      <td>ffa33d3122b599d6</td>\n",
       "      <td>Your absurd edits \\r\\n\\r\\nYour absurd edits on...</td>\n",
       "      <td>0</td>\n",
       "      <td>1</td>\n",
       "      <td>absurd edits absurd edit great white shark tot...</td>\n",
       "      <td>178</td>\n",
       "    </tr>\n",
       "    <tr>\n",
       "      <th>30586</th>\n",
       "      <td>ffb47123b2d82762</td>\n",
       "      <td>\"\\r\\n\\r\\nHey listen don't you ever!!!! Delete ...</td>\n",
       "      <td>0</td>\n",
       "      <td>1</td>\n",
       "      <td>hey listen ever delete edits ever annoy wwe k ...</td>\n",
       "      <td>213</td>\n",
       "    </tr>\n",
       "    <tr>\n",
       "      <th>30587</th>\n",
       "      <td>ffbdbb0483ed0841</td>\n",
       "      <td>and i'm going to keep posting the stuff u dele...</td>\n",
       "      <td>0</td>\n",
       "      <td>1</td>\n",
       "      <td>go keep post stuff delete fuck site close fun ...</td>\n",
       "      <td>91</td>\n",
       "    </tr>\n",
       "  </tbody>\n",
       "</table>\n",
       "<p>30583 rows × 6 columns</p>\n",
       "</div>"
      ],
      "text/plain": [
       "                     id                                       comment_text  \\\n",
       "0      c436fcdd4acc928a  naw i am fine see you later guys you rock ) ha...   \n",
       "1      17bb9f8b0e2ff008      LOL\\r\\n\\r\\nREDDIT PWN YOU LMAO. UnknownTales1   \n",
       "2      e86ae38d7ff0c1ff  You jumped the gun a bit too early - that's my...   \n",
       "3      cb1fcb465bd93930                            No way, Mercedez PWNZ!!   \n",
       "4      140cb8dc1570e423  I noticed it doesn't mention if the real Presi...   \n",
       "...                 ...                                                ...   \n",
       "30583  fef4cf7ba0012866  \"\\r\\n\\r\\n our previous conversation \\r\\n\\r\\nyo...   \n",
       "30584  ff39a2895fc3b40e                  YOU ARE A MISCHIEVIOUS PUBIC HAIR   \n",
       "30585  ffa33d3122b599d6  Your absurd edits \\r\\n\\r\\nYour absurd edits on...   \n",
       "30586  ffb47123b2d82762  \"\\r\\n\\r\\nHey listen don't you ever!!!! Delete ...   \n",
       "30587  ffbdbb0483ed0841  and i'm going to keep posting the stuff u dele...   \n",
       "\n",
       "       severe_toxic  toxic                                       cleaned_text  \\\n",
       "0                 0      0  nope fine see later guy rock hahahahaha userbi...   \n",
       "1                 0      0                   lol reddit pwn lmao unknowntales   \n",
       "2                 0      0               jump gun bit early first revert hour   \n",
       "3                 0      0                                  way mercedez pwnz   \n",
       "4                 0      0                 notice mention real president shot   \n",
       "...             ...    ...                                                ...   \n",
       "30583             0      1  previous conversation fuck shit eating liberal...   \n",
       "30584             0      1                            mischievious pubic hair   \n",
       "30585             0      1  absurd edits absurd edit great white shark tot...   \n",
       "30586             0      1  hey listen ever delete edits ever annoy wwe k ...   \n",
       "30587             0      1  go keep post stuff delete fuck site close fun ...   \n",
       "\n",
       "       count  \n",
       "0         44  \n",
       "1         28  \n",
       "2         30  \n",
       "3         15  \n",
       "4         30  \n",
       "...      ...  \n",
       "30583    804  \n",
       "30584     21  \n",
       "30585    178  \n",
       "30586    213  \n",
       "30587     91  \n",
       "\n",
       "[30583 rows x 6 columns]"
      ]
     },
     "execution_count": 2,
     "metadata": {},
     "output_type": "execute_result"
    }
   ],
   "source": [
    "df = pd.read_csv(\"cleaned_30kundersampling.csv\", sep = \",\")\n",
    "df = df.iloc[: , 1:]\n",
    "df.dropna(inplace=True)\n",
    "df_labels = df[[\"toxic\", \"severe_toxic\"]]\n",
    "\n",
    "df.dropna(inplace=True)\n",
    "df"
   ]
  },
  {
   "cell_type": "markdown",
   "metadata": {},
   "source": [
    "# Import Test Data"
   ]
  },
  {
   "cell_type": "code",
   "execution_count": 3,
   "metadata": {},
   "outputs": [
    {
     "data": {
      "text/html": [
       "<div>\n",
       "<style scoped>\n",
       "    .dataframe tbody tr th:only-of-type {\n",
       "        vertical-align: middle;\n",
       "    }\n",
       "\n",
       "    .dataframe tbody tr th {\n",
       "        vertical-align: top;\n",
       "    }\n",
       "\n",
       "    .dataframe thead th {\n",
       "        text-align: right;\n",
       "    }\n",
       "</style>\n",
       "<table border=\"1\" class=\"dataframe\">\n",
       "  <thead>\n",
       "    <tr style=\"text-align: right;\">\n",
       "      <th></th>\n",
       "      <th>comment_text</th>\n",
       "      <th>cleaned_text</th>\n",
       "      <th>count</th>\n",
       "      <th>toxic</th>\n",
       "      <th>severe_toxic</th>\n",
       "    </tr>\n",
       "  </thead>\n",
       "  <tbody>\n",
       "    <tr>\n",
       "      <th>0</th>\n",
       "      <td>\" \\r\\n : ) No charge. Happy I was there to cat...</td>\n",
       "      <td>charge happy catch</td>\n",
       "      <td>16</td>\n",
       "      <td></td>\n",
       "      <td></td>\n",
       "    </tr>\n",
       "    <tr>\n",
       "      <th>1</th>\n",
       "      <td>==Thanks== \\r\\n For cleaning up the wp in wa i...</td>\n",
       "      <td>thanks clean wp wa issue</td>\n",
       "      <td>20</td>\n",
       "      <td></td>\n",
       "      <td></td>\n",
       "    </tr>\n",
       "    <tr>\n",
       "      <th>2</th>\n",
       "      <td>Why are people keen to act upon their whims an...</td>\n",
       "      <td>people keen act upon whim put spoiler rather s...</td>\n",
       "      <td>283</td>\n",
       "      <td></td>\n",
       "      <td></td>\n",
       "    </tr>\n",
       "    <tr>\n",
       "      <th>3</th>\n",
       "      <td>This Artist is FAKE! \\r\\n\\r\\n *   \\r\\n\\r\\n htt...</td>\n",
       "      <td>artist fake person shallow heartless quick tur...</td>\n",
       "      <td>226</td>\n",
       "      <td></td>\n",
       "      <td></td>\n",
       "    </tr>\n",
       "    <tr>\n",
       "      <th>4</th>\n",
       "      <td>\" \\r\\n\\r\\n == Come by the Talk Page == \\r\\n\\r\\...</td>\n",
       "      <td>come talk page hey bb come talk page redrafted...</td>\n",
       "      <td>159</td>\n",
       "      <td></td>\n",
       "      <td></td>\n",
       "    </tr>\n",
       "    <tr>\n",
       "      <th>...</th>\n",
       "      <td>...</td>\n",
       "      <td>...</td>\n",
       "      <td>...</td>\n",
       "      <td>...</td>\n",
       "      <td>...</td>\n",
       "    </tr>\n",
       "    <tr>\n",
       "      <th>13995</th>\n",
       "      <td>it is so gay!!!!!!!</td>\n",
       "      <td>gay</td>\n",
       "      <td>3</td>\n",
       "      <td></td>\n",
       "      <td></td>\n",
       "    </tr>\n",
       "    <tr>\n",
       "      <th>13996</th>\n",
       "      <td>==ISBN== \\r\\n Thanks fo rhe info.  Had no idea...</td>\n",
       "      <td>isbn thanks fo rhe info idea copy usage page w...</td>\n",
       "      <td>51</td>\n",
       "      <td></td>\n",
       "      <td></td>\n",
       "    </tr>\n",
       "    <tr>\n",
       "      <th>13997</th>\n",
       "      <td>== Neutrality disputed == \\r\\n I added  to sev...</td>\n",
       "      <td>neutrality dispute add several statement clear...</td>\n",
       "      <td>277</td>\n",
       "      <td></td>\n",
       "      <td></td>\n",
       "    </tr>\n",
       "    <tr>\n",
       "      <th>13998</th>\n",
       "      <td>User:Gert7|Gert7]]  10:34,</td>\n",
       "      <td>usergert gert</td>\n",
       "      <td>12</td>\n",
       "      <td></td>\n",
       "      <td></td>\n",
       "    </tr>\n",
       "    <tr>\n",
       "      <th>13999</th>\n",
       "      <td>I am a sockpuppet of fred guy. And i must say ...</td>\n",
       "      <td>sockpuppet fred guy must say wikipedia admins ...</td>\n",
       "      <td>49</td>\n",
       "      <td></td>\n",
       "      <td></td>\n",
       "    </tr>\n",
       "  </tbody>\n",
       "</table>\n",
       "<p>13899 rows × 5 columns</p>\n",
       "</div>"
      ],
      "text/plain": [
       "                                            comment_text  \\\n",
       "0      \" \\r\\n : ) No charge. Happy I was there to cat...   \n",
       "1      ==Thanks== \\r\\n For cleaning up the wp in wa i...   \n",
       "2      Why are people keen to act upon their whims an...   \n",
       "3      This Artist is FAKE! \\r\\n\\r\\n *   \\r\\n\\r\\n htt...   \n",
       "4      \" \\r\\n\\r\\n == Come by the Talk Page == \\r\\n\\r\\...   \n",
       "...                                                  ...   \n",
       "13995                                it is so gay!!!!!!!   \n",
       "13996  ==ISBN== \\r\\n Thanks fo rhe info.  Had no idea...   \n",
       "13997  == Neutrality disputed == \\r\\n I added  to sev...   \n",
       "13998                         User:Gert7|Gert7]]  10:34,   \n",
       "13999  I am a sockpuppet of fred guy. And i must say ...   \n",
       "\n",
       "                                            cleaned_text  count toxic  \\\n",
       "0                                     charge happy catch     16         \n",
       "1                               thanks clean wp wa issue     20         \n",
       "2      people keen act upon whim put spoiler rather s...    283         \n",
       "3      artist fake person shallow heartless quick tur...    226         \n",
       "4      come talk page hey bb come talk page redrafted...    159         \n",
       "...                                                  ...    ...   ...   \n",
       "13995                                                gay      3         \n",
       "13996  isbn thanks fo rhe info idea copy usage page w...     51         \n",
       "13997  neutrality dispute add several statement clear...    277         \n",
       "13998                                      usergert gert     12         \n",
       "13999  sockpuppet fred guy must say wikipedia admins ...     49         \n",
       "\n",
       "      severe_toxic  \n",
       "0                   \n",
       "1                   \n",
       "2                   \n",
       "3                   \n",
       "4                   \n",
       "...            ...  \n",
       "13995               \n",
       "13996               \n",
       "13997               \n",
       "13998               \n",
       "13999               \n",
       "\n",
       "[13899 rows x 5 columns]"
      ]
     },
     "execution_count": 3,
     "metadata": {},
     "output_type": "execute_result"
    }
   ],
   "source": [
    "test = pd.read_csv(\"dataset/test_cleaned_14k.csv\", sep = \",\")\n",
    "test = test.iloc[: , 1:]\n",
    "test.dropna(inplace=True)\n",
    "test['toxic'] = \"\"\n",
    "test['severe_toxic'] = \"\"\n",
    "\n",
    "test.dropna(inplace=True)\n",
    "test"
   ]
  },
  {
   "cell_type": "markdown",
   "metadata": {},
   "source": [
    "# Predictions"
   ]
  },
  {
   "cell_type": "markdown",
   "metadata": {},
   "source": [
    "Train-test split Naive Bayes predictions for toxic data"
   ]
  },
  {
   "cell_type": "code",
   "execution_count": 40,
   "metadata": {},
   "outputs": [],
   "source": [
    "# how to define X and y (from the iris data) for use with a MODEL\n",
    "X = df.cleaned_text\n",
    "y = df.toxic"
   ]
  },
  {
   "cell_type": "code",
   "execution_count": 41,
   "metadata": {},
   "outputs": [
    {
     "name": "stdout",
     "output_type": "stream",
     "text": [
      "Training dataset:  24466\n",
      "Test dataset:  6117\n"
     ]
    }
   ],
   "source": [
    "# SPlit into training and test data\n",
    "X_train, X_test, y_train, y_test = train_test_split(X, y, test_size=0.2, random_state=42)\n",
    "print(\"Training dataset: \", X_train.shape[0])\n",
    "print(\"Test dataset: \", X_test.shape[0])"
   ]
  },
  {
   "cell_type": "code",
   "execution_count": 42,
   "metadata": {},
   "outputs": [],
   "source": [
    "# Remove stopwords, and convert documents to token counts\n",
    "count_vector = CountVectorizer(stop_words = 'english')\n",
    "training_data = count_vector.fit_transform(X_train.values.astype('U'))\n",
    "testing_data = count_vector.transform(X_test.values.astype('U'))"
   ]
  },
  {
   "cell_type": "code",
   "execution_count": 43,
   "metadata": {
    "scrolled": true
   },
   "outputs": [
    {
     "data": {
      "text/plain": [
       "24675    know shit fuck talk real game cover real sorry...\n",
       "18582    g suck ya jackass serious get life come quasih...\n",
       "9136                                       knowin dah dork\n",
       "13466    production company produce one film till date ...\n",
       "17631    wendy get lose really everybody share bigoted ...\n",
       "                               ...                        \n",
       "3307                well make lifetime sentence learn read\n",
       "5520     metric section wikipediawikiproject womenwomen...\n",
       "13373    recent edits please cease add uncited inaccura...\n",
       "27921    shut fuck kiss as bitchwhat fuck talk aboutwho...\n",
       "20999    criticism jesusplucking eyeball outslavery jes...\n",
       "Name: cleaned_text, Length: 6117, dtype: object"
      ]
     },
     "execution_count": 43,
     "metadata": {},
     "output_type": "execute_result"
    }
   ],
   "source": [
    "X_test"
   ]
  },
  {
   "cell_type": "code",
   "execution_count": 44,
   "metadata": {},
   "outputs": [
    {
     "data": {
      "text/plain": [
       "6632     0\n",
       "13420    0\n",
       "13608    0\n",
       "5425     0\n",
       "15268    0\n",
       "        ..\n",
       "29807    1\n",
       "5394     0\n",
       "861      0\n",
       "15800    1\n",
       "23659    1\n",
       "Name: toxic, Length: 24466, dtype: int64"
      ]
     },
     "execution_count": 44,
     "metadata": {},
     "output_type": "execute_result"
    }
   ],
   "source": [
    "y_train"
   ]
  },
  {
   "cell_type": "code",
   "execution_count": 45,
   "metadata": {},
   "outputs": [
    {
     "data": {
      "text/plain": [
       "MultinomialNB()"
      ]
     },
     "execution_count": 45,
     "metadata": {},
     "output_type": "execute_result"
    }
   ],
   "source": [
    "# Run Naive Bayes algorithm\n",
    "naive_bayes = MultinomialNB()\n",
    "naive_bayes.fit(training_data, y_train)"
   ]
  },
  {
   "cell_type": "code",
   "execution_count": 46,
   "metadata": {},
   "outputs": [
    {
     "data": {
      "text/plain": [
       "array([1, 1, 1, ..., 0, 1, 0], dtype=int64)"
      ]
     },
     "execution_count": 46,
     "metadata": {},
     "output_type": "execute_result"
    }
   ],
   "source": [
    "# Predict a portion of training data\n",
    "predictions_toxic = naive_bayes.predict(testing_data)\n",
    "predictions_toxic"
   ]
  },
  {
   "cell_type": "markdown",
   "metadata": {},
   "source": [
    "Train-test split Naive Bayes predictions for severe toxic data"
   ]
  },
  {
   "cell_type": "code",
   "execution_count": 26,
   "metadata": {},
   "outputs": [],
   "source": [
    "# define independent and dependent variables\n",
    "X = df.cleaned_text\n",
    "y = df.severe_toxic"
   ]
  },
  {
   "cell_type": "code",
   "execution_count": 27,
   "metadata": {},
   "outputs": [
    {
     "name": "stdout",
     "output_type": "stream",
     "text": [
      "Training dataset:  21408\n",
      "Test dataset:  9175\n"
     ]
    }
   ],
   "source": [
    "# Split the dataset into train and test data\n",
    "X_train, X_test, y_train, y_test = train_test_split(X, y, test_size=0.3, random_state=42)\n",
    "print(\"Training dataset: \", X_train.shape[0])\n",
    "print(\"Test dataset: \", X_test.shape[0])"
   ]
  },
  {
   "cell_type": "code",
   "execution_count": 28,
   "metadata": {},
   "outputs": [],
   "source": [
    "# remove stop words\n",
    "count_vector = CountVectorizer(stop_words = 'english')\n",
    "training_data = count_vector.fit_transform(X_train.values.astype('U'))\n",
    "testing_data = count_vector.transform(X_test.values.astype('U'))"
   ]
  },
  {
   "cell_type": "code",
   "execution_count": 29,
   "metadata": {},
   "outputs": [
    {
     "data": {
      "text/plain": [
       "MultinomialNB()"
      ]
     },
     "execution_count": 29,
     "metadata": {},
     "output_type": "execute_result"
    }
   ],
   "source": [
    "naive_bayes = MultinomialNB()\n",
    "naive_bayes.fit(training_data, y_train)"
   ]
  },
  {
   "cell_type": "code",
   "execution_count": 30,
   "metadata": {},
   "outputs": [
    {
     "data": {
      "text/plain": [
       "array([0, 0, 0, ..., 0, 0, 0], dtype=int64)"
      ]
     },
     "execution_count": 30,
     "metadata": {},
     "output_type": "execute_result"
    }
   ],
   "source": [
    "predictions_severe_toxic = naive_bayes.predict(testing_data)\n",
    "predictions_severe_toxic"
   ]
  },
  {
   "cell_type": "markdown",
   "metadata": {},
   "source": [
    "# Model Evaluation"
   ]
  },
  {
   "cell_type": "markdown",
   "metadata": {},
   "source": [
    "Generate confusion matrix for toxic"
   ]
  },
  {
   "cell_type": "code",
   "execution_count": 20,
   "metadata": {},
   "outputs": [],
   "source": [
    "from sklearn.metrics import confusion_matrix"
   ]
  },
  {
   "cell_type": "code",
   "execution_count": 47,
   "metadata": {},
   "outputs": [
    {
     "data": {
      "image/png": "[encoded data removed]",
      "text/plain": [
       "<Figure size 432x288 with 2 Axes>"
      ]
     },
     "metadata": {
      "needs_background": "light"
     },
     "output_type": "display_data"
    }
   ],
   "source": [
    "import numpy as np\n",
    "import seaborn as sns\n",
    "import matplotlib.pyplot as plt\n",
    "from sklearn.metrics import plot_confusion_matrix\n",
    "\n",
    "# need to run Naive Bayes for *Toxic* before running confusion matrix\n",
    "cm = pd.DataFrame(confusion_matrix(y_test, predictions_toxic) , index = ['Fake','Not Fake'] , columns = ['Fake','Not Fake'])\n",
    "sns.heatmap(cm,cmap= 'Blues', annot = True, fmt='', xticklabels = ['Fake','Not Fake'], yticklabels = ['Fake','Not Fake'])\n",
    "plt.xlabel(\"Actual\")\n",
    "plt.ylabel(\"Predicted\")\n",
    "plt.title('Confusion Matrix on test data for Toxic')\n",
    "plt.show()"
   ]
  },
  {
   "cell_type": "code",
   "execution_count": 22,
   "metadata": {},
   "outputs": [
    {
     "name": "stdout",
     "output_type": "stream",
     "text": [
      "[[2778  289]\n",
      " [ 512 2538]]\n"
     ]
    }
   ],
   "source": [
    "conf_matrix_toxic = confusion_matrix(y_test, predictions_toxic)\n",
    "print(conf_matrix_toxic)"
   ]
  },
  {
   "cell_type": "code",
   "execution_count": 23,
   "metadata": {},
   "outputs": [],
   "source": [
    "tn1 = conf_matrix_toxic[1][1]\n",
    "fn1 = conf_matrix_toxic[0][1]\n",
    "tp1 = conf_matrix_toxic[0][0]\n",
    "fp1 = conf_matrix_toxic[1][0]"
   ]
  },
  {
   "cell_type": "code",
   "execution_count": 24,
   "metadata": {},
   "outputs": [],
   "source": [
    "accuracy =  (tp1 + tn1)/(tp1 + tn1 + fp1 + fn1) \n",
    "precision = (tp1/(tp1+fp1)) \n",
    "recall = (tp1/(tp1+fn1)) \n",
    "f1_score = 2* ((recall * precision) / (precision+recall))"
   ]
  },
  {
   "cell_type": "code",
   "execution_count": 25,
   "metadata": {},
   "outputs": [
    {
     "name": "stdout",
     "output_type": "stream",
     "text": [
      "NB Result (toxic rows)\n",
      "Accuracy: 0.86905\n",
      "Precision 0.84438\n",
      "Recall 0.90577\n",
      "F1 Score 0.874\n"
     ]
    }
   ],
   "source": [
    "print(\"NB Result (toxic rows)\")\n",
    "print(\"Accuracy:\", round(accuracy,5))\n",
    "print(\"Precision\" , round(precision,5))\n",
    "print(\"Recall\" ,round(recall,5))\n",
    "print(\"F1 Score\" , round(f1_score,5))"
   ]
  },
  {
   "cell_type": "markdown",
   "metadata": {},
   "source": [
    "Generate confusion matrix for severe toxic"
   ]
  },
  {
   "cell_type": "code",
   "execution_count": 39,
   "metadata": {},
   "outputs": [
    {
     "data": {
      "image/png": "[encoded data removed]",
      "text/plain": [
       "<Figure size 432x288 with 2 Axes>"
      ]
     },
     "metadata": {
      "needs_background": "light"
     },
     "output_type": "display_data"
    }
   ],
   "source": [
    "# need to run Naive Bayes for *Severe Toxic* before running confusion matrix\n",
    "cm = pd.DataFrame(confusion_matrix(y_test, predictions_severe_toxic) , index = ['Fake','Not Fake'] , columns = ['Fake','Not Fake'])\n",
    "sns.heatmap(cm,cmap= 'Blues', annot = True, fmt='', xticklabels = ['Fake','Not Fake'], yticklabels = ['Fake','Not Fake'])\n",
    "plt.xlabel(\"Actual\")\n",
    "plt.ylabel(\"Predicted\")\n",
    "plt.title('Confusion Matrix on test data for Severe Toxic')\n",
    "plt.show()"
   ]
  },
  {
   "cell_type": "code",
   "execution_count": 32,
   "metadata": {},
   "outputs": [
    {
     "name": "stdout",
     "output_type": "stream",
     "text": [
      "[[8459  241]\n",
      " [ 268  207]]\n"
     ]
    }
   ],
   "source": [
    "conf_matrix_severe_toxic = confusion_matrix(y_test, predictions_severe_toxic)\n",
    "print(conf_matrix_severe_toxic)"
   ]
  },
  {
   "cell_type": "code",
   "execution_count": 33,
   "metadata": {},
   "outputs": [],
   "source": [
    "tn2 = conf_matrix_severe_toxic[1][1]\n",
    "fn2 = conf_matrix_severe_toxic[0][1]\n",
    "tp2 = conf_matrix_severe_toxic[0][0]\n",
    "fp2 = conf_matrix_severe_toxic[1][0]"
   ]
  },
  {
   "cell_type": "code",
   "execution_count": 34,
   "metadata": {},
   "outputs": [],
   "source": [
    "accuracy =  (tp2 + tn2)/(tp2 + tn2 + fp2 + fn2) \n",
    "precision = (tp2/(tp2+fp2)) \n",
    "recall = (tp2/(tp2+fn2)) \n",
    "f1_score = 2* ((recall * precision) / (precision+recall))"
   ]
  },
  {
   "cell_type": "code",
   "execution_count": 35,
   "metadata": {},
   "outputs": [
    {
     "name": "stdout",
     "output_type": "stream",
     "text": [
      "NB Result (severe toxic rows)\n",
      "Accuracy: 0.94452\n",
      "Precision 0.96929\n",
      "Recall 0.9723\n",
      "F1 Score 0.97079\n"
     ]
    }
   ],
   "source": [
    "print(\"NB Result (severe toxic rows)\")\n",
    "print(\"Accuracy:\", round(accuracy,5))\n",
    "print(\"Precision\" , round(precision,5))\n",
    "print(\"Recall\" ,round(recall,5))\n",
    "print(\"F1 Score\" , round(f1_score,5))"
   ]
  },
  {
   "cell_type": "markdown",
   "metadata": {},
   "source": [
    "Calculate average accuracy, precision, recall and F1 score "
   ]
  },
  {
   "cell_type": "code",
   "execution_count": 36,
   "metadata": {},
   "outputs": [
    {
     "data": {
      "text/plain": [
       "0.9067883091700932"
      ]
     },
     "execution_count": 36,
     "metadata": {},
     "output_type": "execute_result"
    }
   ],
   "source": [
    "accuracy =  ((tp1 + tn1)/(tp1 + tn1 + fp1 + fn1) +  (tp2 + tn2)/(tp2 + tn2 + fp2 + fn2))/2\n",
    "accuracy"
   ]
  },
  {
   "cell_type": "code",
   "execution_count": 37,
   "metadata": {},
   "outputs": [],
   "source": [
    "precision = ((tp1/(tp1+fp1)) + (tp2/(tp2+fp2)))/2\n",
    "recall = ((tp1/(tp1+fn1)) + (tp2/(tp2+fn2)))/2\n",
    "f1_score = 2* ((recall * precision) / (precision+recall))"
   ]
  },
  {
   "cell_type": "code",
   "execution_count": 38,
   "metadata": {},
   "outputs": [
    {
     "name": "stdout",
     "output_type": "stream",
     "text": [
      "NB Result (Overall)\n",
      "Accuracy: 0.90679\n",
      "Precision 0.90683\n",
      "Recall 0.93903\n",
      "F1 Score 0.92265\n"
     ]
    }
   ],
   "source": [
    "print(\"NB Result (Overall)\")\n",
    "print(\"Accuracy:\", round(accuracy,5))\n",
    "print(\"Precision\" , round(precision,5))\n",
    "print(\"Recall\" ,round(recall,5))\n",
    "print(\"F1 Score\" , round(f1_score,5))"
   ]
  },
  {
   "cell_type": "markdown",
   "metadata": {},
   "source": [
    "# Predicting 14k test data"
   ]
  },
  {
   "cell_type": "markdown",
   "metadata": {},
   "source": [
    "Predict Toxic Rows"
   ]
  },
  {
   "cell_type": "code",
   "execution_count": 47,
   "metadata": {},
   "outputs": [
    {
     "name": "stdout",
     "output_type": "stream",
     "text": [
      "Training dataset:  30583\n",
      "Test dataset:  13899\n"
     ]
    }
   ],
   "source": [
    "X_train = df['cleaned_text']\n",
    "y_train = df['toxic']\n",
    "X_test = test['cleaned_text']\n",
    "y_test = test['toxic']\n",
    "\n",
    "\n",
    "print(\"Training dataset: \", X_train.shape[0])\n",
    "print(\"Test dataset: \", X_test.shape[0])"
   ]
  },
  {
   "cell_type": "code",
   "execution_count": 48,
   "metadata": {},
   "outputs": [],
   "source": [
    "count_vector = CountVectorizer(stop_words = 'english')\n",
    "training_data = count_vector.fit_transform(X_train.values.astype('U'))\n",
    "testing_data = count_vector.transform(X_test.values.astype('U'))"
   ]
  },
  {
   "cell_type": "code",
   "execution_count": 49,
   "metadata": {},
   "outputs": [
    {
     "data": {
      "text/plain": [
       "MultinomialNB()"
      ]
     },
     "execution_count": 49,
     "metadata": {},
     "output_type": "execute_result"
    }
   ],
   "source": [
    "naive_bayes = MultinomialNB()\n",
    "naive_bayes.fit(training_data, y_train)"
   ]
  },
  {
   "cell_type": "code",
   "execution_count": 50,
   "metadata": {},
   "outputs": [
    {
     "data": {
      "text/plain": [
       "array([0, 0, 0, ..., 0, 1, 1], dtype=int64)"
      ]
     },
     "execution_count": 50,
     "metadata": {},
     "output_type": "execute_result"
    }
   ],
   "source": [
    "predictions_toxic_test = naive_bayes.predict(testing_data)\n",
    "predictions_toxic_test"
   ]
  },
  {
   "cell_type": "code",
   "execution_count": 53,
   "metadata": {
    "scrolled": false
   },
   "outputs": [
    {
     "data": {
      "text/html": [
       "<div>\n",
       "<style scoped>\n",
       "    .dataframe tbody tr th:only-of-type {\n",
       "        vertical-align: middle;\n",
       "    }\n",
       "\n",
       "    .dataframe tbody tr th {\n",
       "        vertical-align: top;\n",
       "    }\n",
       "\n",
       "    .dataframe thead th {\n",
       "        text-align: right;\n",
       "    }\n",
       "</style>\n",
       "<table border=\"1\" class=\"dataframe\">\n",
       "  <thead>\n",
       "    <tr style=\"text-align: right;\">\n",
       "      <th></th>\n",
       "      <th>comment_text</th>\n",
       "      <th>cleaned_text</th>\n",
       "      <th>count</th>\n",
       "      <th>severe_toxic</th>\n",
       "      <th>Predicted_toxic</th>\n",
       "    </tr>\n",
       "  </thead>\n",
       "  <tbody>\n",
       "    <tr>\n",
       "      <th>0</th>\n",
       "      <td>\" \\r\\n : ) No charge. Happy I was there to cat...</td>\n",
       "      <td>charge happy catch</td>\n",
       "      <td>16</td>\n",
       "      <td></td>\n",
       "      <td>0</td>\n",
       "    </tr>\n",
       "    <tr>\n",
       "      <th>1</th>\n",
       "      <td>==Thanks== \\r\\n For cleaning up the wp in wa i...</td>\n",
       "      <td>thanks clean wp wa issue</td>\n",
       "      <td>20</td>\n",
       "      <td></td>\n",
       "      <td>0</td>\n",
       "    </tr>\n",
       "    <tr>\n",
       "      <th>2</th>\n",
       "      <td>Why are people keen to act upon their whims an...</td>\n",
       "      <td>people keen act upon whim put spoiler rather s...</td>\n",
       "      <td>283</td>\n",
       "      <td></td>\n",
       "      <td>0</td>\n",
       "    </tr>\n",
       "    <tr>\n",
       "      <th>3</th>\n",
       "      <td>This Artist is FAKE! \\r\\n\\r\\n *   \\r\\n\\r\\n htt...</td>\n",
       "      <td>artist fake person shallow heartless quick tur...</td>\n",
       "      <td>226</td>\n",
       "      <td></td>\n",
       "      <td>0</td>\n",
       "    </tr>\n",
       "    <tr>\n",
       "      <th>4</th>\n",
       "      <td>\" \\r\\n\\r\\n == Come by the Talk Page == \\r\\n\\r\\...</td>\n",
       "      <td>come talk page hey bb come talk page redrafted...</td>\n",
       "      <td>159</td>\n",
       "      <td></td>\n",
       "      <td>0</td>\n",
       "    </tr>\n",
       "    <tr>\n",
       "      <th>...</th>\n",
       "      <td>...</td>\n",
       "      <td>...</td>\n",
       "      <td>...</td>\n",
       "      <td>...</td>\n",
       "      <td>...</td>\n",
       "    </tr>\n",
       "    <tr>\n",
       "      <th>13995</th>\n",
       "      <td>it is so gay!!!!!!!</td>\n",
       "      <td>gay</td>\n",
       "      <td>3</td>\n",
       "      <td></td>\n",
       "      <td>1</td>\n",
       "    </tr>\n",
       "    <tr>\n",
       "      <th>13996</th>\n",
       "      <td>==ISBN== \\r\\n Thanks fo rhe info.  Had no idea...</td>\n",
       "      <td>isbn thanks fo rhe info idea copy usage page w...</td>\n",
       "      <td>51</td>\n",
       "      <td></td>\n",
       "      <td>0</td>\n",
       "    </tr>\n",
       "    <tr>\n",
       "      <th>13997</th>\n",
       "      <td>== Neutrality disputed == \\r\\n I added  to sev...</td>\n",
       "      <td>neutrality dispute add several statement clear...</td>\n",
       "      <td>277</td>\n",
       "      <td></td>\n",
       "      <td>0</td>\n",
       "    </tr>\n",
       "    <tr>\n",
       "      <th>13998</th>\n",
       "      <td>User:Gert7|Gert7]]  10:34,</td>\n",
       "      <td>usergert gert</td>\n",
       "      <td>12</td>\n",
       "      <td></td>\n",
       "      <td>1</td>\n",
       "    </tr>\n",
       "    <tr>\n",
       "      <th>13999</th>\n",
       "      <td>I am a sockpuppet of fred guy. And i must say ...</td>\n",
       "      <td>sockpuppet fred guy must say wikipedia admins ...</td>\n",
       "      <td>49</td>\n",
       "      <td></td>\n",
       "      <td>1</td>\n",
       "    </tr>\n",
       "  </tbody>\n",
       "</table>\n",
       "<p>13899 rows × 5 columns</p>\n",
       "</div>"
      ],
      "text/plain": [
       "                                            comment_text  \\\n",
       "0      \" \\r\\n : ) No charge. Happy I was there to cat...   \n",
       "1      ==Thanks== \\r\\n For cleaning up the wp in wa i...   \n",
       "2      Why are people keen to act upon their whims an...   \n",
       "3      This Artist is FAKE! \\r\\n\\r\\n *   \\r\\n\\r\\n htt...   \n",
       "4      \" \\r\\n\\r\\n == Come by the Talk Page == \\r\\n\\r\\...   \n",
       "...                                                  ...   \n",
       "13995                                it is so gay!!!!!!!   \n",
       "13996  ==ISBN== \\r\\n Thanks fo rhe info.  Had no idea...   \n",
       "13997  == Neutrality disputed == \\r\\n I added  to sev...   \n",
       "13998                         User:Gert7|Gert7]]  10:34,   \n",
       "13999  I am a sockpuppet of fred guy. And i must say ...   \n",
       "\n",
       "                                            cleaned_text  count severe_toxic  \\\n",
       "0                                     charge happy catch     16                \n",
       "1                               thanks clean wp wa issue     20                \n",
       "2      people keen act upon whim put spoiler rather s...    283                \n",
       "3      artist fake person shallow heartless quick tur...    226                \n",
       "4      come talk page hey bb come talk page redrafted...    159                \n",
       "...                                                  ...    ...          ...   \n",
       "13995                                                gay      3                \n",
       "13996  isbn thanks fo rhe info idea copy usage page w...     51                \n",
       "13997  neutrality dispute add several statement clear...    277                \n",
       "13998                                      usergert gert     12                \n",
       "13999  sockpuppet fred guy must say wikipedia admins ...     49                \n",
       "\n",
       "       Predicted_toxic  \n",
       "0                    0  \n",
       "1                    0  \n",
       "2                    0  \n",
       "3                    0  \n",
       "4                    0  \n",
       "...                ...  \n",
       "13995                1  \n",
       "13996                0  \n",
       "13997                0  \n",
       "13998                1  \n",
       "13999                1  \n",
       "\n",
       "[13899 rows x 5 columns]"
      ]
     },
     "execution_count": 53,
     "metadata": {},
     "output_type": "execute_result"
    }
   ],
   "source": [
    "predictions_df['Predicted_toxic'] = predictions_toxic_test.tolist()\n",
    "if 'toxic' in predictions_df.columns:\n",
    "    predictions_df.drop(columns=['toxic'],inplace=True)\n",
    "predictions_df"
   ]
  },
  {
   "cell_type": "markdown",
   "metadata": {},
   "source": [
    "Predict Severe Toxic Rows"
   ]
  },
  {
   "cell_type": "code",
   "execution_count": 54,
   "metadata": {},
   "outputs": [
    {
     "name": "stdout",
     "output_type": "stream",
     "text": [
      "Training dataset:  30583\n",
      "Test dataset:  13899\n"
     ]
    }
   ],
   "source": [
    "X_train = df['cleaned_text']\n",
    "y_train = df['severe_toxic']\n",
    "X_test = test['cleaned_text']\n",
    "y_test = test['severe_toxic']\n",
    "\n",
    "\n",
    "print(\"Training dataset: \", X_train.shape[0])\n",
    "print(\"Test dataset: \", X_test.shape[0])"
   ]
  },
  {
   "cell_type": "code",
   "execution_count": 55,
   "metadata": {},
   "outputs": [],
   "source": [
    "count_vector = CountVectorizer(stop_words = 'english')\n",
    "training_data = count_vector.fit_transform(X_train.values.astype('U'))\n",
    "testing_data = count_vector.transform(X_test.values.astype('U'))"
   ]
  },
  {
   "cell_type": "code",
   "execution_count": 56,
   "metadata": {},
   "outputs": [
    {
     "data": {
      "text/plain": [
       "MultinomialNB()"
      ]
     },
     "execution_count": 56,
     "metadata": {},
     "output_type": "execute_result"
    }
   ],
   "source": [
    "naive_bayes = MultinomialNB()\n",
    "naive_bayes.fit(training_data, y_train)"
   ]
  },
  {
   "cell_type": "code",
   "execution_count": 33,
   "metadata": {},
   "outputs": [
    {
     "data": {
      "text/plain": [
       "array([0, 0, 0, ..., 0, 0, 0], dtype=int64)"
      ]
     },
     "execution_count": 33,
     "metadata": {},
     "output_type": "execute_result"
    }
   ],
   "source": [
    "predictions_test = naive_bayes.predict(testing_data)\n",
    "predictions_test"
   ]
  },
  {
   "cell_type": "code",
   "execution_count": 58,
   "metadata": {},
   "outputs": [
    {
     "data": {
      "text/html": [
       "<div>\n",
       "<style scoped>\n",
       "    .dataframe tbody tr th:only-of-type {\n",
       "        vertical-align: middle;\n",
       "    }\n",
       "\n",
       "    .dataframe tbody tr th {\n",
       "        vertical-align: top;\n",
       "    }\n",
       "\n",
       "    .dataframe thead th {\n",
       "        text-align: right;\n",
       "    }\n",
       "</style>\n",
       "<table border=\"1\" class=\"dataframe\">\n",
       "  <thead>\n",
       "    <tr style=\"text-align: right;\">\n",
       "      <th></th>\n",
       "      <th>comment_text</th>\n",
       "      <th>cleaned_text</th>\n",
       "      <th>count</th>\n",
       "      <th>Predicted_toxic</th>\n",
       "      <th>Predicted_severe_toxic</th>\n",
       "    </tr>\n",
       "  </thead>\n",
       "  <tbody>\n",
       "    <tr>\n",
       "      <th>0</th>\n",
       "      <td>\" \\r\\n : ) No charge. Happy I was there to cat...</td>\n",
       "      <td>charge happy catch</td>\n",
       "      <td>16</td>\n",
       "      <td>0</td>\n",
       "      <td>0</td>\n",
       "    </tr>\n",
       "    <tr>\n",
       "      <th>1</th>\n",
       "      <td>==Thanks== \\r\\n For cleaning up the wp in wa i...</td>\n",
       "      <td>thanks clean wp wa issue</td>\n",
       "      <td>20</td>\n",
       "      <td>0</td>\n",
       "      <td>0</td>\n",
       "    </tr>\n",
       "    <tr>\n",
       "      <th>2</th>\n",
       "      <td>Why are people keen to act upon their whims an...</td>\n",
       "      <td>people keen act upon whim put spoiler rather s...</td>\n",
       "      <td>283</td>\n",
       "      <td>0</td>\n",
       "      <td>0</td>\n",
       "    </tr>\n",
       "    <tr>\n",
       "      <th>3</th>\n",
       "      <td>This Artist is FAKE! \\r\\n\\r\\n *   \\r\\n\\r\\n htt...</td>\n",
       "      <td>artist fake person shallow heartless quick tur...</td>\n",
       "      <td>226</td>\n",
       "      <td>0</td>\n",
       "      <td>0</td>\n",
       "    </tr>\n",
       "    <tr>\n",
       "      <th>4</th>\n",
       "      <td>\" \\r\\n\\r\\n == Come by the Talk Page == \\r\\n\\r\\...</td>\n",
       "      <td>come talk page hey bb come talk page redrafted...</td>\n",
       "      <td>159</td>\n",
       "      <td>0</td>\n",
       "      <td>0</td>\n",
       "    </tr>\n",
       "    <tr>\n",
       "      <th>...</th>\n",
       "      <td>...</td>\n",
       "      <td>...</td>\n",
       "      <td>...</td>\n",
       "      <td>...</td>\n",
       "      <td>...</td>\n",
       "    </tr>\n",
       "    <tr>\n",
       "      <th>13995</th>\n",
       "      <td>it is so gay!!!!!!!</td>\n",
       "      <td>gay</td>\n",
       "      <td>3</td>\n",
       "      <td>1</td>\n",
       "      <td>0</td>\n",
       "    </tr>\n",
       "    <tr>\n",
       "      <th>13996</th>\n",
       "      <td>==ISBN== \\r\\n Thanks fo rhe info.  Had no idea...</td>\n",
       "      <td>isbn thanks fo rhe info idea copy usage page w...</td>\n",
       "      <td>51</td>\n",
       "      <td>0</td>\n",
       "      <td>0</td>\n",
       "    </tr>\n",
       "    <tr>\n",
       "      <th>13997</th>\n",
       "      <td>== Neutrality disputed == \\r\\n I added  to sev...</td>\n",
       "      <td>neutrality dispute add several statement clear...</td>\n",
       "      <td>277</td>\n",
       "      <td>0</td>\n",
       "      <td>0</td>\n",
       "    </tr>\n",
       "    <tr>\n",
       "      <th>13998</th>\n",
       "      <td>User:Gert7|Gert7]]  10:34,</td>\n",
       "      <td>usergert gert</td>\n",
       "      <td>12</td>\n",
       "      <td>1</td>\n",
       "      <td>0</td>\n",
       "    </tr>\n",
       "    <tr>\n",
       "      <th>13999</th>\n",
       "      <td>I am a sockpuppet of fred guy. And i must say ...</td>\n",
       "      <td>sockpuppet fred guy must say wikipedia admins ...</td>\n",
       "      <td>49</td>\n",
       "      <td>1</td>\n",
       "      <td>0</td>\n",
       "    </tr>\n",
       "  </tbody>\n",
       "</table>\n",
       "<p>13899 rows × 5 columns</p>\n",
       "</div>"
      ],
      "text/plain": [
       "                                            comment_text  \\\n",
       "0      \" \\r\\n : ) No charge. Happy I was there to cat...   \n",
       "1      ==Thanks== \\r\\n For cleaning up the wp in wa i...   \n",
       "2      Why are people keen to act upon their whims an...   \n",
       "3      This Artist is FAKE! \\r\\n\\r\\n *   \\r\\n\\r\\n htt...   \n",
       "4      \" \\r\\n\\r\\n == Come by the Talk Page == \\r\\n\\r\\...   \n",
       "...                                                  ...   \n",
       "13995                                it is so gay!!!!!!!   \n",
       "13996  ==ISBN== \\r\\n Thanks fo rhe info.  Had no idea...   \n",
       "13997  == Neutrality disputed == \\r\\n I added  to sev...   \n",
       "13998                         User:Gert7|Gert7]]  10:34,   \n",
       "13999  I am a sockpuppet of fred guy. And i must say ...   \n",
       "\n",
       "                                            cleaned_text  count  \\\n",
       "0                                     charge happy catch     16   \n",
       "1                               thanks clean wp wa issue     20   \n",
       "2      people keen act upon whim put spoiler rather s...    283   \n",
       "3      artist fake person shallow heartless quick tur...    226   \n",
       "4      come talk page hey bb come talk page redrafted...    159   \n",
       "...                                                  ...    ...   \n",
       "13995                                                gay      3   \n",
       "13996  isbn thanks fo rhe info idea copy usage page w...     51   \n",
       "13997  neutrality dispute add several statement clear...    277   \n",
       "13998                                      usergert gert     12   \n",
       "13999  sockpuppet fred guy must say wikipedia admins ...     49   \n",
       "\n",
       "       Predicted_toxic  Predicted_severe_toxic  \n",
       "0                    0                       0  \n",
       "1                    0                       0  \n",
       "2                    0                       0  \n",
       "3                    0                       0  \n",
       "4                    0                       0  \n",
       "...                ...                     ...  \n",
       "13995                1                       0  \n",
       "13996                0                       0  \n",
       "13997                0                       0  \n",
       "13998                1                       0  \n",
       "13999                1                       0  \n",
       "\n",
       "[13899 rows x 5 columns]"
      ]
     },
     "execution_count": 58,
     "metadata": {},
     "output_type": "execute_result"
    }
   ],
   "source": [
    "# Add predictions to dataframe\n",
    "predictions_df['Predicted_severe_toxic'] = predictions_test.tolist()\n",
    "if 'severe_toxic' in predictions_df.columns:\n",
    "    predictions_df.drop(columns=['severe_toxic'],inplace=True)\n",
    "predictions_df"
   ]
  },
  {
   "cell_type": "code",
   "execution_count": 123,
   "metadata": {},
   "outputs": [
    {
     "name": "stdout",
     "output_type": "stream",
     "text": [
      "toxic count:  4157\n",
      "severe-toxic count:  322\n"
     ]
    }
   ],
   "source": [
    "count = (predictions_df['Predicted_toxic'] == 1).sum()\n",
    "print(\"toxic count: \" ,count)\n",
    "\n",
    "count1 = (predictions_df['Predicted_severe_toxic'] == 1).sum()\n",
    "print(\"severe-toxic count: \" ,count1)"
   ]
  },
  {
   "cell_type": "code",
   "execution_count": 125,
   "metadata": {
    "scrolled": true
   },
   "outputs": [],
   "source": [
    "# Write to csv\n",
    "predictions_df.to_csv('Predictions/NaiveBayesPredictions.csv',index=False)"
   ]
  },
  {
   "cell_type": "code",
   "execution_count": 6,
   "metadata": {},
   "outputs": [
    {
     "data": {
      "text/html": [
       "<div>\n",
       "<style scoped>\n",
       "    .dataframe tbody tr th:only-of-type {\n",
       "        vertical-align: middle;\n",
       "    }\n",
       "\n",
       "    .dataframe tbody tr th {\n",
       "        vertical-align: top;\n",
       "    }\n",
       "\n",
       "    .dataframe thead th {\n",
       "        text-align: right;\n",
       "    }\n",
       "</style>\n",
       "<table border=\"1\" class=\"dataframe\">\n",
       "  <thead>\n",
       "    <tr style=\"text-align: right;\">\n",
       "      <th></th>\n",
       "      <th>cleaned_text</th>\n",
       "      <th>count</th>\n",
       "      <th>Predicted_toxic</th>\n",
       "      <th>Predicted_severe_toxic</th>\n",
       "    </tr>\n",
       "  </thead>\n",
       "  <tbody>\n",
       "    <tr>\n",
       "      <th>0</th>\n",
       "      <td>charge happy catch</td>\n",
       "      <td>16</td>\n",
       "      <td>0</td>\n",
       "      <td>0</td>\n",
       "    </tr>\n",
       "    <tr>\n",
       "      <th>1</th>\n",
       "      <td>thanks clean wp wa issue</td>\n",
       "      <td>20</td>\n",
       "      <td>0</td>\n",
       "      <td>0</td>\n",
       "    </tr>\n",
       "    <tr>\n",
       "      <th>2</th>\n",
       "      <td>people keen act upon whim put spoiler rather s...</td>\n",
       "      <td>283</td>\n",
       "      <td>0</td>\n",
       "      <td>0</td>\n",
       "    </tr>\n",
       "    <tr>\n",
       "      <th>3</th>\n",
       "      <td>artist fake person shallow heartless quick tur...</td>\n",
       "      <td>226</td>\n",
       "      <td>0</td>\n",
       "      <td>0</td>\n",
       "    </tr>\n",
       "    <tr>\n",
       "      <th>4</th>\n",
       "      <td>come talk page hey bb come talk page redrafted...</td>\n",
       "      <td>159</td>\n",
       "      <td>0</td>\n",
       "      <td>0</td>\n",
       "    </tr>\n",
       "    <tr>\n",
       "      <th>...</th>\n",
       "      <td>...</td>\n",
       "      <td>...</td>\n",
       "      <td>...</td>\n",
       "      <td>...</td>\n",
       "    </tr>\n",
       "    <tr>\n",
       "      <th>13894</th>\n",
       "      <td>gay</td>\n",
       "      <td>3</td>\n",
       "      <td>1</td>\n",
       "      <td>0</td>\n",
       "    </tr>\n",
       "    <tr>\n",
       "      <th>13895</th>\n",
       "      <td>isbn thanks fo rhe info idea copy usage page w...</td>\n",
       "      <td>51</td>\n",
       "      <td>0</td>\n",
       "      <td>0</td>\n",
       "    </tr>\n",
       "    <tr>\n",
       "      <th>13896</th>\n",
       "      <td>neutrality dispute add several statement clear...</td>\n",
       "      <td>277</td>\n",
       "      <td>0</td>\n",
       "      <td>0</td>\n",
       "    </tr>\n",
       "    <tr>\n",
       "      <th>13897</th>\n",
       "      <td>usergert gert</td>\n",
       "      <td>12</td>\n",
       "      <td>1</td>\n",
       "      <td>0</td>\n",
       "    </tr>\n",
       "    <tr>\n",
       "      <th>13898</th>\n",
       "      <td>sockpuppet fred guy must say wikipedia admins ...</td>\n",
       "      <td>49</td>\n",
       "      <td>1</td>\n",
       "      <td>0</td>\n",
       "    </tr>\n",
       "  </tbody>\n",
       "</table>\n",
       "<p>13899 rows × 4 columns</p>\n",
       "</div>"
      ],
      "text/plain": [
       "                                            cleaned_text  count  \\\n",
       "0                                     charge happy catch     16   \n",
       "1                               thanks clean wp wa issue     20   \n",
       "2      people keen act upon whim put spoiler rather s...    283   \n",
       "3      artist fake person shallow heartless quick tur...    226   \n",
       "4      come talk page hey bb come talk page redrafted...    159   \n",
       "...                                                  ...    ...   \n",
       "13894                                                gay      3   \n",
       "13895  isbn thanks fo rhe info idea copy usage page w...     51   \n",
       "13896  neutrality dispute add several statement clear...    277   \n",
       "13897                                      usergert gert     12   \n",
       "13898  sockpuppet fred guy must say wikipedia admins ...     49   \n",
       "\n",
       "       Predicted_toxic  Predicted_severe_toxic  \n",
       "0                    0                       0  \n",
       "1                    0                       0  \n",
       "2                    0                       0  \n",
       "3                    0                       0  \n",
       "4                    0                       0  \n",
       "...                ...                     ...  \n",
       "13894                1                       0  \n",
       "13895                0                       0  \n",
       "13896                0                       0  \n",
       "13897                1                       0  \n",
       "13898                1                       0  \n",
       "\n",
       "[13899 rows x 4 columns]"
      ]
     },
     "execution_count": 6,
     "metadata": {},
     "output_type": "execute_result"
    }
   ],
   "source": [
    "df_split = pd.read_csv(\"Predictions/NaiveBayesPredictions.csv\", sep = \",\")\n",
    "df_split = df_split.iloc[: , 1:]\n",
    "df_split.dropna(inplace=True)\n",
    "# df_labels = df[[\"toxic\", \"severe_toxic\"]]\n",
    "\n",
    "df_split.dropna(inplace=True)\n",
    "df_split"
   ]
  },
  {
   "cell_type": "code",
   "execution_count": 9,
   "metadata": {},
   "outputs": [],
   "source": [
    "df_severetoxic= df_split.drop(['Predicted_toxic'], axis=1)"
   ]
  },
  {
   "cell_type": "code",
   "execution_count": 10,
   "metadata": {},
   "outputs": [],
   "source": [
    "df_severetoxic.to_csv('Predictions/NaiveBayes_SevereToxicPredictions.csv',index=False)"
   ]
  },
  {
   "cell_type": "code",
   "execution_count": 11,
   "metadata": {},
   "outputs": [],
   "source": [
    "df_toxic= df_split.drop(['Predicted_severe_toxic'], axis=1)"
   ]
  },
  {
   "cell_type": "code",
   "execution_count": 12,
   "metadata": {},
   "outputs": [],
   "source": [
    "df_toxic.to_csv('Predictions/NaiveBayes_ToxicPredictions.csv',index=False)"
   ]
  }
 ],
 "metadata": {
  "kernelspec": {
   "display_name": "Python 3 (ipykernel)",
   "language": "python",
   "name": "python3"
  },
  "language_info": {
   "codemirror_mode": {
    "name": "ipython",
    "version": 3
   },
   "file_extension": ".py",
   "mimetype": "text/x-python",
   "name": "python",
   "nbconvert_exporter": "python",
   "pygments_lexer": "ipython3",
   "version": "3.8.3"
  }
 },
 "nbformat": 4,
 "nbformat_minor": 4
}
