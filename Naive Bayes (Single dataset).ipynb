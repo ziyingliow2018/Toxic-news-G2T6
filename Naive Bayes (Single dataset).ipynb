{
 "cells": [
  {
   "cell_type": "code",
   "execution_count": 19,
   "metadata": {},
   "outputs": [],
   "source": [
    "# import libaries\n",
    "\n",
    "import pandas as pd\n",
    "import string\n",
    "from sklearn.feature_extraction.text import CountVectorizer\n",
    "from sklearn.naive_bayes import MultinomialNB\n",
    "from sklearn.model_selection import train_test_split\n"
   ]
  },
  {
   "cell_type": "code",
   "execution_count": 20,
   "metadata": {
    "scrolled": true
   },
   "outputs": [
    {
     "data": {
      "text/html": [
       "<div>\n",
       "<style scoped>\n",
       "    .dataframe tbody tr th:only-of-type {\n",
       "        vertical-align: middle;\n",
       "    }\n",
       "\n",
       "    .dataframe tbody tr th {\n",
       "        vertical-align: top;\n",
       "    }\n",
       "\n",
       "    .dataframe thead th {\n",
       "        text-align: right;\n",
       "    }\n",
       "</style>\n",
       "<table border=\"1\" class=\"dataframe\">\n",
       "  <thead>\n",
       "    <tr style=\"text-align: right;\">\n",
       "      <th></th>\n",
       "      <th>id</th>\n",
       "      <th>comment_text</th>\n",
       "      <th>severe_toxic</th>\n",
       "      <th>toxic</th>\n",
       "      <th>cleaned_text</th>\n",
       "      <th>count</th>\n",
       "    </tr>\n",
       "  </thead>\n",
       "  <tbody>\n",
       "    <tr>\n",
       "      <th>0</th>\n",
       "      <td>c436fcdd4acc928a</td>\n",
       "      <td>naw i am fine see you later guys you rock ) ha...</td>\n",
       "      <td>0</td>\n",
       "      <td>0</td>\n",
       "      <td>nope fine see later guy rock hahahahaha userbi...</td>\n",
       "      <td>44</td>\n",
       "    </tr>\n",
       "    <tr>\n",
       "      <th>1</th>\n",
       "      <td>17bb9f8b0e2ff008</td>\n",
       "      <td>LOL\\r\\n\\r\\nREDDIT PWN YOU LMAO. UnknownTales1</td>\n",
       "      <td>0</td>\n",
       "      <td>0</td>\n",
       "      <td>lol reddit pwn lmao unknowntales</td>\n",
       "      <td>28</td>\n",
       "    </tr>\n",
       "    <tr>\n",
       "      <th>2</th>\n",
       "      <td>e86ae38d7ff0c1ff</td>\n",
       "      <td>You jumped the gun a bit too early - that's my...</td>\n",
       "      <td>0</td>\n",
       "      <td>0</td>\n",
       "      <td>jump gun bit early first revert hour</td>\n",
       "      <td>30</td>\n",
       "    </tr>\n",
       "    <tr>\n",
       "      <th>3</th>\n",
       "      <td>cb1fcb465bd93930</td>\n",
       "      <td>No way, Mercedez PWNZ!!</td>\n",
       "      <td>0</td>\n",
       "      <td>0</td>\n",
       "      <td>way mercedez pwnz</td>\n",
       "      <td>15</td>\n",
       "    </tr>\n",
       "    <tr>\n",
       "      <th>4</th>\n",
       "      <td>140cb8dc1570e423</td>\n",
       "      <td>I noticed it doesn't mention if the real Presi...</td>\n",
       "      <td>0</td>\n",
       "      <td>0</td>\n",
       "      <td>notice mention real president shot</td>\n",
       "      <td>30</td>\n",
       "    </tr>\n",
       "    <tr>\n",
       "      <th>...</th>\n",
       "      <td>...</td>\n",
       "      <td>...</td>\n",
       "      <td>...</td>\n",
       "      <td>...</td>\n",
       "      <td>...</td>\n",
       "      <td>...</td>\n",
       "    </tr>\n",
       "    <tr>\n",
       "      <th>30583</th>\n",
       "      <td>fef4cf7ba0012866</td>\n",
       "      <td>\"\\r\\n\\r\\n our previous conversation \\r\\n\\r\\nyo...</td>\n",
       "      <td>0</td>\n",
       "      <td>1</td>\n",
       "      <td>previous conversation fuck shit eating liberal...</td>\n",
       "      <td>804</td>\n",
       "    </tr>\n",
       "    <tr>\n",
       "      <th>30584</th>\n",
       "      <td>ff39a2895fc3b40e</td>\n",
       "      <td>YOU ARE A MISCHIEVIOUS PUBIC HAIR</td>\n",
       "      <td>0</td>\n",
       "      <td>1</td>\n",
       "      <td>mischievious pubic hair</td>\n",
       "      <td>21</td>\n",
       "    </tr>\n",
       "    <tr>\n",
       "      <th>30585</th>\n",
       "      <td>ffa33d3122b599d6</td>\n",
       "      <td>Your absurd edits \\r\\n\\r\\nYour absurd edits on...</td>\n",
       "      <td>0</td>\n",
       "      <td>1</td>\n",
       "      <td>absurd edits absurd edit great white shark tot...</td>\n",
       "      <td>178</td>\n",
       "    </tr>\n",
       "    <tr>\n",
       "      <th>30586</th>\n",
       "      <td>ffb47123b2d82762</td>\n",
       "      <td>\"\\r\\n\\r\\nHey listen don't you ever!!!! Delete ...</td>\n",
       "      <td>0</td>\n",
       "      <td>1</td>\n",
       "      <td>hey listen ever delete edits ever annoy wwe k ...</td>\n",
       "      <td>213</td>\n",
       "    </tr>\n",
       "    <tr>\n",
       "      <th>30587</th>\n",
       "      <td>ffbdbb0483ed0841</td>\n",
       "      <td>and i'm going to keep posting the stuff u dele...</td>\n",
       "      <td>0</td>\n",
       "      <td>1</td>\n",
       "      <td>go keep post stuff delete fuck site close fun ...</td>\n",
       "      <td>91</td>\n",
       "    </tr>\n",
       "  </tbody>\n",
       "</table>\n",
       "<p>30588 rows × 6 columns</p>\n",
       "</div>"
      ],
      "text/plain": [
       "                     id                                       comment_text  \\\n",
       "0      c436fcdd4acc928a  naw i am fine see you later guys you rock ) ha...   \n",
       "1      17bb9f8b0e2ff008      LOL\\r\\n\\r\\nREDDIT PWN YOU LMAO. UnknownTales1   \n",
       "2      e86ae38d7ff0c1ff  You jumped the gun a bit too early - that's my...   \n",
       "3      cb1fcb465bd93930                            No way, Mercedez PWNZ!!   \n",
       "4      140cb8dc1570e423  I noticed it doesn't mention if the real Presi...   \n",
       "...                 ...                                                ...   \n",
       "30583  fef4cf7ba0012866  \"\\r\\n\\r\\n our previous conversation \\r\\n\\r\\nyo...   \n",
       "30584  ff39a2895fc3b40e                  YOU ARE A MISCHIEVIOUS PUBIC HAIR   \n",
       "30585  ffa33d3122b599d6  Your absurd edits \\r\\n\\r\\nYour absurd edits on...   \n",
       "30586  ffb47123b2d82762  \"\\r\\n\\r\\nHey listen don't you ever!!!! Delete ...   \n",
       "30587  ffbdbb0483ed0841  and i'm going to keep posting the stuff u dele...   \n",
       "\n",
       "       severe_toxic  toxic                                       cleaned_text  \\\n",
       "0                 0      0  nope fine see later guy rock hahahahaha userbi...   \n",
       "1                 0      0                   lol reddit pwn lmao unknowntales   \n",
       "2                 0      0               jump gun bit early first revert hour   \n",
       "3                 0      0                                  way mercedez pwnz   \n",
       "4                 0      0                 notice mention real president shot   \n",
       "...             ...    ...                                                ...   \n",
       "30583             0      1  previous conversation fuck shit eating liberal...   \n",
       "30584             0      1                            mischievious pubic hair   \n",
       "30585             0      1  absurd edits absurd edit great white shark tot...   \n",
       "30586             0      1  hey listen ever delete edits ever annoy wwe k ...   \n",
       "30587             0      1  go keep post stuff delete fuck site close fun ...   \n",
       "\n",
       "       count  \n",
       "0         44  \n",
       "1         28  \n",
       "2         30  \n",
       "3         15  \n",
       "4         30  \n",
       "...      ...  \n",
       "30583    804  \n",
       "30584     21  \n",
       "30585    178  \n",
       "30586    213  \n",
       "30587     91  \n",
       "\n",
       "[30588 rows x 6 columns]"
      ]
     },
     "execution_count": 20,
     "metadata": {},
     "output_type": "execute_result"
    }
   ],
   "source": [
    "df = pd.read_csv(\"cleaned_30kundersampling.csv\", sep = \",\")\n",
    "df = df.iloc[: , 1:]\n",
    "df"
   ]
  },
  {
   "cell_type": "code",
   "execution_count": 36,
   "metadata": {},
   "outputs": [],
   "source": [
    "# how to define X and y (from the iris data) for use with a MODEL\n",
    "X = df.comment_text\n",
    "y = df.toxic"
   ]
  },
  {
   "cell_type": "code",
   "execution_count": 37,
   "metadata": {},
   "outputs": [
    {
     "name": "stdout",
     "output_type": "stream",
     "text": [
      "Training dataset:  20493\n",
      "Test dataset:  10095\n"
     ]
    }
   ],
   "source": [
    "X_train, X_test, y_train, y_test = train_test_split(X, y, test_size=0.33, random_state=42)\n",
    "print(\"Training dataset: \", X_train.shape[0])\n",
    "print(\"Test dataset: \", X_test.shape[0])"
   ]
  },
  {
   "cell_type": "code",
   "execution_count": 38,
   "metadata": {},
   "outputs": [],
   "source": [
    "count_vector = CountVectorizer(stop_words = 'english')\n",
    "training_data = count_vector.fit_transform(X_train.values.astype('U'))\n",
    "testing_data = count_vector.transform(X_test.values.astype('U'))"
   ]
  },
  {
   "cell_type": "code",
   "execution_count": 39,
   "metadata": {},
   "outputs": [
    {
     "data": {
      "text/plain": [
       "MultinomialNB()"
      ]
     },
     "execution_count": 39,
     "metadata": {},
     "output_type": "execute_result"
    }
   ],
   "source": [
    "naive_bayes = MultinomialNB()\n",
    "naive_bayes.fit(training_data, y_train)"
   ]
  },
  {
   "cell_type": "code",
   "execution_count": 40,
   "metadata": {},
   "outputs": [
    {
     "data": {
      "text/plain": [
       "array([1, 0, 1, ..., 1, 0, 1], dtype=int64)"
      ]
     },
     "execution_count": 40,
     "metadata": {},
     "output_type": "execute_result"
    }
   ],
   "source": [
    "predictions = naive_bayes.predict(testing_data)\n",
    "predictions"
   ]
  },
  {
   "cell_type": "markdown",
   "metadata": {},
   "source": [
    "# Model Evaluation"
   ]
  },
  {
   "cell_type": "code",
   "execution_count": 41,
   "metadata": {},
   "outputs": [],
   "source": [
    "from sklearn.metrics import confusion_matrix"
   ]
  },
  {
   "cell_type": "code",
   "execution_count": 42,
   "metadata": {},
   "outputs": [
    {
     "name": "stdout",
     "output_type": "stream",
     "text": [
      "[[4610  476]\n",
      " [ 811 4198]]\n"
     ]
    }
   ],
   "source": [
    "conf_matrix = confusion_matrix(y_test, predictions)\n",
    "print(conf_matrix)"
   ]
  },
  {
   "cell_type": "code",
   "execution_count": 43,
   "metadata": {},
   "outputs": [],
   "source": [
    "tn = conf_matrix[1][1]\n",
    "fn = conf_matrix[0][1]\n",
    "tp = conf_matrix[0][0]\n",
    "fp = conf_matrix[1][0]"
   ]
  },
  {
   "cell_type": "code",
   "execution_count": 45,
   "metadata": {},
   "outputs": [
    {
     "data": {
      "text/plain": [
       "0.8725111441307578"
      ]
     },
     "execution_count": 45,
     "metadata": {},
     "output_type": "execute_result"
    }
   ],
   "source": [
    "accuracy =  (tp + tn)/(tp + tn + fp + fn)\n",
    "accuracy"
   ]
  },
  {
   "cell_type": "code",
   "execution_count": 46,
   "metadata": {},
   "outputs": [],
   "source": [
    "precision = tp/(tp+fp)\n",
    "recall = tp/(tp+fn)\n",
    "f1_score = 2* ((recall * precision) / (precision+recall))"
   ]
  },
  {
   "cell_type": "code",
   "execution_count": 47,
   "metadata": {},
   "outputs": [
    {
     "name": "stdout",
     "output_type": "stream",
     "text": [
      "NB Result\n",
      "Accuracy: 0.87251\n",
      "Precision 0.8504\n",
      "Recall 0.90641\n",
      "F1 Score 0.87751\n"
     ]
    }
   ],
   "source": [
    "print(\"NB Result\")\n",
    "print(\"Accuracy:\", round(accuracy,5))\n",
    "print(\"Precision\" , round(precision,5))\n",
    "print(\"Recall\" ,round(recall,5))\n",
    "print(\"F1 Score\" , round(f1_score,5))"
   ]
  },
  {
   "cell_type": "code",
   "execution_count": 49,
   "metadata": {},
   "outputs": [
    {
     "data": {
      "image/png": "[encoded data removed]",
      "text/plain": [
       "<Figure size 432x288 with 2 Axes>"
      ]
     },
     "metadata": {
      "needs_background": "light"
     },
     "output_type": "display_data"
    }
   ],
   "source": [
    "import numpy as np\n",
    "import seaborn as sns\n",
    "import matplotlib.pyplot as plt\n",
    "from sklearn.metrics import plot_confusion_matrix\n",
    "\n",
    "cm = pd.DataFrame(confusion_matrix(y_test, predictions) , index = ['Fake','Not Fake'] , columns = ['Fake','Not Fake'])\n",
    "sns.heatmap(cm,cmap= 'Blues', annot = True, fmt='', xticklabels = ['Fake','Not Fake'], yticklabels = ['Fake','Not Fake'])\n",
    "plt.xlabel(\"Actual\")\n",
    "plt.ylabel(\"Predicted\")\n",
    "plt.title('Confusion matrix on test data')\n",
    "plt.show()"
   ]
  },
  {
   "cell_type": "code",
   "execution_count": null,
   "metadata": {},
   "outputs": [],
   "source": []
  }
 ],
 "metadata": {
  "kernelspec": {
   "display_name": "Python 3",
   "language": "python",
   "name": "python3"
  },
  "language_info": {
   "codemirror_mode": {
    "name": "ipython",
    "version": 3
   },
   "file_extension": ".py",
   "mimetype": "text/x-python",
   "name": "python",
   "nbconvert_exporter": "python",
   "pygments_lexer": "ipython3",
   "version": "3.8.3"
  }
 },
 "nbformat": 4,
 "nbformat_minor": 4
}
