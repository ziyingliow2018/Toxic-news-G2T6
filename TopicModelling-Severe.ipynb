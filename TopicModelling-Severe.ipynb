{
 "cells": [
  {
   "cell_type": "markdown",
   "metadata": {},
   "source": [
    "'''\n",
    "In this script, we perform topic modeling using the LDA approach (Python sklearn package).\n",
    "\n",
    "Topic Modeling is a technique to extract the hidden topics from large volumes of text. Latent Dirichlet Allocation(LDA) is a popular algorithm for topic modeling with excellent implementations in the Python’s Gensim package. The challenge, however, is how to extract good quality of topics that are clear, segregated and meaningful. This depends heavily on the quality of text preprocessing and the strategy of finding the optimal number of topics. This tutorial attempts to tackle both of these problems.\n",
    "\n",
    "One of the primary applications of natural language processing is to automatically extract what topics people are discussing from large volumes of text. Some examples of large text could be feeds from social media, customer reviews of hotels, movies, etc, user feedbacks, news stories, e-mails of customer complaints etc.\n",
    "\n",
    "Knowing what people are talking about and understanding their problems and opinions is highly valuable to businesses, administrators, political campaigns. And it’s really hard to manually read through such large volumes and compile the topics.\n",
    "\n",
    "Thus is required an automated algorithm that can read through the text documents and automatically output the topics discussed.\n",
    "\n",
    "In this tutorial, we will take a real example of the ’20 Newsgroups’ dataset and use LDA to extract the naturally discussed topics.\n",
    "\n",
    "I will be using the Latent Dirichlet Allocation (LDA) from Gensim package along with the Mallet’s implementation (via Gensim). Mallet has an efficient implementation of the LDA. It is known to run faster and gives better topics segregation.\n",
    "\n",
    "We will also extract the volume and percentage contribution of each topic to get an idea of how important a topic is.\n",
    "\n",
    "Ref: https://www.machinelearningplus.com/nlp/topic-modeling-gensim-python/\n",
    "\n",
    "'''"
   ]
  },
  {
   "cell_type": "code",
   "execution_count": 1,
   "metadata": {},
   "outputs": [],
   "source": [
    "import re\n",
    "import numpy as np\n",
    "import pandas as pd\n",
    "from pprint import pprint"
   ]
  },
  {
   "cell_type": "code",
   "execution_count": 2,
   "metadata": {},
   "outputs": [],
   "source": [
    "# Gensim (Topic Modeling Pacakge)\n",
    "import gensim\n",
    "import gensim.corpora as corpora\n",
    "from gensim.utils import simple_preprocess\n",
    "from gensim.models import CoherenceModel"
   ]
  },
  {
   "cell_type": "code",
   "execution_count": 3,
   "metadata": {},
   "outputs": [],
   "source": [
    "# spacy for lemmatization\n",
    "import spacy\n",
    "import nltk"
   ]
  },
  {
   "cell_type": "code",
   "execution_count": 4,
   "metadata": {},
   "outputs": [
    {
     "name": "stderr",
     "output_type": "stream",
     "text": [
      "C:\\Users\\khoox\\anaconda3\\lib\\site-packages\\sklearn\\decomposition\\_lda.py:28: DeprecationWarning: `np.float` is a deprecated alias for the builtin `float`. To silence this warning, use `float` by itself. Doing this will not modify any behavior and is safe. If you specifically wanted the numpy scalar type, use `np.float64` here.\n",
      "Deprecated in NumPy 1.20; for more details and guidance: https://numpy.org/devdocs/release/1.20.0-notes.html#deprecations\n",
      "  EPS = np.finfo(np.float).eps\n"
     ]
    }
   ],
   "source": [
    "# Plotting tools\n",
    "#Install the package\n",
    "# !pip install pyldavis\n",
    "import pyLDAvis\n",
    "import pyLDAvis.gensim_models  # don't skip this\n",
    "import matplotlib.pyplot as plt\n",
    "%matplotlib inline"
   ]
  },
  {
   "cell_type": "code",
   "execution_count": 5,
   "metadata": {},
   "outputs": [
    {
     "name": "stderr",
     "output_type": "stream",
     "text": [
      "C:\\Users\\khoox\\anaconda3\\lib\\site-packages\\ipykernel\\ipkernel.py:287: DeprecationWarning: `should_run_async` will not call `transform_cell` automatically in the future. Please pass the result to `transformed_cell` argument and any exception that happen during thetransform in `preprocessing_exc_tuple` in IPython 7.17 and above.\n",
      "  and should_run_async(code)\n"
     ]
    }
   ],
   "source": [
    "# Enable logging for gensim - optional\n",
    "import logging\n",
    "logging.basicConfig(format='%(asctime)s : %(levelname)s : %(message)s', level=logging.ERROR)\n",
    "\n",
    "import warnings\n",
    "warnings.filterwarnings(\"ignore\",category=DeprecationWarning)"
   ]
  },
  {
   "cell_type": "code",
   "execution_count": 6,
   "metadata": {},
   "outputs": [],
   "source": [
    "# NLTK Stop words\n",
    "#from nltk.corpus import stopwords\n",
    "#stop_words = stopwords.words('english')\n",
    "#stop_words.extend(['from', 'subject', 're', 'edu', 'use'])"
   ]
  },
  {
   "cell_type": "code",
   "execution_count": 7,
   "metadata": {},
   "outputs": [
    {
     "data": {
      "text/html": [
       "<div>\n",
       "<style scoped>\n",
       "    .dataframe tbody tr th:only-of-type {\n",
       "        vertical-align: middle;\n",
       "    }\n",
       "\n",
       "    .dataframe tbody tr th {\n",
       "        vertical-align: top;\n",
       "    }\n",
       "\n",
       "    .dataframe thead th {\n",
       "        text-align: right;\n",
       "    }\n",
       "</style>\n",
       "<table border=\"1\" class=\"dataframe\">\n",
       "  <thead>\n",
       "    <tr style=\"text-align: right;\">\n",
       "      <th></th>\n",
       "      <th>Unnamed: 0</th>\n",
       "      <th>id</th>\n",
       "      <th>comment_text</th>\n",
       "      <th>cleaned_text</th>\n",
       "      <th>count</th>\n",
       "      <th>Severe_Toxic</th>\n",
       "      <th>Toxic</th>\n",
       "    </tr>\n",
       "  </thead>\n",
       "  <tbody>\n",
       "    <tr>\n",
       "      <th>178</th>\n",
       "      <td>178</td>\n",
       "      <td>1549e8263eff048e</td>\n",
       "      <td>The person who wrote this article has many pro...</td>\n",
       "      <td>person write article many problem</td>\n",
       "      <td>29</td>\n",
       "      <td>1</td>\n",
       "      <td>1</td>\n",
       "    </tr>\n",
       "    <tr>\n",
       "      <th>345</th>\n",
       "      <td>345</td>\n",
       "      <td>9c0a4888bc99a995</td>\n",
       "      <td>== You Vandalizer == \\n Vandalizer Vandalizer ...</td>\n",
       "      <td>vandalizer vandalizer vandalizer vandalizer va...</td>\n",
       "      <td>4519</td>\n",
       "      <td>1</td>\n",
       "      <td>1</td>\n",
       "    </tr>\n",
       "    <tr>\n",
       "      <th>965</th>\n",
       "      <td>965</td>\n",
       "      <td>de8ca47874fb23a7</td>\n",
       "      <td>::::ABSOLUTELY! Isn't it brilliant when you se...</td>\n",
       "      <td>absolutely brilliant see many article trashy m...</td>\n",
       "      <td>163</td>\n",
       "      <td>1</td>\n",
       "      <td>1</td>\n",
       "    </tr>\n",
       "    <tr>\n",
       "      <th>967</th>\n",
       "      <td>967</td>\n",
       "      <td>dfdbb5b2170ae808</td>\n",
       "      <td>==Machine translation?== \\n I noticed that you...</td>\n",
       "      <td>machine translation notice added interwiki lin...</td>\n",
       "      <td>242</td>\n",
       "      <td>1</td>\n",
       "      <td>1</td>\n",
       "    </tr>\n",
       "    <tr>\n",
       "      <th>1045</th>\n",
       "      <td>1045</td>\n",
       "      <td>e22d6ca49162dd8e</td>\n",
       "      <td>::::I think,after not reading the article for ...</td>\n",
       "      <td>thinkafter read article quite could thorough o...</td>\n",
       "      <td>65</td>\n",
       "      <td>1</td>\n",
       "      <td>1</td>\n",
       "    </tr>\n",
       "  </tbody>\n",
       "</table>\n",
       "</div>"
      ],
      "text/plain": [
       "      Unnamed: 0                id  \\\n",
       "178          178  1549e8263eff048e   \n",
       "345          345  9c0a4888bc99a995   \n",
       "965          965  de8ca47874fb23a7   \n",
       "967          967  dfdbb5b2170ae808   \n",
       "1045        1045  e22d6ca49162dd8e   \n",
       "\n",
       "                                           comment_text  \\\n",
       "178   The person who wrote this article has many pro...   \n",
       "345   == You Vandalizer == \\n Vandalizer Vandalizer ...   \n",
       "965   ::::ABSOLUTELY! Isn't it brilliant when you se...   \n",
       "967   ==Machine translation?== \\n I noticed that you...   \n",
       "1045  ::::I think,after not reading the article for ...   \n",
       "\n",
       "                                           cleaned_text  count  Severe_Toxic  \\\n",
       "178                   person write article many problem     29             1   \n",
       "345   vandalizer vandalizer vandalizer vandalizer va...   4519             1   \n",
       "965   absolutely brilliant see many article trashy m...    163             1   \n",
       "967   machine translation notice added interwiki lin...    242             1   \n",
       "1045  thinkafter read article quite could thorough o...     65             1   \n",
       "\n",
       "      Toxic  \n",
       "178       1  \n",
       "345       1  \n",
       "965       1  \n",
       "967       1  \n",
       "1045      1  "
      ]
     },
     "execution_count": 7,
     "metadata": {},
     "output_type": "execute_result"
    }
   ],
   "source": [
    "'''\n",
    "We will be using the 20-Newsgroups dataset for this exercise.\n",
    "This version of the dataset contains about 11k newsgroups posts from \n",
    "20 different topics. This is available as newsgroups.json.\n",
    "'''\n",
    "# Import Dataset\n",
    "df = pd.read_csv(r'Test_Data_Predictions_RNN.csv', encoding='utf-8')\n",
    "\n",
    "df = df[(df['Severe_Toxic']==1)]\n",
    "\n",
    "df.head()"
   ]
  },
  {
   "cell_type": "code",
   "execution_count": 8,
   "metadata": {},
   "outputs": [
    {
     "name": "stdout",
     "output_type": "stream",
     "text": [
      "['person write article many problem']\n"
     ]
    }
   ],
   "source": [
    "'''\n",
    "As you can see there are many emails, newline and extra spaces that is quite distracting.\n",
    "Let’s get rid of them using regular expressions.\n",
    "'''\n",
    "# Drop rows with NAN values\n",
    "df = df.dropna(axis=0)\n",
    "\n",
    "# Convert to list\n",
    "data = df.cleaned_text.values.tolist()\n",
    "\n",
    "# Remove new line characters\n",
    "data = [re.sub('\\s+', ' ', str(sent)) for sent in data]\n",
    "\n",
    "pprint(data[:1])\n"
   ]
  },
  {
   "cell_type": "code",
   "execution_count": 9,
   "metadata": {},
   "outputs": [
    {
     "name": "stdout",
     "output_type": "stream",
     "text": [
      "number of datas:  54\n"
     ]
    }
   ],
   "source": [
    "print('number of datas: ', len(data))"
   ]
  },
  {
   "cell_type": "code",
   "execution_count": 10,
   "metadata": {},
   "outputs": [
    {
     "name": "stdout",
     "output_type": "stream",
     "text": [
      "[['person', 'write', 'article', 'many', 'problem']]\n"
     ]
    }
   ],
   "source": [
    "'''\n",
    "After removing the emails and extra spaces, the text still looks messy.\n",
    "It is not ready for the LDA to consume. You need to break down each sentence\n",
    "into a list of words through tokenization, while clearing up all the messy \n",
    "text in the process.\n",
    "\n",
    "Let’s tokenize each sentence into a list of words, removing punctuations and \n",
    "unnecessary characters altogether.\n",
    "\n",
    "Gensim’s simple_preprocess() is great for this.\n",
    "Additionally I have set deacc=True to remove the punctuations.\n",
    "'''\n",
    "def sent_to_words(sentences):\n",
    "    for sentence in sentences:\n",
    "        yield(gensim.utils.simple_preprocess(str(sentence), deacc=True))  # deacc=True removes punctuations\n",
    "\n",
    "data_words = list(sent_to_words(data))\n",
    "\n",
    "print(data_words[:1])"
   ]
  },
  {
   "cell_type": "code",
   "execution_count": 11,
   "metadata": {},
   "outputs": [
    {
     "name": "stdout",
     "output_type": "stream",
     "text": [
      "['person', 'write', 'article', 'many', 'problem']\n"
     ]
    }
   ],
   "source": [
    "'''\n",
    "Bigrams are two words frequently occurring together in the document.\n",
    "Trigrams are 3 words frequently occurring.\n",
    "\n",
    "Some examples in our example are: ‘front_bumper’, ‘oil_leak’, ‘maryland_college_park’ etc.\n",
    "\n",
    "Gensim’s Phrases model can build and implement the bigrams, trigrams, \n",
    "quadgrams and more.\n",
    "\n",
    "The two important arguments to Phrases are min_count and threshold.\n",
    "The higher the values of these param, the harder it is for words to be combined to bigrams.\n",
    "'''\n",
    "# Build the bigram and trigram models\n",
    "bigram = gensim.models.Phrases(data_words, min_count=5, threshold=100) # higher threshold fewer phrases.\n",
    "trigram = gensim.models.Phrases(bigram[data_words], threshold=100)  \n",
    "\n",
    "# Faster way to get a sentence clubbed as a trigram/bigram\n",
    "bigram_mod = gensim.models.phrases.Phraser(bigram)\n",
    "trigram_mod = gensim.models.phrases.Phraser(trigram)\n",
    "\n",
    "# See trigram example\n",
    "print(trigram_mod[bigram_mod[data_words[0]]])"
   ]
  },
  {
   "cell_type": "code",
   "execution_count": 12,
   "metadata": {},
   "outputs": [],
   "source": [
    "'''\n",
    "The bigrams model is ready. Let’s define the functions to remove the stopwords, \n",
    "make bigrams and lemmatization and call them sequentially.\n",
    "'''\n",
    "# Define functions for stopwords, bigrams, trigrams and lemmatization\n",
    "#def remove_stopwords(texts):\n",
    "#    return [[word for word in simple_preprocess(str(doc)) if word not in stop_words] for doc in texts]\n",
    "\n",
    "def make_bigrams(texts):\n",
    "    return [bigram_mod[doc] for doc in texts]\n",
    "\n",
    "def make_trigrams(texts):\n",
    "    return [trigram_mod[bigram_mod[doc]] for doc in texts]\n",
    "\n",
    "def lemmatization(texts, allowed_postags=['NOUN', 'ADJ', 'VERB', 'ADV']):\n",
    "    \"\"\"https://spacy.io/api/annotation\"\"\"\n",
    "    texts_out = []\n",
    "    for sent in texts:\n",
    "        doc = nlp(\" \".join(sent)) \n",
    "        texts_out.append([token.lemma_ for token in doc if token.pos_ in allowed_postags])\n",
    "    return texts_out"
   ]
  },
  {
   "cell_type": "code",
   "execution_count": 13,
   "metadata": {},
   "outputs": [
    {
     "name": "stdout",
     "output_type": "stream",
     "text": [
      "[['person', 'write', 'article', 'many', 'problem']]\n"
     ]
    }
   ],
   "source": [
    "'''\n",
    "Let’s call the functions in order.\n",
    "'''\n",
    "# Remove Stop Words\n",
    "#data_words_nostops = remove_stopwords(data_words)\n",
    "\n",
    "# Form Bigrams\n",
    "data_words_bigrams = make_bigrams(data_words)\n",
    "\n",
    "# Initialize spacy 'en' model, keeping only tagger component (for efficiency)\n",
    "#python -m spacy download en\n",
    "nlp = spacy.load('en_core_web_sm', disable=['parser', 'ner'])\n",
    "\n",
    "# Do lemmatization keeping only noun, adj, vb, adv\n",
    "data_lemmatized = lemmatization(data_words_bigrams, allowed_postags=['NOUN', 'ADJ', 'VERB', 'ADV'])\n",
    "\n",
    "print(data_lemmatized[:1])"
   ]
  },
  {
   "cell_type": "code",
   "execution_count": 14,
   "metadata": {},
   "outputs": [
    {
     "name": "stdout",
     "output_type": "stream",
     "text": [
      "[[(0, 1), (1, 1), (2, 1), (3, 1), (4, 1)]]\n"
     ]
    }
   ],
   "source": [
    "'''\n",
    "The two main inputs to the LDA topic model are the dictionary(id2word) and the corpus.\n",
    "Let’s create them.\n",
    "'''\n",
    "# Create Dictionary\n",
    "id2word = corpora.Dictionary(data_lemmatized)\n",
    "\n",
    "# Create Corpus\n",
    "texts = data_lemmatized\n",
    "\n",
    "# Term Document Frequency\n",
    "corpus = [id2word.doc2bow(text) for text in texts]\n",
    "\n",
    "# View\n",
    "print(corpus[:1])"
   ]
  },
  {
   "cell_type": "code",
   "execution_count": 15,
   "metadata": {},
   "outputs": [
    {
     "name": "stdout",
     "output_type": "stream",
     "text": [
      "number of unique tokens:  623\n"
     ]
    }
   ],
   "source": [
    "print('number of unique tokens: ', len(id2word))"
   ]
  },
  {
   "cell_type": "markdown",
   "metadata": {},
   "source": [
    "'''\n",
    "Gensim creates a unique id for each word in the document.\n",
    "The produced corpus shown above is a mapping of (word_id, word_frequency).\n",
    "\n",
    "For example, (0, 1) above implies, word id 0 occurs once in the first document.\n",
    "\n",
    "Likewise, word id 1 occurs twice and so on.\n",
    "\n",
    "This is used as the input by the LDA model.\n",
    "\n",
    "If you want to see what word a given id corresponds to, pass the id as a key to the dictionary.\n",
    "\n",
    "id2word[0]\n",
    "'addition'\n",
    "\n",
    "Or, you can see a human-readable form of the corpus itself.\n",
    "\n",
    "# Human readable format of corpus (term-frequency)\n",
    "[[(id2word[id], freq) for id, freq in cp] for cp in corpus[:1]]\n",
    "\n",
    "[[('addition', 1),\n",
    "  ('anyone', 2),\n",
    "  ('body', 1),\n",
    "  ('bricklin', 1),\n",
    "  ('bring', 1),\n",
    "  ('call', 1),\n",
    "  ('car', 5),\n",
    "  ('could', 1),\n",
    "  ('day', 1),\n",
    "  ('door', 2),\n",
    "  ('early', 1),\n",
    "  ('engine', 1),\n",
    "  ('enlighten', 1),\n",
    "  ('front_bumper', 1),\n",
    "  ('maryland_college', 1),\n",
    "  (..truncated..)]]\n",
    "\n",
    "\n",
    "Alright, without digressing further let’s jump back on track with the next step:\n",
    "\n",
    "Building the topic model.\n",
    "'''"
   ]
  },
  {
   "cell_type": "code",
   "execution_count": 16,
   "metadata": {},
   "outputs": [],
   "source": [
    "'''\n",
    "We have everything required to train the LDA model.\n",
    "In addition to the corpus and dictionary, you need to provide the number of topics as well.\n",
    "\n",
    "Apart from that, alpha and eta are hyperparameters that affect sparsity of the topics.\n",
    "According to the Gensim docs, both defaults to 1.0/num_topics prior.\n",
    "\n",
    "chunksize is the number of documents to be used in each training chunk.\n",
    "\n",
    "update_every determines how often the model parameters should be updated and \n",
    "passes is the total number of training passes.\n",
    "'''\n",
    "# Build LDA model\n",
    "lda_model = gensim.models.ldamodel.LdaModel(corpus=corpus,\n",
    "                                           id2word=id2word,\n",
    "                                           num_topics=10, \n",
    "                                           random_state=0)"
   ]
  },
  {
   "cell_type": "code",
   "execution_count": 17,
   "metadata": {},
   "outputs": [
    {
     "name": "stdout",
     "output_type": "stream",
     "text": [
      "0:suck, nigger, article, cuntnlu, xdicksx, ballznigger, widr, seem, good, redirect, feature, great, debate, deletion, write\n",
      "1:cunt, smelly, moist, comment, list, thank, notability, book, decline, byline, blog, unsubstantiated, minor, acknowledgment, exactly\n",
      "2:article, section, first, topic, viewpoint, silly, comment, agree, subject, claim, look, redirect, never, discussion, delete\n",
      "3:cock, hammersoft, suck, category, cuntnlu, userpage, article, change, texas, give, albedo, notice, clean, instead, point\n",
      "4:article, theory, add, decline, link, machine, assembly, fall, use, word, note, change, belarusian, interwiki, moore\n",
      "5:article, name, ventura, read, link, engine, write, barry, also, thank, change, add, kasparov, make, silly\n",
      "6:vandalizer, cuntnlu, nlu, article, cunt, belarusian, jem, assembly, link, nazist, capital, new, lithuanian, city, note\n",
      "7:article, theory, write, conspiracy, consensus, ask, actively, unite, proposal, appear, defend, wikipedia, subcategory, state, look\n",
      "8:article, use, see, compton, give, title, diacritic, new, come, discussion, make, tone, redshift, misname, term\n",
      "9:suck, nigger, article, ballznigger, nat, widr, source, burmese, murder, xdicksx, call, title, fix, keep, widely\n",
      "\n"
     ]
    }
   ],
   "source": [
    "# get the topic words only\n",
    "x=lda_model.show_topics(num_topics=10, num_words=15,formatted=False)\n",
    "topics_words = [(tp[0], [wd[0] for wd in tp[1]]) for tp in x]\n",
    "\n",
    "#Below Code Prints Topics and Words\n",
    "for topic,words in topics_words:\n",
    "    print(str(topic)+ \":\"+ \", \".join(words))\n",
    "print()"
   ]
  },
  {
   "cell_type": "code",
   "execution_count": 18,
   "metadata": {},
   "outputs": [
    {
     "name": "stdout",
     "output_type": "stream",
     "text": [
      "[(0,\n",
      "  '0.475*\"suck\" + 0.122*\"nigger\" + 0.040*\"article\" + 0.021*\"cuntnlu\" + '\n",
      "  '0.009*\"xdicksx\" + 0.009*\"ballznigger\" + 0.008*\"widr\" + 0.007*\"seem\" + '\n",
      "  '0.006*\"good\" + 0.006*\"redirect\"'),\n",
      " (1,\n",
      "  '0.140*\"cunt\" + 0.012*\"smelly\" + 0.012*\"moist\" + 0.009*\"comment\" + '\n",
      "  '0.009*\"list\" + 0.006*\"thank\" + 0.005*\"notability\" + 0.005*\"book\" + '\n",
      "  '0.005*\"decline\" + 0.005*\"byline\"'),\n",
      " (2,\n",
      "  '0.095*\"article\" + 0.011*\"section\" + 0.011*\"first\" + 0.008*\"topic\" + '\n",
      "  '0.008*\"viewpoint\" + 0.008*\"silly\" + 0.008*\"comment\" + 0.008*\"agree\" + '\n",
      "  '0.007*\"subject\" + 0.007*\"claim\"'),\n",
      " (3,\n",
      "  '0.045*\"cock\" + 0.045*\"hammersoft\" + 0.045*\"suck\" + 0.038*\"category\" + '\n",
      "  '0.030*\"cuntnlu\" + 0.023*\"userpage\" + 0.020*\"article\" + 0.017*\"change\" + '\n",
      "  '0.016*\"texas\" + 0.012*\"give\"'),\n",
      " (4,\n",
      "  '0.039*\"article\" + 0.014*\"theory\" + 0.014*\"add\" + 0.012*\"decline\" + '\n",
      "  '0.012*\"link\" + 0.011*\"machine\" + 0.010*\"assembly\" + 0.009*\"fall\" + '\n",
      "  '0.009*\"use\" + 0.009*\"word\"'),\n",
      " (5,\n",
      "  '0.061*\"article\" + 0.021*\"name\" + 0.016*\"ventura\" + 0.015*\"read\" + '\n",
      "  '0.013*\"link\" + 0.012*\"engine\" + 0.012*\"write\" + 0.012*\"barry\" + '\n",
      "  '0.011*\"also\" + 0.011*\"thank\"'),\n",
      " (6,\n",
      "  '0.472*\"vandalizer\" + 0.381*\"cuntnlu\" + 0.005*\"nlu\" + 0.004*\"article\" + '\n",
      "  '0.004*\"cunt\" + 0.002*\"belarusian\" + 0.002*\"jem\" + 0.002*\"assembly\" + '\n",
      "  '0.001*\"link\" + 0.001*\"nazist\"'),\n",
      " (7,\n",
      "  '0.085*\"article\" + 0.023*\"theory\" + 0.019*\"write\" + 0.016*\"conspiracy\" + '\n",
      "  '0.010*\"consensus\" + 0.008*\"ask\" + 0.008*\"actively\" + 0.008*\"unite\" + '\n",
      "  '0.008*\"proposal\" + 0.008*\"appear\"'),\n",
      " (8,\n",
      "  '0.058*\"article\" + 0.020*\"use\" + 0.015*\"see\" + 0.013*\"compton\" + '\n",
      "  '0.013*\"give\" + 0.013*\"title\" + 0.010*\"diacritic\" + 0.010*\"new\" + '\n",
      "  '0.010*\"come\" + 0.009*\"discussion\"'),\n",
      " (9,\n",
      "  '0.783*\"suck\" + 0.090*\"nigger\" + 0.006*\"article\" + 0.004*\"ballznigger\" + '\n",
      "  '0.003*\"nat\" + 0.002*\"widr\" + 0.002*\"source\" + 0.002*\"burmese\" + '\n",
      "  '0.002*\"murder\" + 0.002*\"xdicksx\"')]\n"
     ]
    }
   ],
   "source": [
    "# Print the Keyword in the 10 topics\n",
    "pprint(lda_model.print_topics())\n",
    "doc_lda = lda_model[corpus]\n",
    "\n",
    "\n",
    "\n",
    "# How to interpret this?\n",
    "\n",
    "# Topic 0 is a represented as _\n",
    "\n",
    "# 0.016“car” + 0.014“power” + 0.010“light” + 0.009“drive” \n",
    "# + 0.007“mount” + 0.007“controller” + 0.007“cool” + 0.007“engine” \n",
    "# + 0.007“back” + ‘0.006“turn”.\n",
    "\n",
    "# It means the top 10 keywords that contribute to this topic are:\n",
    "# ‘car’, ‘power’, ‘light’.. and so on\n",
    "# and the weight of ‘car’ on topic 0 is 0.016.\n",
    "\n",
    "# --> The weights reflect how important a keyword is to that topic.\n",
    "\n",
    "# Looking at these keywords, can you guess what this topic could be?\n",
    "# You may summarise it either are ‘cars’ or ‘automobiles’.\n",
    "\n",
    "# Likewise, can you go through the remaining topic keywords and judge what the topic is?\n",
    "# https://www.machinelearningplus.com/wp-content/uploads/2018/03/Inferring-Topic-from-Keywords.png\n"
   ]
  },
  {
   "cell_type": "code",
   "execution_count": 19,
   "metadata": {},
   "outputs": [
    {
     "name": "stdout",
     "output_type": "stream",
     "text": [
      "\n",
      "Perplexity:  -3.0297450450645096\n",
      "\n",
      "Coherence Score:  0.47656481585167754\n"
     ]
    }
   ],
   "source": [
    "'''\n",
    "Model perplexity and topic coherence provide a convenient measure to judge \n",
    "how good a given topic model is. In my experience, topic coherence score, \n",
    "in particular, has been more helpful.\n",
    "'''\n",
    "# Compute Perplexity (lower the better)\n",
    "print('\\nPerplexity: ', lda_model.log_perplexity(corpus))  # a measure of how good the model is. lower the better.\n",
    "\n",
    "# Compute Coherence Score (higher the better)\n",
    "coherence_model_lda = CoherenceModel(model=lda_model, texts=data_lemmatized, dictionary=id2word, coherence='c_v')\n",
    "coherence_lda = coherence_model_lda.get_coherence()\n",
    "print('\\nCoherence Score: ', coherence_lda)\n",
    "\n",
    "#Perplexity:  -8.86067503009\n",
    "\n",
    "#Coherence Score:  0.532947587081\n",
    "\n",
    "\n",
    "#There you have a coherence score of 0.53.\n"
   ]
  },
  {
   "cell_type": "code",
   "execution_count": 20,
   "metadata": {},
   "outputs": [
    {
     "data": {
      "text/html": [
       "\n",
       "<link rel=\"stylesheet\" type=\"text/css\" href=\"https://cdn.jsdelivr.net/gh/bmabey/pyLDAvis@3.3.1/pyLDAvis/js/ldavis.v1.0.0.css\">\n",
       "\n",
       "\n",
       "<div id=\"ldavis_el2924821329304687683425380168\"></div>\n",
       "<script type=\"text/javascript\">\n",
       "\n",
       "var ldavis_el2924821329304687683425380168_data = {\"mdsDat\": {\"x\": [-0.4088879420865242, -0.05089137017219448, 0.11852720218970628, 0.12466221999214688, 0.1152039935423854, -0.26904623821189994, 0.1196267422146462, 0.11007272268685665, 0.028436094216698894, 0.11229657562817835], \"y\": [0.08200773400662326, -0.42991279361921686, 0.051280600728510664, 0.053593327989199684, 0.04747041238721344, 0.0721580742088703, 0.02545936765772248, 0.0529713521256846, 0.012968263858591726, 0.032003660656801054], \"topics\": [1, 2, 3, 4, 5, 6, 7, 8, 9, 10], \"cluster\": [1, 1, 1, 1, 1, 1, 1, 1, 1, 1], \"Freq\": [40.28034716725321, 25.853411100756325, 7.68495578188325, 5.984539528838804, 5.787419248465557, 5.100342248234346, 5.0431257830177785, 2.317592119791343, 1.3691081653396524, 0.5791588564197359]}, \"tinfo\": {\"Term\": [\"suck\", \"vandalizer\", \"cuntnlu\", \"nigger\", \"article\", \"cunt\", \"theory\", \"use\", \"write\", \"change\", \"cock\", \"hammersoft\", \"name\", \"see\", \"link\", \"add\", \"category\", \"give\", \"thank\", \"read\", \"title\", \"ballznigger\", \"look\", \"list\", \"wikipedia\", \"ventura\", \"comment\", \"make\", \"new\", \"decline\", \"suck\", \"nat\", \"nigger\", \"burmese\", \"murder\", \"ballznigger\", \"widely\", \"min\", \"clutter\", \"worship\", \"move\", \"kyawzwa\", \"pwe\", \"parent\", \"gather\", \"constituent\", \"prominent\", \"child\", \"sooni\", \"venerate\", \"ritual\", \"copyvio\", \"society\", \"technically\", \"source\", \"widr\", \"fix\", \"xdicksx\", \"deletion\", \"herenigger\", \"simply\", \"call\", \"article\", \"title\", \"keep\", \"spirit\", \"page\", \"notice\", \"vandalizer\", \"cuntnlu\", \"nlu\", \"vandalize\", \"jem\", \"cunt\", \"scar\", \"ka\", \"ohhbrittany\", \"loser\", \"kaim\", \"brittany\", \"nazist\", \"belarusian\", \"capital\", \"protect\", \"lock\", \"lithuanian\", \"city\", \"life\", \"person\", \"truly\", \"chauvinist\", \"intrigue\", \"stalin\", \"belarus\", \"nazi\", \"assembly\", \"polish\", \"seriously\", \"translation\", \"problem\", \"interwiki\", \"new\", \"note\", \"link\", \"article\", \"many\", \"machine\", \"write\", \"wikipedia\", \"use\", \"viewpoint\", \"first\", \"topic\", \"section\", \"episode\", \"unit\", \"absolutely\", \"worthy\", \"letter\", \"lead\", \"ps\", \"factor\", \"war\", \"info\", \"format\", \"britain\", \"need\", \"brilliant\", \"purely\", \"criterion\", \"trashy\", \"nickname\", \"less\", \"restore\", \"load\", \"precedence\", \"underscore\", \"arbitrary\", \"discuss\", \"magazine\", \"hydrology\", \"never\", \"comment\", \"agree\", \"article\", \"claim\", \"silly\", \"delete\", \"support\", \"subject\", \"redirect\", \"relate\", \"post\", \"look\", \"page\", \"list\", \"stupid\", \"discussion\", \"read\", \"note\", \"change\", \"ventura\", \"engine\", \"barry\", \"name\", \"family\", \"generation\", \"history\", \"research\", \"nominate\", \"social\", \"penetration\", \"recently\", \"merely\", \"persist\", \"waste\", \"actual\", \"utc\", \"block\", \"feb\", \"diesel\", \"overhaul\", \"paxman\", \"thorough\", \"click\", \"send\", \"stamina\", \"bravery\", \"thinkafter\", \"laurel\", \"incorrect\", \"read\", \"kasparov\", \"review\", \"fischer\", \"time\", \"also\", \"thank\", \"mean\", \"link\", \"thing\", \"article\", \"last\", \"minogue\", \"correct\", \"silly\", \"write\", \"change\", \"dannii\", \"much\", \"add\", \"make\", \"theory\", \"see\", \"compton\", \"redshift\", \"tone\", \"misname\", \"diacritic\", \"term\", \"give\", \"deliberate\", \"behavior\", \"tough\", \"define\", \"scatter\", \"calculate\", \"friendly\", \"case\", \"phrase\", \"employ\", \"describe\", \"meteorite\", \"effect\", \"merit\", \"flag\", \"subtle\", \"yunus\", \"chat\", \"entry\", \"emre\", \"fail\", \"perhaps\", \"guideline\", \"use\", \"period\", \"come\", \"show\", \"see\", \"reach\", \"title\", \"language\", \"article\", \"end\", \"merge\", \"new\", \"prefer\", \"drop\", \"discussion\", \"consensus\", \"make\", \"encyclopedia\", \"great\", \"option\", \"thank\", \"sure\", \"look\", \"feature\", \"debate\", \"fry\", \"xdicksx\", \"seem\", \"hard\", \"kristen\", \"feel\", \"amass\", \"member\", \"mario\", \"decade\", \"wikiproject\", \"quality\", \"quickly\", \"assignment\", \"scope\", \"assesment\", \"featured\", \"really\", \"tag\", \"bad\", \"fsu\", \"soon\", \"result\", \"reflect\", \"signature\", \"adverb\", \"near\", \"literaly\", \"widr\", \"redirect\", \"nigger\", \"good\", \"suck\", \"ballznigger\", \"deletion\", \"article\", \"great\", \"french\", \"main\", \"cuntnlu\", \"discussion\", \"write\", \"page\", \"least\", \"also\", \"improve\", \"different\", \"much\", \"find\", \"decline\", \"work\", \"subject\", \"pov\", \"other\", \"fall\", \"terminology\", \"decline\", \"practical\", \"gibbon\", \"collection\", \"linking\", \"transformist\", \"s\", \"implicit\", \"antiquity\", \"view\", \"god\", \"level\", \"interwiki\", \"gateway\", \"assembly\", \"help\", \"machine\", \"nl\", \"translation\", \"factory\", \"word\", \"dutchlanguage\", \"rubbish\", \"assemblyline\", \"issue\", \"lvpd\", \"action\", \"moore\", \"chauvinist\", \"theory\", \"department\", \"add\", \"belarusian\", \"link\", \"note\", \"article\", \"incident\", \"many\", \"use\", \"change\", \"new\", \"wikipedia\", \"look\", \"city\", \"also\", \"lithuanian\", \"title\", \"conspiracy\", \"ask\", \"actively\", \"unite\", \"defend\", \"subcategory\", \"quick\", \"theorist\", \"true\", \"tice\", \"structure\", \"template\", \"follow\", \"run\", \"zonke\", \"quokka\", \"router\", \"propse\", \"develop\", \"schrod\", \"ban\", \"stage\", \"class\", \"miff\", \"vendetta\", \"basically\", \"warp\", \"back\", \"try\", \"overrode\", \"theory\", \"know\", \"article\", \"mention\", \"miss\", \"write\", \"include\", \"consensus\", \"proposal\", \"appear\", \"state\", \"take\", \"list\", \"wikipedia\", \"look\", \"subject\", \"see\", \"cock\", \"hammersoft\", \"category\", \"userpage\", \"texas\", \"point\", \"wikipedian\", \"albedo\", \"unusually\", \"frech\", \"high\", \"qb\", \"version\", \"instead\", \"clean\", \"give\", \"notice\", \"change\", \"list\", \"fable\", \"responsible\", \"ipa\", \"belong\", \"suspect\", \"essence\", \"correct\", \"propose\", \"remain\", \"create\", \"arbitration\", \"citation\", \"therefore\", \"measure\", \"article\", \"moore\", \"agree\", \"cuntnlu\", \"suck\", \"subject\", \"section\", \"add\", \"cunt\", \"smelly\", \"moist\", \"notability\", \"book\", \"byline\", \"blog\", \"unsubstantiated\", \"minor\", \"acknowledgment\", \"exactly\", \"example\", \"nonnotable\", \"directory\", \"movie\", \"publication\", \"talkstacy\", \"pay\", \"wildly\", \"credible\", \"extra\", \"overthetop\", \"uncredited\", \"harris\", \"role\", \"accomplishment\", \"pr\", \"comment\", \"list\", \"extensive\", \"decline\", \"thank\", \"consider\", \"claim\", \"article\"], \"Freq\": [1124.0, 403.0, 330.0, 141.0, 79.0, 6.0, 6.0, 7.0, 8.0, 6.0, 2.0, 2.0, 5.0, 7.0, 7.0, 6.0, 2.0, 4.0, 5.0, 5.0, 5.0, 7.0, 6.0, 3.0, 5.0, 3.0, 3.0, 6.0, 4.0, 3.0, 1042.1833173474918, 3.669908759172441, 120.02495772847466, 2.4862170446505827, 2.485972257668293, 5.121233259162423, 1.302318369633882, 1.3023165093148272, 1.3022960458052248, 1.3022923251671155, 1.3022918600873516, 1.3022878293960665, 1.302276357428562, 1.3022726367904525, 1.302268761125755, 1.3022678309662277, 1.3022673658864639, 1.3022636452483545, 1.3022628701154149, 1.3022616299027119, 1.3022500029086195, 1.302235430409357, 1.30220132456002, 1.30221016107553, 2.5724172534519374, 2.8655291237207114, 1.4573741025294902, 2.355995796003148, 1.3022799230400837, 0.7781209219405457, 1.3022495378288559, 2.0239353558442867, 7.7669852199127245, 1.5165888331755997, 1.338535216018635, 1.302291395007588, 1.3022825584920779, 1.3022678309662277, 403.27511605052547, 325.4638224141932, 4.372517616655944, 0.9833643177241734, 1.4280736778509087, 3.4861816604475906, 0.827274238866088, 0.816130487635862, 0.8156304912080423, 0.812774690715534, 0.7933329390681457, 0.7891569987535283, 1.2188792520239748, 1.6516297921168055, 1.2075659995171737, 0.7691922160170187, 0.7533845677593339, 1.1575399887643796, 1.1434448655851437, 0.7318322341758863, 0.9833215319602008, 0.6523798167420298, 1.0210286257492833, 0.6471244811539818, 0.624349519489572, 0.621761627530776, 0.6210037722486886, 1.3253936154196342, 0.611271702475118, 0.6090359970548828, 0.9499708249577459, 0.9833223279744142, 0.8244807264857816, 1.1958859834615279, 1.0944254148052501, 1.2595471206799635, 3.5208102687679537, 0.9832995420675543, 0.8877421153164032, 0.9833422283297503, 0.9265450221720686, 0.8052446450107921, 2.1440911291057447, 2.7664135512305217, 2.144153832379683, 2.8848212306555854, 1.1231350090774255, 1.1231354823096815, 1.1231326429161448, 1.123133589380657, 1.1231307499871201, 1.1231273190532631, 1.1231250712000465, 1.1231221134984457, 1.123123888119406, 1.1231159614791157, 1.1231143051662194, 1.1231152516307317, 1.1231107559242983, 1.123106141909801, 1.123109572843658, 1.1231048405210966, 1.1231017645114316, 1.1231056686775447, 1.1231059052936727, 1.1231012912791754, 1.123096795572742, 1.1231003448146633, 1.123099280042087, 1.1230969138808062, 1.123099161734023, 1.1230936012550132, 1.123106970066249, 1.578117418184139, 2.069344804096724, 1.9362779273812576, 24.169703351157047, 1.8832427884355825, 2.144078825067085, 1.4761788128130882, 1.4473160225868817, 1.8873635766139907, 1.6176197709170899, 1.4418110300592624, 1.1231109925404263, 1.8411284302648636, 1.464834725785014, 1.4188369054123415, 1.3000153843792832, 1.522497484655424, 1.2963442851522726, 1.1255257784354478, 1.1243436442596084, 3.1263827721722466, 2.3637453374054367, 2.3042079893699725, 4.158610258515785, 1.5676545589728288, 1.5663800247949187, 1.5572189303526252, 1.5406121203793084, 1.4504502054164121, 1.454060525701924, 1.4539046407930745, 1.4264638296547163, 0.8387872127397987, 0.8387812242533477, 0.8387726561111946, 0.8387663912330611, 0.8387683259748376, 0.8387664833636219, 0.8387526637795041, 0.8387475965986608, 0.838759112918759, 0.8387459382485667, 0.8387573624381041, 0.8387378307592175, 0.8387383835425822, 0.8387514660822138, 0.8387262223085585, 0.8386690092303105, 0.8264528653923611, 0.8249581391741728, 2.9324768707142947, 1.7056281812388632, 1.4461009980333985, 1.2484046610435988, 1.547736484514311, 2.2470465042360512, 2.1757824099015317, 1.4497004469127375, 2.474387507508766, 1.3724957740187516, 12.052777190519683, 1.368625553421263, 1.1196386591530547, 1.4256306008629698, 1.601249783702237, 2.343123016940272, 2.0054608264380067, 1.0822198318899157, 1.429906011666794, 1.732895879053505, 1.6055030831714727, 1.5044730787360443, 1.5228127724271807, 2.5654201505679977, 1.7378576700145738, 1.7378737072839565, 1.7378206061031116, 1.9687685113026085, 1.7377202840735289, 2.484149327860446, 0.9103280658633846, 0.910324412929803, 0.9103164833910526, 0.9103175525423448, 0.9103142559925272, 0.9103000006419649, 0.9103000897379059, 0.9103022280404902, 0.9102916256235095, 0.9102926056788606, 0.9102903782803352, 0.9102934075423298, 0.910288329073692, 0.9102841415644642, 0.9102847652360513, 0.9102799540552365, 0.9102869035386356, 0.9102799540552365, 0.9102732718596603, 0.910277459368888, 0.9102648968412049, 0.9102737173393655, 0.9102719354205452, 3.844062550664956, 1.6087701249155537, 1.8844841074861647, 1.2616650794406052, 2.9586155063853665, 1.2391523170649303, 2.4480604823766665, 1.679004811601457, 11.171452085791854, 1.1779021541669223, 1.4874011393785465, 1.8989445569047843, 1.1402895898999041, 1.1408729901216705, 1.7675706317674367, 1.2935833439254718, 1.73941275056905, 1.296888981529011, 1.4655409156748656, 1.083327080067303, 1.464173025692462, 1.058352418649501, 1.3174924178887342, 0.913596042169948, 0.6189024029581598, 0.5011837746049383, 1.5354669175892794, 1.2480017749983434, 0.32419225522034495, 0.3241909792938388, 0.32418933040419995, 0.3241869159586574, 0.32418567929142833, 0.32418571855070544, 0.32418501188371734, 0.32418532595793426, 0.32418514929118725, 0.3241846585502233, 0.3241852670690186, 0.3241843837352835, 0.32418359854974127, 0.3241825189196206, 0.324180418548295, 0.324180241881548, 0.3241795352145599, 0.3241772385468487, 0.3241800848444395, 0.3241780826213067, 0.32417429410106513, 0.32417464743455915, 0.32417162447022135, 0.32417272372998057, 0.3241736659526313, 1.4085719828404537, 0.9901066414113964, 20.57653086338695, 1.043703642083597, 80.13336807130504, 1.4364635007106952, 0.6188974562892434, 6.80590222421174, 0.6399101206606134, 0.4548473061237152, 0.41546024006233795, 3.5935668373163794, 0.6021857242443068, 0.6096652839423052, 0.43710120990464635, 0.35101731445741313, 0.3900164988609004, 0.3445685463393296, 0.34484277238997346, 0.3708871412719838, 0.34838285992593043, 0.33047599696707824, 0.32674940823518944, 0.3293623290531749, 0.3265345422115425, 0.32675431564482876, 1.5548069935160176, 0.8309819863270648, 1.9896321081840977, 0.8250862554796413, 0.8103541874879376, 0.786333232079898, 0.7859368138796723, 0.7620639136043845, 0.7433498845724578, 0.7217748279070567, 0.720977799069705, 1.1286789339218681, 0.8167636471310707, 0.6987642497919545, 1.2230044164630132, 0.6563370212755477, 1.6438500055629675, 1.0693422099081697, 1.7820473216835042, 0.713860283416768, 1.0886307580708585, 0.6878040551691439, 1.4238563822151191, 0.6719894844422761, 0.6677184781691036, 0.6618288030638692, 1.1148938908432773, 0.9498579911669153, 0.6503530939777803, 1.2068699783282077, 1.0110347291534594, 2.3662002066157104, 0.9244647114135583, 2.3224785243875203, 1.2913357032951125, 1.9633804657942944, 1.3977935547612632, 6.514887940789441, 0.9267030845296392, 1.1867669328410833, 1.550434281829156, 1.3275484981219636, 1.1292531425017485, 1.1663422342784526, 1.0477005400786885, 0.8799972412434631, 0.9604828684754338, 0.8645287018362989, 0.8997155918261381, 1.1925260732246523, 0.6246924583673358, 0.6246883196290027, 0.6246831105273077, 0.6246798994372218, 0.6246771164924806, 0.6246735486146072, 0.6246726209663602, 0.6246679827251249, 0.6246669837193204, 0.6246663415013032, 0.624663558556562, 0.6246595625333439, 0.6246528549229421, 0.6246397251323683, 0.6246368708300696, 0.6246249541179728, 0.4969109103462757, 0.48097623258238337, 0.4772091600874044, 0.46682456610689993, 0.4583275222364925, 0.45328129416637364, 0.45176494607021606, 0.4488051773016314, 0.44086836161489135, 0.4392324896099778, 0.4369745580978523, 0.4325377592472739, 0.42917210869182126, 1.7604381813951815, 0.6246584208124244, 6.520310514128706, 0.6246659847135159, 0.6246349441760181, 1.4191947816673127, 0.6246514991293501, 0.7685851157131236, 0.6246825396668481, 0.624680541655239, 0.6246770451349231, 0.6246704088820787, 0.6246665555739755, 0.6246792572192046, 0.6246769737773656, 0.6246692671611593, 0.624666769646648, 2.0590223384856854, 2.0589877720512915, 1.7214851534325686, 1.0463804323107695, 0.7088221701635102, 0.37128203431721335, 0.37127925214078655, 0.4986849748047438, 0.3023375315200195, 0.2857006855692025, 0.2835051268265619, 0.27412904472853344, 0.25257305792997625, 0.3712903808464938, 0.37129628243285373, 0.5371680812946491, 0.3712994439969751, 0.7510042645212438, 0.37127765028163173, 0.21111451913706206, 0.1258557553149028, 0.12472578068227978, 0.12365757247404148, 0.12210074453084366, 0.1216651758418409, 0.2860454646751862, 0.11982193126634004, 0.11861688002438127, 0.11860844918672425, 0.11837123703069699, 0.18385622990371017, 0.15828091502199923, 0.1492610252764327, 0.9239038831913644, 0.17242383488549384, 0.1784978002598511, 1.3647839156096613, 2.0589589385865046, 0.1884772774089923, 0.17070674725698318, 0.1701179902477524, 2.687637721745274, 0.22568409190030364, 0.22567198395510624, 0.10337829588040232, 0.09821828729143205, 0.09761319317599224, 0.09641546953081659, 0.0956346318897611, 0.09540217360759114, 0.09420863157235479, 0.09236269597449731, 0.09187168224109052, 0.09152983339954869, 0.09123915355468427, 0.0894332865177378, 0.08757107919676893, 0.08744765483346428, 0.08724740118903587, 0.08611256218117783, 0.0848304573921522, 0.08467238540363613, 0.083388702480369, 0.07796252416534703, 0.07539259050716564, 0.07456573286674607, 0.0844237980545574, 0.0716910766437548, 0.1665651681952895, 0.16626038321839098, 0.08560186189180942, 0.09785073358538056, 0.10892530399904378, 0.08376731204212358, 0.08253423640673606, 0.0829490093158549], \"Total\": [1124.0, 403.0, 330.0, 141.0, 79.0, 6.0, 6.0, 7.0, 8.0, 6.0, 2.0, 2.0, 5.0, 7.0, 7.0, 6.0, 2.0, 4.0, 5.0, 5.0, 5.0, 7.0, 6.0, 3.0, 5.0, 3.0, 3.0, 6.0, 4.0, 3.0, 1124.8996488963187, 4.25675289255508, 141.1589020932632, 3.073050991694933, 3.0728671425356135, 7.115052978312107, 1.889148762459205, 1.8891468847476331, 1.8891275730864154, 1.8891234762559002, 1.889123185821931, 1.8891192689492513, 1.8891080625804033, 1.889103995564302, 1.8891005919095087, 1.8890995279785476, 1.8890991481036836, 1.8890950585706667, 1.8890947677651364, 1.8890934689106436, 1.8890820376980593, 1.8890682316901493, 1.889034992707163, 1.8890651889897887, 3.864677386835388, 4.831504896322891, 2.7010757642536216, 4.44886238860671, 2.478558611204812, 1.4954309961794476, 2.6362673401148626, 5.371929236922983, 79.52968168778636, 5.950973335380751, 3.0371019854330603, 2.9101048798243507, 3.8196790738499233, 3.1587961768675363, 403.8910677023116, 330.97487937115164, 5.0524616323818154, 1.5991869542499573, 2.5569887700218796, 6.830038080006804, 1.621367692550926, 1.6229464835921557, 1.6230326567934312, 1.623417778395992, 1.6261984710991477, 1.626796281609784, 2.539889723562601, 3.4664475931804346, 2.5406192859027197, 1.6295890430235973, 1.631831649826079, 2.5441468934982527, 2.545168027059978, 1.6349124403511017, 2.438225979489735, 1.6226453985957343, 2.5538162579673456, 1.6230343716456297, 1.6246538694686878, 1.6248064023860134, 1.6248859116261938, 3.4893466458686735, 1.6255656040303572, 1.625728917309866, 2.5587016256748463, 2.6705382375178157, 2.567584636815152, 4.993291213053968, 4.394102069495829, 7.0878218155649355, 79.52968168778636, 4.207632476525786, 4.080931999542554, 8.288064691522704, 5.838045293227359, 7.79893967885233, 2.7472259636108927, 3.8317961744144218, 3.2434913382888766, 4.383252442165508, 1.7262563026696798, 1.726257864584785, 1.726253606093627, 1.7262558429926442, 1.726253855050536, 1.7262486925144673, 1.7262464482948612, 1.7262436605208773, 1.7262478304366997, 1.72623808471485, 1.726236373013862, 1.7262398743028937, 1.7262356225435824, 1.726228779868648, 1.726234417744441, 1.7262288484870925, 1.7262246084394368, 1.726230842125349, 1.7262314990696703, 1.7262252396112812, 1.7262194128429518, 1.7262249669321061, 1.7262244385104861, 1.7262211430593895, 1.7262246624152429, 1.726216731724228, 1.726237833752306, 2.5558805240914664, 3.5410582681830842, 3.3622639161934997, 79.52968168778636, 3.3717521652932914, 4.272220742992567, 2.5479942702420653, 2.541319081494316, 4.202485603142808, 3.326836993072735, 2.859214843703946, 1.7262474214892913, 6.729161169995917, 3.8196790738499233, 3.893224919073415, 2.881864146940941, 5.631610603264962, 5.644009953332738, 4.394102069495829, 6.462995694169169, 3.755372679106079, 2.9927376688124245, 2.9845728769069675, 5.654018931332868, 2.225950407924594, 2.2271938353419944, 2.2254881749066895, 2.2404603006261277, 2.245893305237848, 2.2677210975998463, 2.2678015482064806, 2.2622654105445705, 1.4677629811403783, 1.4677580570281272, 1.4677500942343706, 1.467742168655171, 1.467745952726906, 1.4677447159748132, 1.4677324892978256, 1.467725010281525, 1.467745634502709, 1.467722632024022, 1.4677443159005912, 1.4677156537460359, 1.4677172092350024, 1.4677413494089613, 1.4677176726547274, 1.467669016381241, 1.4666137002068065, 1.4660082703845545, 5.644009953332738, 3.2540631510134546, 2.7563773764495596, 2.3618096702916827, 3.089980316135379, 5.019770823208461, 5.337635548997758, 3.087725040443435, 7.0878218155649355, 3.0021836681254266, 79.52968168778636, 3.127798643337, 2.2962015605126416, 3.5086387814264572, 4.272220742992567, 8.288064691522704, 6.462995694169169, 2.331798540807618, 4.179197039199445, 6.627578897710215, 6.517694777480562, 6.3300893230809, 7.194457297534575, 3.1879053656893923, 2.3603356420662696, 2.3603574702096184, 2.3603142610998873, 3.0837802720995917, 2.881639444954882, 4.128299589249938, 1.5327987902359803, 1.5327954455884607, 1.532787994619673, 1.5327902756844596, 1.532786447821475, 1.5327725819060436, 1.5327754756065455, 1.5327805947537012, 1.532764309034453, 1.5327683175602664, 1.5327650514431261, 1.532771317373893, 1.5327636841586736, 1.5327583742273174, 1.5327619297212716, 1.532754378411105, 1.532767430739031, 1.5327573214023196, 1.5327508245423431, 1.532759189080908, 1.5327411873659695, 1.5327573385769109, 1.5327544731456293, 7.79893967885233, 3.1515821279218246, 3.8542018979425037, 2.3381542359088052, 7.194457297534575, 2.3067076300100164, 5.950973335380751, 3.916246355132286, 79.52968168778636, 2.3068187996806215, 3.3515895256027988, 4.993291213053968, 2.2939854311268375, 2.362873483708352, 5.631610603264962, 3.2296415772535054, 6.517694777480562, 3.379534889059704, 4.51466309374686, 2.3665311426575215, 5.337635548997758, 2.3430088958349136, 6.729161169995917, 1.5893909485704971, 1.2946822449981041, 1.403760255377384, 4.44886238860671, 3.7082859406156876, 0.9999577804711265, 0.9999580486035549, 0.9999557650727318, 0.9999527968546406, 0.999950882834762, 0.9999522565363521, 0.9999511026707983, 0.9999530726519276, 0.9999527362055568, 0.9999512998301266, 0.9999542762553398, 0.9999522561478557, 0.9999507071907453, 0.9999515708097916, 0.9999490046936753, 0.999948806895083, 0.999948295205825, 0.9999461231163892, 0.9999563884559614, 0.9999508204095452, 0.9999440063971957, 0.9999465417046844, 0.9999404659517296, 0.9999441517024649, 0.9999500016832912, 4.831504896322891, 3.326836993072735, 141.1589020932632, 4.159669455935074, 1124.8996488963187, 7.115052978312107, 2.478558611204812, 79.52968168778636, 4.51466309374686, 2.2065890245720063, 1.7959536266587983, 330.97487937115164, 5.631610603264962, 8.288064691522704, 3.8196790738499233, 1.9136155131939456, 5.019770823208461, 1.7982091948583847, 1.845480398525134, 4.179197039199445, 2.610116511947966, 3.613635474131317, 1.7512736984043402, 4.202485603142808, 1.7879560798286027, 2.6471042912034566, 2.3044902502668716, 1.5088196511797298, 3.613635474131317, 1.5047396495425005, 1.494543800438264, 1.4779218744642013, 1.4776423924857596, 1.461118828731282, 1.4481627088995193, 1.433238775339742, 1.4326810867455193, 2.268400644504817, 1.6468223614152626, 1.4172969282184713, 2.567584636815152, 1.3879456035990425, 3.4893466458686735, 2.4005021781516773, 4.080931999542554, 1.6400040032068375, 2.5587016256748463, 1.6382881669046994, 3.408468714754697, 1.637266775498047, 1.63696134077611, 1.6365779056018976, 2.7699298121705382, 2.3676118567670135, 1.6358131886500338, 3.044141735757613, 2.5538162579673456, 6.3300893230809, 2.351974676253411, 6.627578897710215, 3.4664475931804346, 7.0878218155649355, 4.394102069495829, 79.52968168778636, 2.3897472615280266, 4.207632476525786, 7.79893967885233, 6.462995694169169, 4.993291213053968, 5.838045293227359, 6.729161169995917, 2.545168027059978, 5.019770823208461, 2.5441468934982527, 5.950973335380751, 1.840977670157303, 1.2731310560358478, 1.273127795409285, 1.2731236440548181, 1.2731198084005557, 1.2731171527243195, 1.2731144715593081, 1.27311314751802, 1.2731092891370237, 1.2731078707028731, 1.2731199351799638, 1.273117685720193, 1.2731112441810917, 1.2731144031874082, 1.273103666792851, 1.2731025280548025, 1.2730927424918694, 1.2116616494988073, 1.2039938183260808, 1.2021819404170158, 1.197176354956588, 1.1931001314076302, 1.190665766646369, 1.1899342511046902, 1.1885208181624856, 1.1846955010576703, 1.183911808351684, 1.1828250615618503, 1.1806882737702067, 1.1790682190754689, 6.3300893230809, 2.035574159816791, 79.52968168778636, 2.0809286316675193, 2.0855707295153905, 8.288064691522704, 2.094650719437296, 3.2296415772535054, 2.294131086736499, 2.9180438221007496, 3.0256482358418593, 3.3028675445879934, 3.893224919073415, 5.838045293227359, 6.729161169995917, 4.202485603142808, 7.194457297534575, 2.7305428211744176, 2.7305121572417352, 2.3929935997241345, 1.7178755332391094, 1.380314812711325, 1.0427665256883905, 1.0427622908778849, 1.6853363158966053, 1.142879553908027, 1.1670272619067683, 1.170184683904392, 1.1838237797753792, 1.2151067828889577, 1.8052649721501581, 1.870297792505514, 4.128299589249938, 3.1587961768675363, 6.462995694169169, 3.893224919073415, 2.292768808917823, 1.4766929641459356, 1.4805747447308535, 1.481857978840287, 1.4906775917142363, 1.4901830622776229, 3.5086387814264572, 1.4955056585945665, 1.485985002954932, 1.4979224876388875, 1.4967197239349763, 2.338939112700179, 2.3661752611926166, 2.2157168160297407, 79.52968168778636, 3.044141735757613, 3.3622639161934997, 330.97487937115164, 1124.8996488963187, 4.202485603142808, 4.383252442165508, 6.627578897710215, 6.830038080006804, 0.9104080857097467, 0.9104008757962574, 1.3967185968871734, 1.4172435214069141, 1.4196826751285736, 1.4244361947817272, 1.4275258477899173, 1.4284456037489384, 1.4331902348169183, 1.440552305315923, 1.4424787516662902, 1.443849389878771, 1.445025498164682, 1.4521922530737736, 1.459607101003223, 1.46008781867654, 1.460880031858363, 1.4653991427962043, 1.4705025477778273, 1.4711494202710402, 1.4762345384361644, 1.4978253991134958, 1.5080282567297623, 1.5113158397306183, 1.7668496328595074, 1.5227354685655787, 3.5410582681830842, 3.893224919073415, 2.603128318195158, 3.613635474131317, 5.337635548997758, 2.687191414073967, 3.3717521652932914, 79.52968168778636], \"Category\": [\"Default\", \"Default\", \"Default\", \"Default\", \"Default\", \"Default\", \"Default\", \"Default\", \"Default\", \"Default\", \"Default\", \"Default\", \"Default\", \"Default\", \"Default\", \"Default\", \"Default\", \"Default\", \"Default\", \"Default\", \"Default\", \"Default\", \"Default\", \"Default\", \"Default\", \"Default\", \"Default\", \"Default\", \"Default\", \"Default\", \"Topic1\", \"Topic1\", \"Topic1\", \"Topic1\", \"Topic1\", \"Topic1\", \"Topic1\", \"Topic1\", \"Topic1\", \"Topic1\", \"Topic1\", \"Topic1\", \"Topic1\", \"Topic1\", \"Topic1\", \"Topic1\", \"Topic1\", \"Topic1\", \"Topic1\", \"Topic1\", \"Topic1\", \"Topic1\", \"Topic1\", \"Topic1\", \"Topic1\", \"Topic1\", \"Topic1\", \"Topic1\", \"Topic1\", \"Topic1\", \"Topic1\", \"Topic1\", \"Topic1\", \"Topic1\", \"Topic1\", \"Topic1\", \"Topic1\", \"Topic1\", \"Topic2\", \"Topic2\", \"Topic2\", \"Topic2\", \"Topic2\", \"Topic2\", \"Topic2\", \"Topic2\", \"Topic2\", \"Topic2\", \"Topic2\", \"Topic2\", \"Topic2\", \"Topic2\", \"Topic2\", \"Topic2\", \"Topic2\", \"Topic2\", \"Topic2\", \"Topic2\", \"Topic2\", \"Topic2\", \"Topic2\", \"Topic2\", \"Topic2\", \"Topic2\", \"Topic2\", \"Topic2\", \"Topic2\", \"Topic2\", \"Topic2\", \"Topic2\", \"Topic2\", \"Topic2\", \"Topic2\", \"Topic2\", \"Topic2\", \"Topic2\", \"Topic2\", \"Topic2\", \"Topic2\", \"Topic2\", \"Topic3\", \"Topic3\", \"Topic3\", \"Topic3\", \"Topic3\", \"Topic3\", \"Topic3\", \"Topic3\", \"Topic3\", \"Topic3\", \"Topic3\", \"Topic3\", \"Topic3\", \"Topic3\", \"Topic3\", \"Topic3\", \"Topic3\", \"Topic3\", \"Topic3\", \"Topic3\", \"Topic3\", \"Topic3\", \"Topic3\", \"Topic3\", \"Topic3\", \"Topic3\", \"Topic3\", \"Topic3\", \"Topic3\", \"Topic3\", \"Topic3\", \"Topic3\", \"Topic3\", \"Topic3\", \"Topic3\", \"Topic3\", \"Topic3\", \"Topic3\", \"Topic3\", \"Topic3\", \"Topic3\", \"Topic3\", \"Topic3\", \"Topic3\", \"Topic3\", \"Topic3\", \"Topic3\", \"Topic3\", \"Topic3\", \"Topic3\", \"Topic3\", \"Topic4\", \"Topic4\", \"Topic4\", \"Topic4\", \"Topic4\", \"Topic4\", \"Topic4\", \"Topic4\", \"Topic4\", \"Topic4\", \"Topic4\", \"Topic4\", \"Topic4\", \"Topic4\", \"Topic4\", \"Topic4\", \"Topic4\", \"Topic4\", \"Topic4\", \"Topic4\", \"Topic4\", \"Topic4\", \"Topic4\", \"Topic4\", \"Topic4\", \"Topic4\", \"Topic4\", \"Topic4\", \"Topic4\", \"Topic4\", \"Topic4\", \"Topic4\", \"Topic4\", \"Topic4\", \"Topic4\", \"Topic4\", \"Topic4\", \"Topic4\", \"Topic4\", \"Topic4\", \"Topic4\", \"Topic4\", \"Topic4\", \"Topic4\", \"Topic4\", \"Topic4\", \"Topic4\", \"Topic4\", \"Topic4\", \"Topic4\", \"Topic4\", \"Topic4\", \"Topic4\", \"Topic5\", \"Topic5\", \"Topic5\", \"Topic5\", \"Topic5\", \"Topic5\", \"Topic5\", \"Topic5\", \"Topic5\", \"Topic5\", \"Topic5\", \"Topic5\", \"Topic5\", \"Topic5\", \"Topic5\", \"Topic5\", \"Topic5\", \"Topic5\", \"Topic5\", \"Topic5\", \"Topic5\", \"Topic5\", \"Topic5\", \"Topic5\", \"Topic5\", \"Topic5\", \"Topic5\", \"Topic5\", \"Topic5\", \"Topic5\", \"Topic5\", \"Topic5\", \"Topic5\", \"Topic5\", \"Topic5\", \"Topic5\", \"Topic5\", \"Topic5\", \"Topic5\", \"Topic5\", \"Topic5\", \"Topic5\", \"Topic5\", \"Topic5\", \"Topic5\", \"Topic5\", \"Topic5\", \"Topic5\", \"Topic5\", \"Topic5\", \"Topic5\", \"Topic5\", \"Topic5\", \"Topic6\", \"Topic6\", \"Topic6\", \"Topic6\", \"Topic6\", \"Topic6\", \"Topic6\", \"Topic6\", \"Topic6\", \"Topic6\", \"Topic6\", \"Topic6\", \"Topic6\", \"Topic6\", \"Topic6\", \"Topic6\", \"Topic6\", \"Topic6\", \"Topic6\", \"Topic6\", \"Topic6\", \"Topic6\", \"Topic6\", \"Topic6\", \"Topic6\", \"Topic6\", \"Topic6\", \"Topic6\", \"Topic6\", \"Topic6\", \"Topic6\", \"Topic6\", \"Topic6\", \"Topic6\", \"Topic6\", \"Topic6\", \"Topic6\", \"Topic6\", \"Topic6\", \"Topic6\", \"Topic6\", \"Topic6\", \"Topic6\", \"Topic6\", \"Topic6\", \"Topic6\", \"Topic6\", \"Topic6\", \"Topic6\", \"Topic6\", \"Topic6\", \"Topic6\", \"Topic6\", \"Topic6\", \"Topic6\", \"Topic6\", \"Topic7\", \"Topic7\", \"Topic7\", \"Topic7\", \"Topic7\", \"Topic7\", \"Topic7\", \"Topic7\", \"Topic7\", \"Topic7\", \"Topic7\", \"Topic7\", \"Topic7\", \"Topic7\", \"Topic7\", \"Topic7\", \"Topic7\", \"Topic7\", \"Topic7\", \"Topic7\", \"Topic7\", \"Topic7\", \"Topic7\", \"Topic7\", \"Topic7\", \"Topic7\", \"Topic7\", \"Topic7\", \"Topic7\", \"Topic7\", \"Topic7\", \"Topic7\", \"Topic7\", \"Topic7\", \"Topic7\", \"Topic7\", \"Topic7\", \"Topic7\", \"Topic7\", \"Topic7\", \"Topic7\", \"Topic7\", \"Topic7\", \"Topic7\", \"Topic7\", \"Topic7\", \"Topic7\", \"Topic7\", \"Topic7\", \"Topic8\", \"Topic8\", \"Topic8\", \"Topic8\", \"Topic8\", \"Topic8\", \"Topic8\", \"Topic8\", \"Topic8\", \"Topic8\", \"Topic8\", \"Topic8\", \"Topic8\", \"Topic8\", \"Topic8\", \"Topic8\", \"Topic8\", \"Topic8\", \"Topic8\", \"Topic8\", \"Topic8\", \"Topic8\", \"Topic8\", \"Topic8\", \"Topic8\", \"Topic8\", \"Topic8\", \"Topic8\", \"Topic8\", \"Topic8\", \"Topic8\", \"Topic8\", \"Topic8\", \"Topic8\", \"Topic8\", \"Topic8\", \"Topic8\", \"Topic8\", \"Topic8\", \"Topic8\", \"Topic8\", \"Topic8\", \"Topic8\", \"Topic8\", \"Topic8\", \"Topic8\", \"Topic8\", \"Topic9\", \"Topic9\", \"Topic9\", \"Topic9\", \"Topic9\", \"Topic9\", \"Topic9\", \"Topic9\", \"Topic9\", \"Topic9\", \"Topic9\", \"Topic9\", \"Topic9\", \"Topic9\", \"Topic9\", \"Topic9\", \"Topic9\", \"Topic9\", \"Topic9\", \"Topic9\", \"Topic9\", \"Topic9\", \"Topic9\", \"Topic9\", \"Topic9\", \"Topic9\", \"Topic9\", \"Topic9\", \"Topic9\", \"Topic9\", \"Topic9\", \"Topic9\", \"Topic9\", \"Topic9\", \"Topic9\", \"Topic9\", \"Topic9\", \"Topic9\", \"Topic9\", \"Topic9\", \"Topic9\", \"Topic10\", \"Topic10\", \"Topic10\", \"Topic10\", \"Topic10\", \"Topic10\", \"Topic10\", \"Topic10\", \"Topic10\", \"Topic10\", \"Topic10\", \"Topic10\", \"Topic10\", \"Topic10\", \"Topic10\", \"Topic10\", \"Topic10\", \"Topic10\", \"Topic10\", \"Topic10\", \"Topic10\", \"Topic10\", \"Topic10\", \"Topic10\", \"Topic10\", \"Topic10\", \"Topic10\", \"Topic10\", \"Topic10\", \"Topic10\", \"Topic10\", \"Topic10\", \"Topic10\", \"Topic10\", \"Topic10\"], \"logprob\": [30.0, 29.0, 28.0, 27.0, 26.0, 25.0, 24.0, 23.0, 22.0, 21.0, 20.0, 19.0, 18.0, 17.0, 16.0, 15.0, 14.0, 13.0, 12.0, 11.0, 10.0, 9.0, 8.0, 7.0, 6.0, 5.0, 4.0, 3.0, 2.0, 1.0, -0.2451, -5.894, -2.4065, -6.2834, -6.2835, -5.5608, -6.93, -6.93, -6.9301, -6.9301, -6.9301, -6.9301, -6.9301, -6.9301, -6.9301, -6.9301, -6.9301, -6.9301, -6.9301, -6.9301, -6.9301, -6.9301, -6.9301, -6.9301, -6.2493, -6.1414, -6.8176, -6.3372, -6.9301, -7.4451, -6.9301, -6.4891, -5.1443, -6.7777, -6.9026, -6.9301, -6.9301, -6.9301, -0.7511, -0.9655, -5.2754, -6.7675, -6.3944, -5.502, -6.9404, -6.9539, -6.9546, -6.9581, -6.9823, -6.9876, -6.5528, -6.249, -6.5622, -7.0132, -7.0339, -6.6045, -6.6167, -7.063, -6.7676, -7.1779, -6.73, -7.186, -7.2218, -7.226, -7.2272, -6.4691, -7.243, -7.2466, -6.8021, -6.7676, -6.9438, -6.5719, -6.6605, -6.52, -5.4921, -6.7676, -6.8698, -6.7676, -6.8271, -6.9674, -4.7749, -4.52, -4.7748, -4.4781, -5.4215, -5.4215, -5.4215, -5.4215, -5.4215, -5.4215, -5.4215, -5.4215, -5.4215, -5.4215, -5.4215, -5.4215, -5.4215, -5.4215, -5.4215, -5.4215, -5.4215, -5.4215, -5.4215, -5.4215, -5.4215, -5.4215, -5.4215, -5.4215, -5.4215, -5.4215, -5.4215, -5.0814, -4.8104, -4.8768, -2.3525, -4.9046, -4.7749, -5.1481, -5.1679, -4.9024, -5.0566, -5.1717, -5.4215, -4.9272, -5.1558, -5.1878, -5.2752, -5.1172, -5.278, -5.4193, -5.4204, -4.1476, -4.4273, -4.4528, -3.8623, -4.8379, -4.8387, -4.8446, -4.8553, -4.9156, -4.9131, -4.9133, -4.9323, -5.4633, -5.4633, -5.4633, -5.4633, -5.4633, -5.4633, -5.4633, -5.4633, -5.4633, -5.4634, -5.4633, -5.4634, -5.4634, -5.4633, -5.4634, -5.4634, -5.4781, -5.4799, -4.2117, -4.7536, -4.9186, -5.0656, -4.8507, -4.4779, -4.5101, -4.9161, -4.3815, -4.9709, -2.7982, -4.9737, -5.1745, -4.9329, -4.8167, -4.436, -4.5916, -5.2085, -4.9299, -4.7377, -4.8141, -4.8791, -4.8669, -4.3119, -4.7014, -4.7013, -4.7014, -4.5766, -4.7014, -4.3441, -5.348, -5.348, -5.348, -5.348, -5.348, -5.348, -5.348, -5.348, -5.348, -5.348, -5.348, -5.348, -5.348, -5.348, -5.348, -5.348, -5.348, -5.348, -5.348, -5.348, -5.348, -5.348, -5.348, -3.9075, -4.7785, -4.6204, -5.0216, -4.1693, -5.0396, -4.3587, -4.7358, -2.8406, -5.0903, -4.857, -4.6127, -5.1227, -5.1222, -4.6844, -4.9966, -4.7005, -4.994, -4.8718, -5.174, -4.8727, -5.1973, -4.9783, -5.218, -5.6074, -5.8184, -4.6988, -4.9061, -6.2541, -6.2541, -6.2541, -6.2541, -6.2541, -6.2541, -6.2541, -6.2541, -6.2541, -6.2541, -6.2541, -6.2541, -6.2541, -6.2541, -6.2541, -6.2541, -6.2541, -6.2541, -6.2541, -6.2541, -6.2541, -6.2541, -6.2541, -6.2541, -6.2541, -4.7851, -5.1376, -2.1035, -5.0849, -0.7439, -4.7654, -5.6074, -3.2098, -5.5741, -5.9154, -6.006, -3.8485, -5.6348, -5.6225, -5.9552, -6.1746, -6.0692, -6.1931, -6.1923, -6.1195, -6.1821, -6.2349, -6.2462, -6.2382, -6.2469, -6.2462, -4.675, -5.3015, -4.4284, -5.3086, -5.3266, -5.3567, -5.3572, -5.3881, -5.4129, -5.4424, -5.4435, -4.9953, -5.3188, -5.4748, -4.915, -5.5374, -4.6193, -5.0493, -4.5386, -5.4534, -5.0314, -5.4906, -4.763, -5.5139, -5.5202, -5.5291, -5.0076, -5.1678, -5.5466, -4.9283, -5.1054, -4.2551, -5.1949, -4.2737, -4.8607, -4.4417, -4.7815, -3.2423, -5.1925, -4.9451, -4.6778, -4.833, -4.9948, -4.9625, -5.0698, -5.2442, -5.1567, -5.2619, -5.222, -4.1628, -4.8093, -4.8094, -4.8094, -4.8094, -4.8094, -4.8094, -4.8094, -4.8094, -4.8094, -4.8094, -4.8094, -4.8094, -4.8094, -4.8094, -4.8094, -4.8095, -5.0382, -5.0708, -5.0787, -5.1007, -5.119, -5.1301, -5.1334, -5.14, -5.1579, -5.1616, -5.1667, -5.1769, -5.1848, -3.7733, -4.8094, -2.4639, -4.8094, -4.8094, -3.9888, -4.8094, -4.6021, -4.8094, -4.8094, -4.8094, -4.8094, -4.8094, -4.8094, -4.8094, -4.8094, -4.8094, -3.0903, -3.0903, -3.2693, -3.7671, -4.1566, -4.8033, -4.8033, -4.5083, -5.0087, -5.0653, -5.073, -5.1066, -5.1885, -4.8033, -4.8032, -4.4339, -4.8032, -4.0988, -4.8033, -5.3678, -5.8851, -5.8941, -5.9027, -5.9154, -5.919, -5.0641, -5.9342, -5.9443, -5.9444, -5.9464, -5.5061, -5.6559, -5.7145, -3.8916, -5.5703, -5.5357, -3.5015, -3.0903, -5.4813, -5.5803, -5.5837, -1.9635, -4.4408, -4.4408, -5.2215, -5.2727, -5.2789, -5.2912, -5.2994, -5.3018, -5.3144, -5.3342, -5.3395, -5.3432, -5.3464, -5.3664, -5.3875, -5.3889, -5.3912, -5.4042, -5.4192, -5.4211, -5.4364, -5.5037, -5.5372, -5.5482, -5.4241, -5.5875, -4.7445, -4.7463, -5.4102, -5.2765, -5.1692, -5.4319, -5.4467, -5.4417], \"loglift\": [30.0, 29.0, 28.0, 27.0, 26.0, 25.0, 24.0, 23.0, 22.0, 21.0, 20.0, 19.0, 18.0, 17.0, 16.0, 15.0, 14.0, 13.0, 12.0, 11.0, 10.0, 9.0, 8.0, 7.0, 6.0, 5.0, 4.0, 3.0, 2.0, 1.0, 0.8329, 0.761, 0.7471, 0.6974, 0.6974, 0.5805, 0.5373, 0.5373, 0.5373, 0.5373, 0.5373, 0.5373, 0.5373, 0.5373, 0.5373, 0.5373, 0.5373, 0.5373, 0.5373, 0.5373, 0.5373, 0.5373, 0.5373, 0.5373, 0.5023, 0.3869, 0.2923, 0.2736, 0.2657, 0.256, 0.204, -0.0668, -1.4169, -0.4578, 0.09, 0.1052, -0.1667, 0.0232, 1.3512, 1.3359, 1.2082, 0.8665, 0.7702, 0.6802, 0.6798, 0.6653, 0.6646, 0.6609, 0.635, 0.6293, 0.6185, 0.6114, 0.6089, 0.602, 0.5798, 0.5652, 0.5526, 0.5489, 0.4446, 0.4415, 0.4359, 0.4332, 0.3964, 0.3921, 0.3909, 0.3847, 0.3747, 0.3709, 0.3619, 0.3536, 0.2168, -0.0765, -0.0373, -0.3749, -1.7647, -0.101, -0.1727, -0.7789, -0.488, -0.9179, 2.318, 2.2401, 2.152, 2.1476, 2.1361, 2.1361, 2.1361, 2.1361, 2.1361, 2.1361, 2.1361, 2.1361, 2.1361, 2.1361, 2.1361, 2.1361, 2.1361, 2.1361, 2.1361, 2.1361, 2.1361, 2.1361, 2.1361, 2.1361, 2.1361, 2.1361, 2.1361, 2.1361, 2.1361, 2.1361, 2.1361, 2.0837, 2.0287, 2.0141, 1.3749, 1.9835, 1.8765, 2.0201, 2.0029, 1.7654, 1.8448, 1.8813, 2.1361, 1.2698, 1.6075, 1.5565, 1.7698, 1.2579, 1.0949, 1.2039, 0.817, 2.6327, 2.58, 2.5573, 2.5088, 2.4654, 2.464, 2.4589, 2.4415, 2.3788, 2.3716, 2.3714, 2.3548, 2.2565, 2.2564, 2.2564, 2.2564, 2.2564, 2.2564, 2.2564, 2.2564, 2.2564, 2.2564, 2.2564, 2.2564, 2.2564, 2.2564, 2.2564, 2.2564, 2.2424, 2.241, 2.1612, 2.17, 2.1709, 2.1784, 2.1246, 2.0122, 1.9186, 2.0599, 1.7636, 2.0333, 0.9292, 1.9895, 2.0977, 1.9154, 1.8346, 1.5527, 1.6458, 2.0484, 1.7435, 1.4745, 1.4149, 1.3791, 1.2632, 2.6322, 2.5433, 2.5433, 2.5433, 2.4007, 2.3437, 2.3415, 2.3284, 2.3284, 2.3284, 2.3284, 2.3284, 2.3284, 2.3284, 2.3284, 2.3284, 2.3284, 2.3284, 2.3284, 2.3284, 2.3284, 2.3284, 2.3284, 2.3284, 2.3284, 2.3284, 2.3284, 2.3284, 2.3284, 2.3284, 2.142, 2.177, 2.134, 2.2326, 1.9609, 2.2281, 1.9612, 2.0026, 0.8867, 2.1773, 2.0371, 1.8827, 2.1505, 2.1214, 1.6907, 1.9345, 1.5285, 1.8917, 1.7244, 2.0681, 1.556, 2.0548, 1.2188, 2.4221, 2.2378, 1.9459, 1.912, 1.8868, 1.8495, 1.8495, 1.8495, 1.8495, 1.8495, 1.8495, 1.8495, 1.8495, 1.8495, 1.8495, 1.8495, 1.8495, 1.8495, 1.8495, 1.8495, 1.8495, 1.8495, 1.8495, 1.8495, 1.8494, 1.8494, 1.8494, 1.8494, 1.8494, 1.8494, 1.7433, 1.7639, 1.0501, 1.5932, 0.3341, 1.3758, 1.5884, 0.5175, 1.0221, 1.3966, 1.512, -1.547, 0.7403, 0.3662, 0.8081, 1.2799, 0.4209, 1.3236, 1.2985, 0.5539, 0.962, 0.5839, 1.297, 0.4296, 1.2756, 0.8838, 2.5936, 2.3907, 2.3904, 2.3863, 2.375, 2.3561, 2.3558, 2.3362, 2.3203, 2.3012, 2.3004, 2.2891, 2.2859, 2.28, 2.2455, 2.2382, 2.2345, 2.1785, 2.1586, 2.1554, 2.1326, 2.1192, 2.1142, 2.0966, 2.0904, 2.0818, 2.0771, 2.0738, 2.0648, 2.062, 2.0605, 2.0031, 2.0533, 1.9385, 1.9997, 1.7034, 1.8418, 0.4851, 2.0398, 1.7215, 1.3717, 1.4044, 1.5006, 1.3766, 1.1273, 1.9251, 1.3334, 1.9078, 1.0979, 3.3304, 3.0527, 3.0527, 3.0527, 3.0527, 3.0527, 3.0526, 3.0526, 3.0526, 3.0526, 3.0526, 3.0526, 3.0526, 3.0526, 3.0526, 3.0526, 3.0526, 2.8733, 2.8471, 2.8407, 2.8229, 2.8079, 2.7989, 2.7962, 2.7908, 2.7761, 2.7731, 2.7689, 2.7605, 2.754, 2.4849, 2.5833, 1.2634, 2.5613, 2.559, 1.9999, 2.5547, 2.3291, 2.4638, 2.2232, 2.187, 2.0993, 1.9349, 1.5297, 1.3877, 1.8584, 1.3208, 4.0087, 4.0087, 3.9617, 3.7953, 3.6245, 3.2583, 3.2583, 3.0733, 2.9612, 2.8837, 2.8733, 2.8281, 2.7201, 2.7095, 2.6742, 2.2517, 2.1501, 2.1386, 1.941, 1.9059, 1.8286, 1.8169, 1.8075, 1.7889, 1.7856, 1.7842, 1.7668, 1.7631, 1.755, 1.7538, 1.7477, 1.5864, 1.5934, -0.1643, 1.42, 1.3552, -1.2, -2.0122, 1.1866, 1.0454, 0.6285, 4.2187, 3.7566, 3.7565, 2.5479, 2.4821, 2.4742, 2.4585, 2.4482, 2.4451, 2.4292, 2.4043, 2.3976, 2.3929, 2.389, 2.364, 2.3379, 2.3361, 2.3333, 2.3171, 2.2986, 2.2963, 2.2776, 2.1958, 2.1555, 2.1423, 2.1102, 2.0955, 2.0946, 1.9979, 1.7366, 1.5423, 1.2595, 1.6831, 1.4414, -1.7143]}, \"token.table\": {\"Topic\": [3, 3, 3, 7, 8, 4, 2, 3, 4, 7, 3, 5, 4, 5, 7, 7, 5, 8, 3, 1, 2, 3, 4, 5, 6, 7, 8, 9, 8, 2, 7, 7, 1, 6, 4, 5, 2, 2, 7, 4, 3, 3, 4, 3, 3, 2, 1, 3, 5, 1, 3, 4, 5, 2, 7, 5, 9, 2, 3, 4, 7, 9, 5, 2, 7, 1, 3, 2, 7, 1, 3, 5, 4, 1, 9, 7, 4, 5, 1, 3, 5, 5, 8, 2, 3, 8, 1, 1, 4, 5, 3, 3, 2, 10, 2, 6, 9, 3, 4, 6, 3, 7, 8, 5, 3, 1, 6, 5, 5, 7, 5, 5, 4, 7, 3, 3, 1, 3, 5, 6, 5, 7, 5, 5, 5, 3, 5, 5, 4, 5, 3, 3, 3, 3, 4, 3, 3, 3, 7, 5, 7, 4, 6, 4, 5, 1, 3, 1, 4, 1, 5, 5, 8, 3, 4, 5, 6, 7, 1, 4, 7, 5, 7, 9, 7, 1, 3, 5, 6, 7, 3, 5, 6, 8, 5, 9, 3, 7, 1, 4, 3, 7, 5, 5, 7, 8, 4, 3, 4, 2, 7, 2, 5, 7, 2, 3, 2, 2, 1, 4, 1, 4, 8, 1, 1, 2, 5, 1, 4, 5, 4, 3, 7, 3, 3, 7, 2, 2, 3, 4, 7, 7, 3, 7, 8, 2, 7, 3, 2, 3, 4, 5, 7, 8, 2, 5, 7, 2, 4, 7, 3, 3, 1, 3, 4, 5, 2, 3, 7, 4, 5, 4, 7, 8, 4, 3, 5, 5, 5, 1, 3, 4, 3, 5, 5, 8, 4, 7, 1, 3, 3, 4, 5, 1, 4, 1, 2, 2, 7, 3, 3, 2, 5, 7, 3, 1, 6, 7, 2, 4, 3, 3, 2, 3, 7, 1, 7, 2, 5, 3, 5, 4, 3, 1, 3, 1, 4, 3, 4, 5, 1, 5, 4, 2, 4, 5, 2, 3, 3, 7, 3, 5, 2, 3, 1, 3, 8, 2, 3, 3, 3, 1, 8, 8, 5, 3, 4, 5, 4, 3, 6, 5, 1, 3, 4, 3, 4, 1, 3, 8, 7, 8, 7, 2, 5, 3, 3, 4, 5, 8, 3, 6, 4, 2, 5, 3, 4, 1, 7, 4, 1, 1, 1, 5, 1, 3, 2, 4, 2, 7, 8, 8, 1, 3, 8, 3, 8, 5, 1, 6, 9, 3, 5, 2, 7, 8, 3, 1, 8, 5, 7, 9, 3, 4, 5, 8, 4, 7, 8, 3, 4, 7, 4, 4, 8, 3, 4, 1, 5, 7, 5, 3, 5, 7, 2, 7, 3, 8, 2, 3, 3, 3, 8, 3, 2, 5, 7, 8, 9, 4, 2, 2, 1, 4, 7, 3, 3, 4, 1, 1, 6, 1, 2, 3, 4, 7, 8, 3, 2, 5, 7, 1, 3, 2, 3, 4, 5, 6, 7, 8, 1, 6, 5, 8], \"Freq\": [0.5792891591768602, 0.5659791197859767, 0.6977440787040697, 0.6113167487207124, 0.7854671020504427, 0.681318573081713, 0.15088466171945436, 0.15088466171945436, 0.3017693234389087, 0.3017693234389087, 0.5948373030348696, 0.5933533803121048, 0.3984245636779231, 0.19921228183896156, 0.19921228183896156, 0.697992043903924, 0.3426953332318645, 0.3426953332318645, 0.5793000531946304, 0.10059137456888108, 0.05029568728444054, 0.3017741237066432, 0.1508870618533216, 0.13831314003221148, 0.08801745274777094, 0.08801745274777094, 0.08801745274777094, 0.012573921821110135, 0.7854650903840985, 0.2865866024471896, 0.5731732048943792, 0.6110311012858394, 0.7027354561154852, 0.14054709122309703, 0.6701126367109119, 0.6524027735586639, 0.6154579391929458, 0.5769595374626789, 0.28847976873133946, 0.6813173906307289, 0.7020321469388346, 0.7055950405808088, 0.6813299441923696, 0.5792974903802102, 0.5792937672719611, 0.6147051178469977, 0.6508190086676385, 0.7043827592736067, 0.6524125051587714, 0.37230572328715017, 0.18615286164357508, 0.18615286164357508, 0.18615286164357508, 0.3936048212924925, 0.3936048212924925, 0.6524090945714821, 0.8357732340907894, 0.15472701009257783, 0.15472701009257783, 0.30945402018515566, 0.15472701009257783, 0.15472701009257783, 0.6524190007359417, 0.3915708488738059, 0.3915708488738059, 0.5293539864302135, 0.4275442633671443, 0.3929013681486242, 0.3929013681486242, 0.29658170321454075, 0.5931634064290815, 0.5346742128484075, 0.6813308813922575, 0.529344875511092, 0.7324550944561975, 0.6766257521985289, 0.25945708773944404, 0.5189141754788881, 0.28240145297385905, 0.5648029059477181, 0.9410567930554747, 0.3096318820772682, 0.3096318820772682, 0.3721357528766182, 0.3721357528766182, 0.5431896411402722, 0.5293527340351736, 0.5293615038485402, 0.28501081538905076, 0.28501081538905076, 0.6800396242163371, 0.5792974673528504, 0.43923620408233677, 0.43923620408233677, 0.9819476348703448, 0.012085509352250397, 0.003021377338062599, 0.42885351478676637, 0.42885351478676637, 0.7723902941153443, 0.27672962786607314, 0.5534592557321463, 0.7854720297348281, 0.6524049740291151, 0.39246556072710387, 0.4034602996593678, 0.4034602996593678, 0.6524013499815238, 0.42517464583970555, 0.42517464583970555, 0.652415710456395, 0.6485546386345808, 0.6813265380060463, 0.5418643301761304, 0.6920293110883468, 0.5792988721415048, 0.1775690953171094, 0.3551381906342188, 0.3551381906342188, 0.1775690953171094, 0.4232135181569583, 0.6107740137191789, 0.6524162924364267, 0.6524143202488143, 0.6524182057584873, 0.2958987058358887, 0.2958987058358887, 0.43349742083706344, 0.6682844342964541, 0.652421766139702, 0.5792882542722572, 0.6941781956196954, 0.6932511129504282, 0.3841531717857596, 0.3841531717857596, 0.6797406070525202, 0.4361538747868764, 0.5792924966909131, 0.6103932264183721, 0.6524258682697173, 0.8678708880492725, 0.8984926137077496, 0.6291718226402402, 0.6813230662206078, 0.38312465954007785, 0.2609742153502778, 0.7829226460508334, 0.4234041432629499, 0.4234041432629499, 0.3702228620293168, 0.3702228620293168, 0.652417039208331, 0.785477313605249, 0.57929494224136, 0.45318815097159365, 0.6524112734804052, 0.7123723557276254, 0.7204893314312378, 0.5293524359066538, 0.8979909912928131, 0.6691004972264829, 0.4844609643176056, 0.2422304821588028, 0.2422304821588028, 0.6072300349022526, 0.2404037173129673, 0.2404037173129673, 0.2404037173129673, 0.2404037173129673, 0.2404037173129673, 0.2215004706298181, 0.2215004706298181, 0.2215004706298181, 0.2215004706298181, 0.6524202131002286, 0.7324633200023279, 0.6631175480548037, 0.41657950119835896, 0.6687035393507402, 0.8986792302699412, 0.5792944520433259, 0.6977204477062484, 0.5561088236337005, 0.41845429267720585, 0.41845429267720585, 0.47740656268871334, 0.6821243919297167, 0.5792943678248101, 0.5539353033637779, 0.3894710949978289, 0.3894710949978289, 0.6161298968586095, 0.3610199780536649, 0.3610199780536649, 0.39108501833249865, 0.39108501833249865, 0.6161632623810526, 0.6149310909904496, 0.30730811099611177, 0.6146162219922235, 0.32926125128373324, 0.49126188558514794, 0.49126188558514794, 0.5293472023903556, 0.2553465510895372, 0.2553465510895372, 0.5106931021790744, 0.31971367534487943, 0.31971367534487943, 0.31971367534487943, 0.6818428055451756, 0.5792908080604494, 0.5225710144515585, 0.579296577856989, 0.579289075632926, 0.7055684522346284, 0.611653551174427, 0.1410870682166401, 0.1410870682166401, 0.2821741364332802, 0.2821741364332802, 0.6767537295121541, 0.2568564675266692, 0.2568564675266692, 0.2568564675266692, 0.3930590653218848, 0.3930590653218848, 0.5793006338360407, 0.6128083127365377, 0.29721386506800124, 0.14860693253400062, 0.14860693253400062, 0.14860693253400062, 0.14860693253400062, 0.6159843838768625, 0.422366528171347, 0.422366528171347, 0.24504206394816025, 0.24504206394816025, 0.4900841278963205, 0.5793015335919911, 0.556807250007009, 0.1534284795684393, 0.1534284795684393, 0.3068569591368786, 0.3068569591368786, 0.2376633428843798, 0.2376633428843798, 0.2376633428843798, 0.32386303407909267, 0.32386303407909267, 0.45132121251481144, 0.45132121251481144, 0.48055468351101777, 0.6813089121671744, 0.2983658924701244, 0.2983658924701244, 0.6524185526007075, 0.6524130433973063, 0.5293394643231184, 0.4355018379905393, 0.4355018379905393, 0.7000616595938354, 0.8473447934293361, 0.4794850569428365, 0.4794850569428365, 0.32849981597559363, 0.32849981597559363, 0.529346104851767, 0.688614057734681, 0.23928041454383236, 0.23928041454383236, 0.23928041454383236, 0.6508579470668803, 0.7074613736846911, 0.9396833927089984, 0.6154278234828161, 0.39371788102569283, 0.39371788102569283, 0.5792951940862597, 0.7825091905307021, 0.20026871202418528, 0.40053742404837056, 0.20026871202418528, 0.579296798317421, 0.850105790145041, 0.14876851327538218, 0.6097546091623045, 0.7916932954747313, 0.44525712671559725, 0.6925930135164322, 0.7159638328212077, 0.2275777813497032, 0.2275777813497032, 0.2275777813497032, 0.3165762980603781, 0.3165762980603781, 0.616130547844715, 0.42255940856837376, 0.37777128892242046, 0.37777128892242046, 0.681316964256421, 0.6773991354106516, 0.26180209925125514, 0.26180209925125514, 0.5293514821566432, 0.6813276420088841, 0.6845189051752014, 0.4409556915554902, 0.6524189934255675, 0.31730094898697975, 0.6346018979739595, 0.6813111978582971, 0.41013425679652427, 0.41013425679652427, 0.6524160264600226, 0.6151704966693704, 0.579291234588647, 0.656712883257394, 0.6645667908757764, 0.5792987699495664, 0.4359225592417063, 0.37445634964188707, 0.37445634964188707, 0.5293528404815705, 0.4358948822852766, 0.4358948822852766, 0.6136516468867295, 0.579291561171797, 0.6851158776308199, 0.5792955983965581, 0.5293503425283478, 0.7854753223998797, 0.7854826912706858, 0.43351831284992876, 0.17717899299761314, 0.5315369789928395, 0.17717899299761314, 0.4420347830713996, 0.6011716246285812, 0.3005858123142906, 0.8473371178046412, 0.34974636558075445, 0.34974636558075445, 0.8926737061313125, 0.5792986784419768, 0.3627950252907975, 0.529357635107552, 0.661675060706201, 0.7854887288436384, 0.6108879758430237, 0.7854753645833944, 0.6905301412987738, 0.6167632453726043, 0.6524066032951192, 0.6844232769121269, 0.13899589067582402, 0.27799178135164804, 0.41698767202747206, 0.13899589067582402, 0.2696663677003208, 0.2696663677003208, 0.6813301593167365, 0.6151086994593938, 0.42768778237219884, 0.4681406042233337, 0.4681406042233337, 0.3793242000852728, 0.3793242000852728, 0.4409713350810199, 0.5293708183599642, 0.5293540679184846, 0.7762614313472013, 0.2587538104490671, 0.34363022684610545, 0.34363022684610545, 0.6155157223286157, 0.681318953371918, 0.33050768696571864, 0.33050768696571864, 0.33050768696571864, 0.7854719515162124, 0.346997619947313, 0.346997619947313, 0.7854736682010126, 0.4759088284572135, 0.23795441422860675, 0.6524202534241835, 0.9263048495235512, 0.07111745485785421, 0.0017779363714463554, 0.3934964354857762, 0.4268016232365424, 0.3027672125812548, 0.3027672125812548, 0.3027672125812548, 0.6848903108488535, 0.5293623564863676, 0.7854733393592813, 0.6940493556546642, 0.6627697347513407, 0.7244724107797698, 0.18734887214016868, 0.37469774428033736, 0.18734887214016868, 0.7854761392964452, 0.315951307781323, 0.315951307781323, 0.315951307781323, 0.42262296305810115, 0.33309088002080944, 0.33309088002080944, 0.6813525316938629, 0.6813175763425876, 0.7854793949611729, 0.3236266570301957, 0.6472533140603914, 0.3360794759588748, 0.3360794759588748, 0.1680397379794374, 0.8473292817898401, 0.6166194977585826, 0.6524059449252978, 0.6844070313352403, 0.39082321673057696, 0.39082321673057696, 0.5792988902550941, 0.785478519819653, 0.6162775926677618, 0.6676345591361055, 0.5792989472810811, 0.579287730133255, 0.785469663272503, 0.7005127098386281, 0.1282225586013453, 0.5128902344053812, 0.2564451172026906, 0.1282225586013453, 0.5821143503420576, 0.6813168165390701, 0.6253177574657086, 0.9977937920058971, 0.5293544318781938, 0.7988554682445296, 0.4408392328852896, 0.7280070975200178, 0.5792910973547892, 0.681314894087358, 0.5293389381883548, 0.6209245492606676, 0.20697484975355587, 0.17129020926920302, 0.17129020926920302, 0.17129020926920302, 0.17129020926920302, 0.17129020926920302, 0.17129020926920302, 0.6824079329621061, 0.2933868794720531, 0.2933868794720531, 0.2933868794720531, 0.5293460234700615, 0.579288408528365, 0.12065542888713594, 0.12065542888713594, 0.2413108577742719, 0.12065542888713594, 0.12065542888713594, 0.12065542888713594, 0.12065542888713594, 0.4495531273617025, 0.4495531273617025, 0.6524146977195655, 0.7854819886892305], \"Term\": [\"absolutely\", \"accomplishment\", \"acknowledgment\", \"action\", \"actively\", \"actual\", \"add\", \"add\", \"add\", \"add\", \"agree\", \"albedo\", \"also\", \"also\", \"also\", \"antiquity\", \"appear\", \"appear\", \"arbitrary\", \"article\", \"article\", \"article\", \"article\", \"article\", \"article\", \"article\", \"article\", \"article\", \"ask\", \"assembly\", \"assembly\", \"assemblyline\", \"ballznigger\", \"ballznigger\", \"barry\", \"behavior\", \"belarus\", \"belarusian\", \"belarusian\", \"block\", \"blog\", \"book\", \"bravery\", \"brilliant\", \"britain\", \"brittany\", \"burmese\", \"byline\", \"calculate\", \"call\", \"call\", \"call\", \"call\", \"capital\", \"capital\", \"case\", \"category\", \"change\", \"change\", \"change\", \"change\", \"change\", \"chat\", \"chauvinist\", \"chauvinist\", \"child\", \"citation\", \"city\", \"city\", \"claim\", \"claim\", \"clean\", \"click\", \"clutter\", \"cock\", \"collection\", \"come\", \"come\", \"comment\", \"comment\", \"compton\", \"consensus\", \"consensus\", \"consider\", \"consider\", \"conspiracy\", \"constituent\", \"copyvio\", \"correct\", \"correct\", \"credible\", \"criterion\", \"cunt\", \"cunt\", \"cuntnlu\", \"cuntnlu\", \"cuntnlu\", \"dannii\", \"dannii\", \"debate\", \"decline\", \"decline\", \"defend\", \"define\", \"delete\", \"deletion\", \"deletion\", \"deliberate\", \"department\", \"department\", \"describe\", \"diacritic\", \"diesel\", \"different\", \"directory\", \"discuss\", \"discussion\", \"discussion\", \"discussion\", \"discussion\", \"drop\", \"dutchlanguage\", \"effect\", \"employ\", \"emre\", \"encyclopedia\", \"encyclopedia\", \"end\", \"engine\", \"entry\", \"episode\", \"exactly\", \"example\", \"extensive\", \"extensive\", \"extra\", \"fable\", \"factor\", \"factory\", \"fail\", \"fall\", \"family\", \"feature\", \"feb\", \"find\", \"first\", \"first\", \"fischer\", \"fischer\", \"fix\", \"fix\", \"flag\", \"follow\", \"format\", \"french\", \"friendly\", \"fry\", \"gateway\", \"gather\", \"generation\", \"gibbon\", \"give\", \"give\", \"give\", \"god\", \"good\", \"good\", \"good\", \"good\", \"good\", \"great\", \"great\", \"great\", \"great\", \"guideline\", \"hammersoft\", \"harris\", \"help\", \"herenigger\", \"history\", \"hydrology\", \"implicit\", \"improve\", \"incident\", \"incident\", \"include\", \"incorrect\", \"info\", \"instead\", \"interwiki\", \"interwiki\", \"intrigue\", \"issue\", \"issue\", \"jem\", \"jem\", \"ka\", \"kaim\", \"kasparov\", \"kasparov\", \"keep\", \"know\", \"know\", \"kyawzwa\", \"language\", \"language\", \"language\", \"last\", \"last\", \"last\", \"laurel\", \"lead\", \"least\", \"less\", \"letter\", \"level\", \"life\", \"link\", \"link\", \"link\", \"link\", \"linking\", \"list\", \"list\", \"list\", \"lithuanian\", \"lithuanian\", \"load\", \"lock\", \"look\", \"look\", \"look\", \"look\", \"look\", \"loser\", \"lvpd\", \"lvpd\", \"machine\", \"machine\", \"machine\", \"magazine\", \"main\", \"make\", \"make\", \"make\", \"make\", \"many\", \"many\", \"many\", \"mean\", \"mean\", \"measure\", \"measure\", \"mention\", \"merely\", \"merge\", \"merge\", \"merit\", \"meteorite\", \"min\", \"minogue\", \"minogue\", \"minor\", \"misname\", \"miss\", \"miss\", \"moore\", \"moore\", \"move\", \"movie\", \"much\", \"much\", \"much\", \"murder\", \"name\", \"nat\", \"nazi\", \"nazist\", \"nazist\", \"need\", \"never\", \"new\", \"new\", \"new\", \"nickname\", \"nigger\", \"nigger\", \"nl\", \"nlu\", \"nominate\", \"nonnotable\", \"notability\", \"note\", \"note\", \"note\", \"notice\", \"notice\", \"ohhbrittany\", \"option\", \"other\", \"other\", \"overhaul\", \"overthetop\", \"page\", \"page\", \"parent\", \"paxman\", \"pay\", \"penetration\", \"perhaps\", \"period\", \"period\", \"persist\", \"person\", \"person\", \"phrase\", \"polish\", \"post\", \"pr\", \"practical\", \"precedence\", \"prefer\", \"problem\", \"problem\", \"prominent\", \"proposal\", \"proposal\", \"protect\", \"ps\", \"publication\", \"purely\", \"pwe\", \"quick\", \"quokka\", \"reach\", \"read\", \"read\", \"read\", \"recently\", \"redirect\", \"redirect\", \"redshift\", \"relate\", \"relate\", \"research\", \"restore\", \"review\", \"ritual\", \"role\", \"router\", \"rubbish\", \"run\", \"s\", \"scar\", \"scatter\", \"section\", \"see\", \"see\", \"see\", \"see\", \"seem\", \"seem\", \"send\", \"seriously\", \"show\", \"silly\", \"silly\", \"simply\", \"simply\", \"social\", \"society\", \"sooni\", \"source\", \"source\", \"spirit\", \"spirit\", \"stalin\", \"stamina\", \"state\", \"state\", \"state\", \"structure\", \"stupid\", \"stupid\", \"subcategory\", \"subject\", \"subject\", \"subtle\", \"suck\", \"suck\", \"suck\", \"support\", \"sure\", \"take\", \"take\", \"take\", \"talkstacy\", \"technically\", \"template\", \"term\", \"terminology\", \"texas\", \"thank\", \"thank\", \"thank\", \"theorist\", \"theory\", \"theory\", \"theory\", \"therefore\", \"thing\", \"thing\", \"thinkafter\", \"thorough\", \"tice\", \"time\", \"time\", \"title\", \"title\", \"title\", \"tone\", \"topic\", \"tough\", \"transformist\", \"translation\", \"translation\", \"trashy\", \"true\", \"truly\", \"uncredited\", \"underscore\", \"unit\", \"unite\", \"unsubstantiated\", \"use\", \"use\", \"use\", \"use\", \"userpage\", \"utc\", \"vandalize\", \"vandalizer\", \"venerate\", \"ventura\", \"view\", \"viewpoint\", \"war\", \"waste\", \"widely\", \"widr\", \"widr\", \"wikipedia\", \"wikipedia\", \"wikipedia\", \"wikipedia\", \"wikipedia\", \"wikipedia\", \"wildly\", \"word\", \"word\", \"word\", \"worship\", \"worthy\", \"write\", \"write\", \"write\", \"write\", \"write\", \"write\", \"write\", \"xdicksx\", \"xdicksx\", \"yunus\", \"zonke\"]}, \"R\": 30, \"lambda.step\": 0.01, \"plot.opts\": {\"xlab\": \"PC1\", \"ylab\": \"PC2\"}, \"topic.order\": [10, 7, 3, 6, 9, 1, 5, 8, 4, 2]};\n",
       "\n",
       "function LDAvis_load_lib(url, callback){\n",
       "  var s = document.createElement('script');\n",
       "  s.src = url;\n",
       "  s.async = true;\n",
       "  s.onreadystatechange = s.onload = callback;\n",
       "  s.onerror = function(){console.warn(\"failed to load library \" + url);};\n",
       "  document.getElementsByTagName(\"head\")[0].appendChild(s);\n",
       "}\n",
       "\n",
       "if(typeof(LDAvis) !== \"undefined\"){\n",
       "   // already loaded: just create the visualization\n",
       "   !function(LDAvis){\n",
       "       new LDAvis(\"#\" + \"ldavis_el2924821329304687683425380168\", ldavis_el2924821329304687683425380168_data);\n",
       "   }(LDAvis);\n",
       "}else if(typeof define === \"function\" && define.amd){\n",
       "   // require.js is available: use it to load d3/LDAvis\n",
       "   require.config({paths: {d3: \"https://d3js.org/d3.v5\"}});\n",
       "   require([\"d3\"], function(d3){\n",
       "      window.d3 = d3;\n",
       "      LDAvis_load_lib(\"https://cdn.jsdelivr.net/gh/bmabey/pyLDAvis@3.3.1/pyLDAvis/js/ldavis.v3.0.0.js\", function(){\n",
       "        new LDAvis(\"#\" + \"ldavis_el2924821329304687683425380168\", ldavis_el2924821329304687683425380168_data);\n",
       "      });\n",
       "    });\n",
       "}else{\n",
       "    // require.js not available: dynamically load d3 & LDAvis\n",
       "    LDAvis_load_lib(\"https://d3js.org/d3.v5.js\", function(){\n",
       "         LDAvis_load_lib(\"https://cdn.jsdelivr.net/gh/bmabey/pyLDAvis@3.3.1/pyLDAvis/js/ldavis.v3.0.0.js\", function(){\n",
       "                 new LDAvis(\"#\" + \"ldavis_el2924821329304687683425380168\", ldavis_el2924821329304687683425380168_data);\n",
       "            })\n",
       "         });\n",
       "}\n",
       "</script>"
      ],
      "text/plain": [
       "PreparedData(topic_coordinates=              x         y  topics  cluster       Freq\n",
       "topic                                                \n",
       "9     -0.408888  0.082008       1        1  40.280347\n",
       "6     -0.050891 -0.429913       2        1  25.853411\n",
       "2      0.118527  0.051281       3        1   7.684956\n",
       "5      0.124662  0.053593       4        1   5.984540\n",
       "8      0.115204  0.047470       5        1   5.787419\n",
       "0     -0.269046  0.072158       6        1   5.100342\n",
       "4      0.119627  0.025459       7        1   5.043126\n",
       "7      0.110073  0.052971       8        1   2.317592\n",
       "3      0.028436  0.012968       9        1   1.369108\n",
       "1      0.112297  0.032004      10        1   0.579159, topic_info=           Term         Freq        Total Category  logprob  loglift\n",
       "65         suck  1124.000000  1124.000000  Default  30.0000  30.0000\n",
       "6    vandalizer   403.000000   403.000000  Default  29.0000  29.0000\n",
       "345     cuntnlu   330.000000   330.000000  Default  28.0000  28.0000\n",
       "622      nigger   141.000000   141.000000  Default  27.0000  27.0000\n",
       "0       article    79.000000    79.000000  Default  26.0000  26.0000\n",
       "..          ...          ...          ...      ...      ...      ...\n",
       "157     decline     0.097851     3.613635  Topic10  -5.2765   1.5423\n",
       "300       thank     0.108925     5.337636  Topic10  -5.1692   1.2595\n",
       "215    consider     0.083767     2.687191  Topic10  -5.4319   1.6831\n",
       "92        claim     0.082534     3.371752  Topic10  -5.4467   1.4414\n",
       "0       article     0.082949    79.529682  Topic10  -5.4417  -1.7143\n",
       "\n",
       "[495 rows x 6 columns], token_table=      Topic      Freq            Term\n",
       "term                                 \n",
       "7         3  0.579289      absolutely\n",
       "302       3  0.565979  accomplishment\n",
       "303       3  0.697744  acknowledgment\n",
       "29        7  0.611317          action\n",
       "195       8  0.785467        actively\n",
       "...     ...       ...             ...\n",
       "4         8  0.120655           write\n",
       "154       1  0.449553         xdicksx\n",
       "154       6  0.449553         xdicksx\n",
       "432       5  0.652415           yunus\n",
       "540       8  0.785482           zonke\n",
       "\n",
       "[474 rows x 3 columns], R=30, lambda_step=0.01, plot_opts={'xlab': 'PC1', 'ylab': 'PC2'}, topic_order=[10, 7, 3, 6, 9, 1, 5, 8, 4, 2])"
      ]
     },
     "execution_count": 20,
     "metadata": {},
     "output_type": "execute_result"
    }
   ],
   "source": [
    "'''\n",
    "Now that the LDA model is built, the next step is to examine the produced \n",
    "topics and the associated keywords. There is no better tool than pyLDAvis package’s \n",
    "interactive chart and is designed to work well with jupyter notebooks.\n",
    "'''\n",
    "# Visualize the topics\n",
    "pyLDAvis.enable_notebook()\n",
    "vis = pyLDAvis.gensim_models.prepare(lda_model, corpus, id2word)\n",
    "vis"
   ]
  },
  {
   "cell_type": "code",
   "execution_count": 21,
   "metadata": {},
   "outputs": [],
   "source": [
    "#Save the output to the html file\n",
    "pyLDAvis.save_html(vis, \"topic_viz_severe.html\")"
   ]
  },
  {
   "cell_type": "code",
   "execution_count": 22,
   "metadata": {},
   "outputs": [],
   "source": [
    "#Save the data topic output to the csv file\n",
    "mixture = [dict(lda_model[x]) for x in corpus]\n",
    "pd.DataFrame(mixture).to_csv(\"topic_mixture_severe.csv\")\n",
    "\n",
    "#To export the top words for each topic to a csv file:\n",
    "top_words_per_topic = []\n",
    "for t in range(lda_model.num_topics):\n",
    "    top_words_per_topic.extend([(t, ) + x for x in lda_model.show_topic(t, topn = 15)])\n",
    "\n",
    "pd.DataFrame(top_words_per_topic, columns=['Topic', 'Word', 'P']).to_csv(\"top_words_severe.csv\")"
   ]
  },
  {
   "cell_type": "code",
   "execution_count": 29,
   "metadata": {},
   "outputs": [],
   "source": [
    "def format_topics_sentences(ldamodel=lda_model, corpus=corpus, texts=data):\n",
    "    # Init output\n",
    "    sent_topics_df = pd.DataFrame()\n",
    "\n",
    "    # Get main topic in each document\n",
    "    for i, row in enumerate(ldamodel[corpus]):\n",
    "        row = sorted(row, key=lambda x: (x[1]), reverse=True)\n",
    "        # Get the Dominant topic, Perc Contribution and Keywords for each document\n",
    "        for j, (topic_num, prop_topic) in enumerate(row):\n",
    "            if j == 0:  # => dominant topic\n",
    "                wp = ldamodel.show_topic(topic_num)\n",
    "                topic_keywords = \", \".join([word for word, prop in wp])\n",
    "                sent_topics_df = sent_topics_df.append(pd.Series([int(topic_num), round(prop_topic,10), topic_keywords]), ignore_index=True)\n",
    "            else:\n",
    "                break\n",
    "    sent_topics_df.columns = ['Dominant_Topic', 'Perc_Contribution', 'Topic_Keywords']\n",
    "\n",
    "    # Add original text to the end of the output\n",
    "    contents = pd.Series(texts)\n",
    "    sent_topics_df = pd.concat([sent_topics_df, contents], axis=1)\n",
    "    return(sent_topics_df)\n",
    "\n",
    "\n",
    "df_topic_sents_keywords = format_topics_sentences(ldamodel=lda_model, corpus=corpus, texts=data)\n",
    "\n",
    "# Format\n",
    "df_dominant_topic = df_topic_sents_keywords.reset_index()\n",
    "df_dominant_topic.columns = ['Document_No', 'Dominant_Topic', 'Topic_Perc_Contrib', 'Keywords', 'Text']\n",
    "\n",
    "# Show\n",
    "df_dominant_topic.to_csv(\"topic_key_wordsrecords_Severe.csv\")"
   ]
  },
  {
   "cell_type": "code",
   "execution_count": 24,
   "metadata": {},
   "outputs": [],
   "source": [
    "# Group top 5 sentences under each topic\n",
    "sent_topics_sorteddf_mallet = pd.DataFrame()\n",
    "\n",
    "sent_topics_outdf_grpd = df_topic_sents_keywords.groupby('Dominant_Topic')\n",
    "\n",
    "for i, grp in sent_topics_outdf_grpd:\n",
    "    sent_topics_sorteddf_mallet = pd.concat([sent_topics_sorteddf_mallet, \n",
    "                                             grp.sort_values(['Perc_Contribution'], ascending=[0]).head(1)], \n",
    "                                            axis=0)\n",
    "\n",
    "# Reset Index    \n",
    "sent_topics_sorteddf_mallet.reset_index(drop=True, inplace=True)\n",
    "\n",
    "# Format\n",
    "sent_topics_sorteddf_mallet.columns = ['Topic_Num', \"Topic_Perc_Contrib\", \"Keywords\", \"Text\"]\n",
    "\n",
    "# Show\n",
    "sent_topics_sorteddf_mallet.to_csv(\"topics_to_records_severe.csv\")"
   ]
  },
  {
   "cell_type": "code",
   "execution_count": 25,
   "metadata": {},
   "outputs": [],
   "source": [
    "# Number of Documents for Each Topic\n",
    "topic_counts = df_topic_sents_keywords['Dominant_Topic'].value_counts()\n",
    "\n",
    "# Percentage of Documents for Each Topic\n",
    "topic_contribution = round(topic_counts/topic_counts.sum(), 4)\n",
    "\n",
    "# Topic Number and Keywords\n",
    "topic_num_keywords = df_topic_sents_keywords[['Dominant_Topic', 'Topic_Keywords']]\n",
    "\n",
    "# Concatenate Column wise\n",
    "df_dominant_topics = pd.concat([topic_num_keywords, topic_counts, topic_contribution], axis=1)\n",
    "\n",
    "# Change Column names\n",
    "df_dominant_topics.columns = ['Dominant_Topic', 'Topic_Keywords', 'Num_Documents', 'Perc_Documents']\n",
    "\n",
    "# Show\n",
    "df_dominant_topics.to_csv(\"topics_distribution_severe.csv\")"
   ]
  },
  {
   "cell_type": "code",
   "execution_count": 26,
   "metadata": {},
   "outputs": [
    {
     "data": {
      "image/png": "[encoded data removed]",
      "text/plain": [
       "<PIL.Image.Image image mode=RGB size=400x200 at 0x1F09E40BD00>"
      ]
     },
     "execution_count": 26,
     "metadata": {},
     "output_type": "execute_result"
    }
   ],
   "source": [
    "#Import the wordcloud library\n",
    "from wordcloud import WordCloud\n",
    "\n",
    "# Join the different processed titles together.\n",
    "long_string = str(data)\n",
    "\n",
    "# Create a WordCloud object\n",
    "wordcloud = WordCloud(background_color=\"white\", max_words=1000, contour_width=3, contour_color='steelblue')\n",
    "\n",
    "# Generate a word cloud\n",
    "wordcloud.generate(long_string)\n",
    "\n",
    "# Visualize the word cloud\n",
    "wordcloud.to_image()"
   ]
  },
  {
   "cell_type": "markdown",
   "metadata": {},
   "source": [
    "How to choose the optimal number of the topics?\n",
    "On approach to finding the optimal number of topics is to build many LDA models with different values of number of topics (k) and pick the one that gives the highest coherence value.\n",
    "\n",
    "Choosing a ‘k’ that marks the end of a rapid growth of topic coherence usually offers meaningful and interpretable topics. Picking an even higher value can sometimes provide more granular sub-topics.\n",
    "\n",
    "If you see the same keywords being repeated in multiple topics, it’s probably a sign that the ‘k’ is too large."
   ]
  },
  {
   "cell_type": "code",
   "execution_count": 27,
   "metadata": {},
   "outputs": [
    {
     "name": "stdout",
     "output_type": "stream",
     "text": [
      "2022-03-30 14:55:33.636769\n",
      "#Topics: 1 Score: 0.5038560507782319\n",
      "#Topics: 2 Score: 0.5080074851128853\n",
      "#Topics: 3 Score: 0.47911825509736977\n",
      "#Topics: 4 Score: 0.4386667369264398\n",
      "#Topics: 5 Score: 0.42870961600788754\n",
      "#Topics: 6 Score: 0.43316184211231407\n",
      "#Topics: 7 Score: 0.46539861511028713\n",
      "#Topics: 8 Score: 0.4120428526428367\n",
      "#Topics: 9 Score: 0.41932420305876583\n",
      "#Topics: 10 Score: 0.4590629292346119\n",
      "#Topics: 11 Score: 0.47237078651617775\n",
      "#Topics: 12 Score: 0.4552763767442651\n",
      "#Topics: 13 Score: 0.4817801514805945\n",
      "#Topics: 14 Score: 0.5763226949650828\n",
      "2022-03-30 14:57:21.969697\n"
     ]
    }
   ],
   "source": [
    "# Can take a long time to run. In this case we are going to  k_max=10.\n",
    "import datetime\n",
    "print(datetime.datetime.now())\n",
    "\n",
    "from gensim.models import CoherenceModel\n",
    "\n",
    "model_list = []\n",
    "coherence_values = []\n",
    "model_topics = []\n",
    "\n",
    "for num_topics in range(1, 15, 1):\n",
    "    lda_model = gensim.models.ldamodel.LdaModel(corpus=corpus, id2word=id2word, num_topics=num_topics)\n",
    "#     sg_lda_x = gensim.models.wrappers.LdaMallet(mallet_path, iterations=100, corpus=sg_vecs, num_topics=no_topics, id2word=sg_dictionary)\n",
    "    coherence_model_lda = CoherenceModel(model=lda_model, texts=data_lemmatized, dictionary=id2word, coherence='c_v')\n",
    "    model_topics.append(num_topics)\n",
    "    model_list.append(lda_model)\n",
    "    coherence_values.append(coherence_model_lda.get_coherence())\n",
    "    print(\"#Topics: \" + str(num_topics) + \" Score: \" + str(coherence_model_lda.get_coherence()))\n",
    "\n",
    "print(datetime.datetime.now())"
   ]
  },
  {
   "cell_type": "code",
   "execution_count": 28,
   "metadata": {},
   "outputs": [
    {
     "name": "stdout",
     "output_type": "stream",
     "text": [
      "Num Topics = (0, [('suck', 0.47523808), ('nigger', 0.12203095), ('article', 0.04036301), ('cuntnlu', 0.021311969), ('xdicksx', 0.0091062235), ('ballznigger', 0.008519075), ('widr', 0.008353662), ('seem', 0.007401386), ('good', 0.0061897775), ('redirect', 0.0058719157), ('feature', 0.005418163), ('great', 0.003795044), ('debate', 0.003670456), ('deletion', 0.0036704266), ('write', 0.0036156743)])  has Coherence Value of 0.5038560508\n",
      "Num Topics = (1, [('cunt', 0.14036867), ('smelly', 0.011786922), ('moist', 0.0117862895), ('comment', 0.008699287), ('list', 0.008683369), ('thank', 0.005688899), ('notability', 0.0053991927), ('book', 0.005129698), ('decline', 0.005110502), ('byline', 0.0050980956), ('blog', 0.0050355415), ('unsubstantiated', 0.0049947603), ('minor', 0.0049826195), ('acknowledgment', 0.004920284), ('exactly', 0.004823875)])  has Coherence Value of 0.5080074851\n",
      "Num Topics = (2, [('article', 0.095132105), ('section', 0.011354675), ('first', 0.010888621), ('topic', 0.008439403), ('viewpoint', 0.008439156), ('silly', 0.008439108), ('comment', 0.008144954), ('agree', 0.007621202), ('subject', 0.007428675), ('claim', 0.0074124555), ('look', 0.007246693), ('redirect', 0.0063669616), ('never', 0.00621148), ('discussion', 0.0059925597), ('delete', 0.005810249)])  has Coherence Value of 0.4791182551\n",
      "Num Topics = (3, [('cock', 0.045490474), ('hammersoft', 0.04548971), ('suck', 0.045489073), ('category', 0.038033184), ('cuntnlu', 0.030152498), ('userpage', 0.023117933), ('article', 0.02041203), ('change', 0.016592117), ('texas', 0.015660178), ('give', 0.011867783), ('albedo', 0.011017567), ('notice', 0.0082032075), ('clean', 0.008203138), ('instead', 0.008203007), ('point', 0.008202823)])  has Coherence Value of 0.4386667369\n",
      "Num Topics = (4, [('article', 0.03907548), ('theory', 0.014192171), ('add', 0.013929934), ('decline', 0.011933563), ('link', 0.011776109), ('machine', 0.010688496), ('assembly', 0.009859606), ('fall', 0.009325537), ('use', 0.00929931), ('word', 0.008540112), ('note', 0.00838379), ('change', 0.007962469), ('belarusian', 0.007745269), ('interwiki', 0.0073354268), ('moore', 0.0072386544)])  has Coherence Value of 0.428709616\n",
      "Num Topics = (5, [('article', 0.06091911), ('name', 0.021019125), ('ventura', 0.015801873), ('read', 0.014821802), ('link', 0.012506452), ('engine', 0.011947227), ('write', 0.011842994), ('barry', 0.011646303), ('also', 0.011357388), ('thank', 0.010997194), ('change', 0.010136327), ('add', 0.008758685), ('kasparov', 0.008620864), ('make', 0.008114795), ('silly', 0.0080932975)])  has Coherence Value of 0.4331618421\n",
      "Num Topics = (6, [('vandalizer', 0.47182477), ('cuntnlu', 0.38078693), ('nlu', 0.0051157684), ('article', 0.004119286), ('cunt', 0.004078771), ('belarusian', 0.0019323777), ('jem', 0.001670821), ('assembly', 0.0015506871), ('link', 0.0014736479), ('nazist', 0.0014260672), ('capital', 0.0014128309), ('new', 0.0013991655), ('lithuanian', 0.0013543013), ('city', 0.0013378103), ('note', 0.0012804584)])  has Coherence Value of 0.4653986151\n",
      "Num Topics = (7, [('article', 0.08509978), ('theory', 0.022976344), ('write', 0.018522609), ('conspiracy', 0.015564244), ('consensus', 0.010031182), ('ask', 0.0081531685), ('actively', 0.0081531145), ('unite', 0.0081530465), ('proposal', 0.008153039), ('appear', 0.008153013), ('defend', 0.008153005), ('wikipedia', 0.008152996), ('subcategory', 0.008152968), ('state', 0.008152967), ('look', 0.008152966)])  has Coherence Value of 0.4120428526\n",
      "Num Topics = (8, [('article', 0.058387764), ('use', 0.020091051), ('see', 0.015463249), ('compton', 0.013408207), ('give', 0.012983444), ('title', 0.012794825), ('diacritic', 0.0102897985), ('new', 0.0099248625), ('come', 0.009849285), ('discussion', 0.009238235), ('make', 0.009091067), ('tone', 0.009083023), ('redshift', 0.0090829395), ('misname', 0.009082746), ('term', 0.009082221)])  has Coherence Value of 0.4193242031\n",
      "Num Topics = (9, [('suck', 0.7826148), ('nigger', 0.090131275), ('article', 0.0058325226), ('ballznigger', 0.0038457275), ('nat', 0.0027558731), ('widr', 0.002151834), ('source', 0.0019317253), ('burmese', 0.0018669943), ('murder', 0.0018668105), ('xdicksx', 0.0017692063), ('call', 0.0015198495), ('title', 0.0011388639), ('fix', 0.0010943973), ('keep', 0.0010051567), ('widely', 0.0009779601)])  has Coherence Value of 0.4590629292\n"
     ]
    }
   ],
   "source": [
    "# Print the coherence scores\n",
    "for m, cv in zip(x, coherence_values):\n",
    "    print(\"Num Topics =\", m, \" has Coherence Value of\", round(cv, 10))"
   ]
  },
  {
   "cell_type": "code",
   "execution_count": null,
   "metadata": {},
   "outputs": [],
   "source": []
  }
 ],
 "metadata": {
  "kernelspec": {
   "display_name": "Python 3",
   "language": "python",
   "name": "python3"
  },
  "language_info": {
   "codemirror_mode": {
    "name": "ipython",
    "version": 3
   },
   "file_extension": ".py",
   "mimetype": "text/x-python",
   "name": "python",
   "nbconvert_exporter": "python",
   "pygments_lexer": "ipython3",
   "version": "3.8.5"
  }
 },
 "nbformat": 4,
 "nbformat_minor": 2
}
